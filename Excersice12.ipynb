{
 "cells": [
  {
   "attachments": {},
   "cell_type": "markdown",
   "metadata": {},
   "source": [
    "# Exercise: Improving a logistic regression model\n",
    "\n",
    "In the previous exercise, we fit a simple logistic regression model to predict the chance of an avalanche. This time, we'll improve its performance by using multiple features intelligently.\n",
    "\n",
    "## Data visualisation\n",
    "\n",
    "Let's load our data."
   ]
  },
  {
   "cell_type": "code",
   "execution_count": 1,
   "metadata": {},
   "outputs": [
    {
     "name": "stdout",
     "output_type": "stream",
     "text": [
      "Train size: 821\n",
      "Test size: 274\n",
      "     avalanche  no_visitors  surface_hoar  fresh_thickness  wind  weak_layers  \\\n",
      "176          0            9      5.142447         9.877195     6            8   \n",
      "114          1            3      8.170281         9.136835    34            7   \n",
      "869          0            3      1.979579         9.497017    10            8   \n",
      "775          1            0      1.999078         9.337908    21            6   \n",
      "181          1            9      6.854401         6.099359    22            5   \n",
      "\n",
      "     tracked_out  \n",
      "176            1  \n",
      "114            0  \n",
      "869            0  \n",
      "775            0  \n",
      "181            0  \n"
     ]
    }
   ],
   "source": [
    "import pandas\n",
    "import graphing\n",
    "\n",
    "#Import the data from the .csv file\n",
    "dataset = pandas.read_csv('avalanche.csv', delimiter=\"\\t\", index_col=0)\n",
    "\n",
    "# Split our data into training and test\n",
    "import sklearn.model_selection\n",
    "train, test = sklearn.model_selection.train_test_split(dataset, test_size=0.25, random_state=10)\n",
    "\n",
    "print(\"Train size:\", train.shape[0])\n",
    "print(\"Test size:\", test.shape[0])\n",
    "\n",
    "#Let's have a look at the data\n",
    "print(train.head())"
   ]
  },
  {
   "attachments": {},
   "cell_type": "markdown",
   "metadata": {},
   "source": [
    "We have numerous features available:\n",
    "\n",
    "* `surface_hoar` is how disturbed the surface of the snow is\n",
    "* `fresh_thickness` is how thick the top layer of snow is, or 0 if there's no fresh snow on top\n",
    "* `wind` is the top wind speed that day, in km/h\n",
    "* `weak_layers` is the number of layers of snow that aren't well-bound to other layers\n",
    "* `no_visitors` is the number of hikers who were on the trail that day\n",
    "* `tracked_out` is a `1` or `0`. A `1` means that the snow has been trampled heavily by hikers \n",
    "\n",
    "## Simple logistic regression\n",
    "\n",
    "Let's make a simple logistic regression model and assess its performance with accuracy.\n",
    "\n"
   ]
  },
  {
   "cell_type": "code",
   "execution_count": 2,
   "metadata": {},
   "outputs": [
    {
     "name": "stdout",
     "output_type": "stream",
     "text": [
      "Optimization terminated successfully.\n",
      "         Current function value: 0.616312\n",
      "         Iterations 5\n",
      "Accuracy: 0.6167883211678832\n"
     ]
    }
   ],
   "source": [
    "import sklearn\n",
    "from sklearn.metrics import accuracy_score\n",
    "import statsmodels.formula.api as smf\n",
    "\n",
    "# Perform logistic regression.\n",
    "model = smf.logit(\"avalanche ~ weak_layers\", train).fit()\n",
    "\n",
    "# Calculate accuracy\n",
    "def calculate_accuracy(model):\n",
    "    '''\n",
    "    Calculates accuracy\n",
    "    '''\n",
    "    # Make estimations and convert to categories\n",
    "    avalanche_predicted = model.predict(test) > 0.5\n",
    "\n",
    "    # Calculate what proportion were predicted correctly\n",
    "    # We can use sklearn to calculate accuracy for us\n",
    "    print(\"Accuracy:\", accuracy_score(test.avalanche, avalanche_predicted))\n",
    "\n",
    "calculate_accuracy(model)"
   ]
  },
  {
   "attachments": {},
   "cell_type": "markdown",
   "metadata": {},
   "source": [
    "Let's see how we can improve our model\n",
    "\n",
    "## Utilizing multiple features\n",
    "\n",
    "Most of our features seem like they could be useful, least in theory. Let's try a model with all features we've available."
   ]
  },
  {
   "cell_type": "code",
   "execution_count": 3,
   "metadata": {},
   "outputs": [
    {
     "name": "stdout",
     "output_type": "stream",
     "text": [
      "Optimization terminated successfully.\n",
      "         Current function value: 0.459347\n",
      "         Iterations 7\n",
      "Accuracy: 0.7846715328467153\n"
     ]
    }
   ],
   "source": [
    "# Perform logistic regression.\n",
    "model_all_features = smf.logit(\"avalanche ~ weak_layers + surface_hoar + fresh_thickness + wind + no_visitors + tracked_out\", train).fit()\n",
    "calculate_accuracy(model_all_features)"
   ]
  },
  {
   "cell_type": "code",
   "execution_count": 4,
   "metadata": {},
   "outputs": [
    {
     "data": {
      "text/html": [
       "<table class=\"simpletable\">\n",
       "<caption>Logit Regression Results</caption>\n",
       "<tr>\n",
       "  <th>Dep. Variable:</th>       <td>avalanche</td>    <th>  No. Observations:  </th>  <td>   821</td>  \n",
       "</tr>\n",
       "<tr>\n",
       "  <th>Model:</th>                 <td>Logit</td>      <th>  Df Residuals:      </th>  <td>   814</td>  \n",
       "</tr>\n",
       "<tr>\n",
       "  <th>Method:</th>                 <td>MLE</td>       <th>  Df Model:          </th>  <td>     6</td>  \n",
       "</tr>\n",
       "<tr>\n",
       "  <th>Date:</th>            <td>Tue, 14 Mar 2023</td> <th>  Pseudo R-squ.:     </th>  <td>0.3305</td>  \n",
       "</tr>\n",
       "<tr>\n",
       "  <th>Time:</th>                <td>17:01:45</td>     <th>  Log-Likelihood:    </th> <td> -377.12</td> \n",
       "</tr>\n",
       "<tr>\n",
       "  <th>converged:</th>             <td>True</td>       <th>  LL-Null:           </th> <td> -563.33</td> \n",
       "</tr>\n",
       "<tr>\n",
       "  <th>Covariance Type:</th>     <td>nonrobust</td>    <th>  LLR p-value:       </th> <td>2.372e-77</td>\n",
       "</tr>\n",
       "</table>\n",
       "<table class=\"simpletable\">\n",
       "<tr>\n",
       "         <td></td>            <th>coef</th>     <th>std err</th>      <th>z</th>      <th>P>|z|</th>  <th>[0.025</th>    <th>0.975]</th>  \n",
       "</tr>\n",
       "<tr>\n",
       "  <th>Intercept</th>       <td>   -4.0107</td> <td>    0.443</td> <td>   -9.043</td> <td> 0.000</td> <td>   -4.880</td> <td>   -3.141</td>\n",
       "</tr>\n",
       "<tr>\n",
       "  <th>weak_layers</th>     <td>    0.3733</td> <td>    0.034</td> <td>   10.871</td> <td> 0.000</td> <td>    0.306</td> <td>    0.441</td>\n",
       "</tr>\n",
       "<tr>\n",
       "  <th>surface_hoar</th>    <td>    0.3306</td> <td>    0.035</td> <td>    9.424</td> <td> 0.000</td> <td>    0.262</td> <td>    0.399</td>\n",
       "</tr>\n",
       "<tr>\n",
       "  <th>fresh_thickness</th> <td>   -0.0220</td> <td>    0.030</td> <td>   -0.732</td> <td> 0.464</td> <td>   -0.081</td> <td>    0.037</td>\n",
       "</tr>\n",
       "<tr>\n",
       "  <th>wind</th>            <td>    0.1009</td> <td>    0.009</td> <td>   11.149</td> <td> 0.000</td> <td>    0.083</td> <td>    0.119</td>\n",
       "</tr>\n",
       "<tr>\n",
       "  <th>no_visitors</th>     <td>   -0.1060</td> <td>    0.032</td> <td>   -3.262</td> <td> 0.001</td> <td>   -0.170</td> <td>   -0.042</td>\n",
       "</tr>\n",
       "<tr>\n",
       "  <th>tracked_out</th>     <td>   -0.0664</td> <td>    0.181</td> <td>   -0.367</td> <td> 0.713</td> <td>   -0.420</td> <td>    0.288</td>\n",
       "</tr>\n",
       "</table>"
      ],
      "text/plain": [
       "<class 'statsmodels.iolib.summary.Summary'>\n",
       "\"\"\"\n",
       "                           Logit Regression Results                           \n",
       "==============================================================================\n",
       "Dep. Variable:              avalanche   No. Observations:                  821\n",
       "Model:                          Logit   Df Residuals:                      814\n",
       "Method:                           MLE   Df Model:                            6\n",
       "Date:                Tue, 14 Mar 2023   Pseudo R-squ.:                  0.3305\n",
       "Time:                        17:01:45   Log-Likelihood:                -377.12\n",
       "converged:                       True   LL-Null:                       -563.33\n",
       "Covariance Type:            nonrobust   LLR p-value:                 2.372e-77\n",
       "===================================================================================\n",
       "                      coef    std err          z      P>|z|      [0.025      0.975]\n",
       "-----------------------------------------------------------------------------------\n",
       "Intercept          -4.0107      0.443     -9.043      0.000      -4.880      -3.141\n",
       "weak_layers         0.3733      0.034     10.871      0.000       0.306       0.441\n",
       "surface_hoar        0.3306      0.035      9.424      0.000       0.262       0.399\n",
       "fresh_thickness    -0.0220      0.030     -0.732      0.464      -0.081       0.037\n",
       "wind                0.1009      0.009     11.149      0.000       0.083       0.119\n",
       "no_visitors        -0.1060      0.032     -3.262      0.001      -0.170      -0.042\n",
       "tracked_out        -0.0664      0.181     -0.367      0.713      -0.420       0.288\n",
       "===================================================================================\n",
       "\"\"\""
      ]
     },
     "execution_count": 4,
     "metadata": {},
     "output_type": "execute_result"
    }
   ],
   "source": [
    "model_all_features.summary()"
   ]
  },
  {
   "attachments": {},
   "cell_type": "markdown",
   "metadata": {},
   "source": [
    "Take a look at the P column, recalling that values less than 0.05 mean we can be confident that this parameter is helping the model make better predictions.\n",
    "\n",
    "Both `surface_hoar` and `wind` have very small values here, meaning they're useful predictors and probably explain why our model is working better. If we look at the `coef` (which states _parameters_) column we see that these have positive values. This means that higher winds, and greater amounts of surface hoar result in higher avalanche risk.\n",
    "\n",
    "## Simplifying our model\n",
    "\n",
    "Looking at the summary again, we can see that `tracked_out` (how trampled the snow is), and `fresh_thickness` have large p-values. This means they aren't useful predictors. Let's see what happens if we remove them from our model:"
   ]
  },
  {
   "cell_type": "code",
   "execution_count": 5,
   "metadata": {},
   "outputs": [
    {
     "name": "stdout",
     "output_type": "stream",
     "text": [
      "Optimization terminated successfully.\n",
      "         Current function value: 0.459760\n",
      "         Iterations 7\n",
      "Accuracy: 0.781021897810219\n"
     ]
    }
   ],
   "source": [
    "# Perform logistic regression.\n",
    "model_simplified = smf.logit(\"avalanche ~ weak_layers + surface_hoar + wind + no_visitors\", train).fit()\n",
    "calculate_accuracy(model_simplified)"
   ]
  },
  {
   "attachments": {},
   "cell_type": "markdown",
   "metadata": {},
   "source": [
    "Our new model works very similarly to the old one! In some circumstances simplifying a model like this can even improve it, as it becomes less likely to overfit.\n",
    "\n",
    "## Careful feature selection\n",
    "\n",
    "Usually, we don't just pick features blindly. Let's think about what we've just done - we removed how much fresh snow was in a model, trying to predict avalanches. Something seems off. Surely avalanches are much _more_ likely after it has snowed? Similarly, the number of people on the track seems unrelated to how many avalanches there were, but we know that people often can trigger avalanches.\n",
    "\n",
    "Let's review our earlier model again:"
   ]
  },
  {
   "cell_type": "code",
   "execution_count": 6,
   "metadata": {},
   "outputs": [
    {
     "data": {
      "text/html": [
       "<table class=\"simpletable\">\n",
       "<caption>Logit Regression Results</caption>\n",
       "<tr>\n",
       "  <th>Dep. Variable:</th>       <td>avalanche</td>    <th>  No. Observations:  </th>  <td>   821</td>  \n",
       "</tr>\n",
       "<tr>\n",
       "  <th>Model:</th>                 <td>Logit</td>      <th>  Df Residuals:      </th>  <td>   814</td>  \n",
       "</tr>\n",
       "<tr>\n",
       "  <th>Method:</th>                 <td>MLE</td>       <th>  Df Model:          </th>  <td>     6</td>  \n",
       "</tr>\n",
       "<tr>\n",
       "  <th>Date:</th>            <td>Tue, 14 Mar 2023</td> <th>  Pseudo R-squ.:     </th>  <td>0.3305</td>  \n",
       "</tr>\n",
       "<tr>\n",
       "  <th>Time:</th>                <td>17:04:26</td>     <th>  Log-Likelihood:    </th> <td> -377.12</td> \n",
       "</tr>\n",
       "<tr>\n",
       "  <th>converged:</th>             <td>True</td>       <th>  LL-Null:           </th> <td> -563.33</td> \n",
       "</tr>\n",
       "<tr>\n",
       "  <th>Covariance Type:</th>     <td>nonrobust</td>    <th>  LLR p-value:       </th> <td>2.372e-77</td>\n",
       "</tr>\n",
       "</table>\n",
       "<table class=\"simpletable\">\n",
       "<tr>\n",
       "         <td></td>            <th>coef</th>     <th>std err</th>      <th>z</th>      <th>P>|z|</th>  <th>[0.025</th>    <th>0.975]</th>  \n",
       "</tr>\n",
       "<tr>\n",
       "  <th>Intercept</th>       <td>   -4.0107</td> <td>    0.443</td> <td>   -9.043</td> <td> 0.000</td> <td>   -4.880</td> <td>   -3.141</td>\n",
       "</tr>\n",
       "<tr>\n",
       "  <th>weak_layers</th>     <td>    0.3733</td> <td>    0.034</td> <td>   10.871</td> <td> 0.000</td> <td>    0.306</td> <td>    0.441</td>\n",
       "</tr>\n",
       "<tr>\n",
       "  <th>surface_hoar</th>    <td>    0.3306</td> <td>    0.035</td> <td>    9.424</td> <td> 0.000</td> <td>    0.262</td> <td>    0.399</td>\n",
       "</tr>\n",
       "<tr>\n",
       "  <th>fresh_thickness</th> <td>   -0.0220</td> <td>    0.030</td> <td>   -0.732</td> <td> 0.464</td> <td>   -0.081</td> <td>    0.037</td>\n",
       "</tr>\n",
       "<tr>\n",
       "  <th>wind</th>            <td>    0.1009</td> <td>    0.009</td> <td>   11.149</td> <td> 0.000</td> <td>    0.083</td> <td>    0.119</td>\n",
       "</tr>\n",
       "<tr>\n",
       "  <th>no_visitors</th>     <td>   -0.1060</td> <td>    0.032</td> <td>   -3.262</td> <td> 0.001</td> <td>   -0.170</td> <td>   -0.042</td>\n",
       "</tr>\n",
       "<tr>\n",
       "  <th>tracked_out</th>     <td>   -0.0664</td> <td>    0.181</td> <td>   -0.367</td> <td> 0.713</td> <td>   -0.420</td> <td>    0.288</td>\n",
       "</tr>\n",
       "</table>"
      ],
      "text/plain": [
       "<class 'statsmodels.iolib.summary.Summary'>\n",
       "\"\"\"\n",
       "                           Logit Regression Results                           \n",
       "==============================================================================\n",
       "Dep. Variable:              avalanche   No. Observations:                  821\n",
       "Model:                          Logit   Df Residuals:                      814\n",
       "Method:                           MLE   Df Model:                            6\n",
       "Date:                Tue, 14 Mar 2023   Pseudo R-squ.:                  0.3305\n",
       "Time:                        17:04:26   Log-Likelihood:                -377.12\n",
       "converged:                       True   LL-Null:                       -563.33\n",
       "Covariance Type:            nonrobust   LLR p-value:                 2.372e-77\n",
       "===================================================================================\n",
       "                      coef    std err          z      P>|z|      [0.025      0.975]\n",
       "-----------------------------------------------------------------------------------\n",
       "Intercept          -4.0107      0.443     -9.043      0.000      -4.880      -3.141\n",
       "weak_layers         0.3733      0.034     10.871      0.000       0.306       0.441\n",
       "surface_hoar        0.3306      0.035      9.424      0.000       0.262       0.399\n",
       "fresh_thickness    -0.0220      0.030     -0.732      0.464      -0.081       0.037\n",
       "wind                0.1009      0.009     11.149      0.000       0.083       0.119\n",
       "no_visitors        -0.1060      0.032     -3.262      0.001      -0.170      -0.042\n",
       "tracked_out        -0.0664      0.181     -0.367      0.713      -0.420       0.288\n",
       "===================================================================================\n",
       "\"\"\""
      ]
     },
     "execution_count": 6,
     "metadata": {},
     "output_type": "execute_result"
    }
   ],
   "source": [
    "model_all_features.summary()"
   ]
  },
  {
   "attachments": {},
   "cell_type": "markdown",
   "metadata": {},
   "source": [
    "Look at the `fresh_thickness` row. We're told that it has a negative coefficient. This means that as thickness increases, avalanches decrease.\n",
    "\n",
    "Similarly, `no_visitors` has a negative coefficient, meaning that fewer hikers means more avalanches.\n",
    "\n",
    "How can this bes? Well, while visitors can cause avalanches if there's a lot of fresh snow, presumably they cannot do so easily if there's no fresh snow. This means that our features aren't fully independent.\n",
    "\n",
    "We can tell the model to try to take into account that these features interact, using a multiply sign. Let's try that now."
   ]
  },
  {
   "cell_type": "code",
   "execution_count": 7,
   "metadata": {},
   "outputs": [
    {
     "name": "stdout",
     "output_type": "stream",
     "text": [
      "Optimization terminated successfully.\n",
      "         Current function value: 0.413538\n",
      "         Iterations 7\n",
      "Accuracy: 0.8357664233576643\n"
     ]
    }
   ],
   "source": [
    "# Create a model with an interaction. Notice the end of the string where\n",
    "# we've a multiply sign between no_visitors and fresh_thickness\n",
    "formula = \"avalanche ~ weak_layers + surface_hoar + wind + no_visitors * fresh_thickness\"\n",
    "model_with_interaction = smf.logit(formula, train).fit()\n",
    "calculate_accuracy(model_with_interaction)"
   ]
  },
  {
   "cell_type": "code",
   "execution_count": 8,
   "metadata": {},
   "outputs": [
    {
     "data": {
      "text/html": [
       "<table class=\"simpletable\">\n",
       "<caption>Logit Regression Results</caption>\n",
       "<tr>\n",
       "  <th>Dep. Variable:</th>       <td>avalanche</td>    <th>  No. Observations:  </th>  <td>   821</td>  \n",
       "</tr>\n",
       "<tr>\n",
       "  <th>Model:</th>                 <td>Logit</td>      <th>  Df Residuals:      </th>  <td>   814</td>  \n",
       "</tr>\n",
       "<tr>\n",
       "  <th>Method:</th>                 <td>MLE</td>       <th>  Df Model:          </th>  <td>     6</td>  \n",
       "</tr>\n",
       "<tr>\n",
       "  <th>Date:</th>            <td>Tue, 14 Mar 2023</td> <th>  Pseudo R-squ.:     </th>  <td>0.3973</td>  \n",
       "</tr>\n",
       "<tr>\n",
       "  <th>Time:</th>                <td>17:05:55</td>     <th>  Log-Likelihood:    </th> <td> -339.51</td> \n",
       "</tr>\n",
       "<tr>\n",
       "  <th>converged:</th>             <td>True</td>       <th>  LL-Null:           </th> <td> -563.33</td> \n",
       "</tr>\n",
       "<tr>\n",
       "  <th>Covariance Type:</th>     <td>nonrobust</td>    <th>  LLR p-value:       </th> <td>1.587e-93</td>\n",
       "</tr>\n",
       "</table>\n",
       "<table class=\"simpletable\">\n",
       "<tr>\n",
       "               <td></td>                  <th>coef</th>     <th>std err</th>      <th>z</th>      <th>P>|z|</th>  <th>[0.025</th>    <th>0.975]</th>  \n",
       "</tr>\n",
       "<tr>\n",
       "  <th>Intercept</th>                   <td>   -0.9606</td> <td>    0.587</td> <td>   -1.636</td> <td> 0.102</td> <td>   -2.111</td> <td>    0.190</td>\n",
       "</tr>\n",
       "<tr>\n",
       "  <th>weak_layers</th>                 <td>    0.4327</td> <td>    0.039</td> <td>   11.193</td> <td> 0.000</td> <td>    0.357</td> <td>    0.508</td>\n",
       "</tr>\n",
       "<tr>\n",
       "  <th>surface_hoar</th>                <td>    0.3887</td> <td>    0.039</td> <td>   10.035</td> <td> 0.000</td> <td>    0.313</td> <td>    0.465</td>\n",
       "</tr>\n",
       "<tr>\n",
       "  <th>wind</th>                        <td>    0.1204</td> <td>    0.010</td> <td>   11.607</td> <td> 0.000</td> <td>    0.100</td> <td>    0.141</td>\n",
       "</tr>\n",
       "<tr>\n",
       "  <th>no_visitors</th>                 <td>   -0.9430</td> <td>    0.114</td> <td>   -8.237</td> <td> 0.000</td> <td>   -1.167</td> <td>   -0.719</td>\n",
       "</tr>\n",
       "<tr>\n",
       "  <th>fresh_thickness</th>             <td>   -0.4962</td> <td>    0.069</td> <td>   -7.191</td> <td> 0.000</td> <td>   -0.631</td> <td>   -0.361</td>\n",
       "</tr>\n",
       "<tr>\n",
       "  <th>no_visitors:fresh_thickness</th> <td>    0.1015</td> <td>    0.013</td> <td>    7.835</td> <td> 0.000</td> <td>    0.076</td> <td>    0.127</td>\n",
       "</tr>\n",
       "</table>"
      ],
      "text/plain": [
       "<class 'statsmodels.iolib.summary.Summary'>\n",
       "\"\"\"\n",
       "                           Logit Regression Results                           \n",
       "==============================================================================\n",
       "Dep. Variable:              avalanche   No. Observations:                  821\n",
       "Model:                          Logit   Df Residuals:                      814\n",
       "Method:                           MLE   Df Model:                            6\n",
       "Date:                Tue, 14 Mar 2023   Pseudo R-squ.:                  0.3973\n",
       "Time:                        17:05:55   Log-Likelihood:                -339.51\n",
       "converged:                       True   LL-Null:                       -563.33\n",
       "Covariance Type:            nonrobust   LLR p-value:                 1.587e-93\n",
       "===============================================================================================\n",
       "                                  coef    std err          z      P>|z|      [0.025      0.975]\n",
       "-----------------------------------------------------------------------------------------------\n",
       "Intercept                      -0.9606      0.587     -1.636      0.102      -2.111       0.190\n",
       "weak_layers                     0.4327      0.039     11.193      0.000       0.357       0.508\n",
       "surface_hoar                    0.3887      0.039     10.035      0.000       0.313       0.465\n",
       "wind                            0.1204      0.010     11.607      0.000       0.100       0.141\n",
       "no_visitors                    -0.9430      0.114     -8.237      0.000      -1.167      -0.719\n",
       "fresh_thickness                -0.4962      0.069     -7.191      0.000      -0.631      -0.361\n",
       "no_visitors:fresh_thickness     0.1015      0.013      7.835      0.000       0.076       0.127\n",
       "===============================================================================================\n",
       "\"\"\""
      ]
     },
     "execution_count": 8,
     "metadata": {},
     "output_type": "execute_result"
    }
   ],
   "source": [
    "model_with_interaction.summary()"
   ]
  },
  {
   "attachments": {},
   "cell_type": "markdown",
   "metadata": {},
   "source": [
    "We can see that the interaction term is helpful - the p-value is less than 0.05. The model is also performing better than our previous attempts.\n",
    "\n",
    "## Making predictions with multiple features\n",
    "\n",
    "Very quickly, lets explore what this interaction means by looking at model predictions. \n",
    "\n",
    "We will first graph two independent features in 3D. Let's start with `weak_layers` and `wind`:"
   ]
  },
  {
   "cell_type": "code",
   "execution_count": 9,
   "metadata": {},
   "outputs": [
    {
     "name": "stdout",
     "output_type": "stream",
     "text": [
      "Creating plot...\n"
     ]
    },
    {
     "data": {
      "application/vnd.plotly.v1+json": {
       "config": {
        "plotlyServerURL": "https://plot.ly"
       },
       "data": [
        {
         "colorbar": {
          "title": {
           "text": "Probability"
          }
         },
         "type": "surface",
         "x": [
          0,
          0.5263157894736842,
          1.0526315789473684,
          1.5789473684210527,
          2.1052631578947367,
          2.631578947368421,
          3.1578947368421053,
          3.6842105263157894,
          4.2105263157894735,
          4.7368421052631575,
          5.263157894736842,
          5.789473684210526,
          6.315789473684211,
          6.842105263157895,
          7.368421052631579,
          7.894736842105263,
          8.421052631578947,
          8.947368421052632,
          9.473684210526315,
          10
         ],
         "y": [
          0,
          2.1052631578947367,
          4.2105263157894735,
          6.315789473684211,
          8.421052631578947,
          10.526315789473683,
          12.631578947368421,
          14.736842105263158,
          16.842105263157894,
          18.94736842105263,
          21.052631578947366,
          23.157894736842103,
          25.263157894736842,
          27.36842105263158,
          29.473684210526315,
          31.57894736842105,
          33.68421052631579,
          35.78947368421053,
          37.89473684210526,
          40
         ],
         "z": [
          [
           0.016645957693825087,
           0.02081484060785146,
           0.026000190304536944,
           0.03243451515124589,
           0.04039511781818853,
           0.05020815410053433,
           0.06225039288074413,
           0.07694692468937203,
           0.09476250165120648,
           0.1161837409428992,
           0.1416893641060462,
           0.17170638939602198,
           0.20655222561309108,
           0.24636626991052754,
           0.29103969552726167,
           0.34015746366473854,
           0.39296991307768325,
           0.44840975304477515,
           0.5051621313818825,
           0.561781795733499
          ],
          [
           0.0213462508740464,
           0.026660379959860356,
           0.03325250563605883,
           0.041405281377053654,
           0.05145055573832173,
           0.06377077263590875,
           0.07879608612711338,
           0.09699481187948712,
           0.118854414535607,
           0.14485023834257188,
           0.17540005473580336,
           0.21080470437300508,
           0.25117895093436404,
           0.29638185739363876,
           0.3459612480826015,
           0.39912972998722396,
           0.4547875196929469,
           0.5115984217991137,
           0.5681112654228488,
           0.6229049297479148
          ],
          [
           0.027336862478350977,
           0.03409039879613444,
           0.04243958896130539,
           0.052721994099017865,
           0.06532569878550107,
           0.08068580151860125,
           0.0992739414653304,
           0.12157803313485405,
           0.14806946226643575,
           0.17915599039593888,
           0.21512099616532973,
           0.25605370392682886,
           0.30178033714576585,
           0.35181125964278315,
           0.4053216310213684,
           0.4611801546828429,
           0.5180308686491495,
           0.5744185707699188,
           0.6289346881541374,
           0.6803534544597577
          ],
          [
           0.03494864184455922,
           0.04349856121946095,
           0.054023062601541175,
           0.06691582893685828,
           0.08261677228887326,
           0.1016005992232757,
           0.12435525671790355,
           0.15134756941626804,
           0.1829745073928465,
           0.21950108471615506,
           0.26099008991842876,
           0.3072342118701479,
           0.35770609018974564,
           0.4115437987197178,
           0.4675855834184383,
           0.524457344859097,
           0.5807017480046248,
           0.6349245385796638,
           0.6859277746666799,
           0.7328041649648123
          ],
          [
           0.04458272717896007,
           0.055354362536169724,
           0.06854182693460971,
           0.08458970286525135,
           0.10397549166090815,
           0.12718673524693103,
           0.15468507326418152,
           0.18685588500277092,
           0.22394491033866606,
           0.26598761738704646,
           0.3127425025115835,
           0.363644279967419,
           0.4177943776476824,
           0.4740017144933723,
           0.5308757312572933,
           0.5869588642866026,
           0.6408729098191849,
           0.6914489707921982,
           0.7378162846035232,
           0.7794384064287005
          ],
          [
           0.05671650294461091,
           0.07020436258436753,
           0.08660530018906322,
           0.10639932223086009,
           0.13007310764345906,
           0.15808246595543152,
           0.1908003694020348,
           0.2284523687181848,
           0.27104574151765165,
           0.3183041739425834,
           0.36962431870940826,
           0.4240714764669755,
           0.48042644240012167,
           0.5372839193601386,
           0.5931880199809336,
           0.6467782796614671,
           0.6969159942763316,
           0.7427673886102316,
           0.7838337961072348,
           0.8199334554749753
          ],
          [
           0.07190411135523361,
           0.08866427320006477,
           0.10887279055148742,
           0.1330150007326357,
           0.16154021702806476,
           0.19480817230942873,
           0.23302330973331412,
           0.2761638635378258,
           0.32391813514133755,
           0.37564464684767696,
           0.4303731701007749,
           0.4868576502785504,
           0.5436798141289764,
           0.5993873508453103,
           0.6526391761263507,
           0.7023278525986819,
           0.7476569727396456,
           0.7881653993443138,
           0.8237043806463827,
           0.8543826343307095
          ],
          [
           0.09076733229295487,
           0.11139659159602479,
           0.13601302815798516,
           0.16505877211442146,
           0.19887946963403855,
           0.23765753631756997,
           0.28134133013343915,
           0.3295832394807805,
           0.38170365683881285,
           0.436697501988672,
           0.4932932126962613,
           0.5500613366893953,
           0.6055550301236682,
           0.658454178583442,
           0.7076836093736508,
           0.7524845854834106,
           0.7924331895614499,
           0.8274129580459251,
           0.857557460180735,
           0.883180210148344
          ],
          [
           0.11397141485009543,
           0.1390677892673764,
           0.16863855162652067,
           0.2030144001319638,
           0.24235480336595178,
           0.28657743294872134,
           0.3352982851309857,
           0.38779969460651376,
           0.4430424864261319,
           0.4997309984530129,
           0.5564264270055198,
           0.6116892705417272,
           0.6642219187519384,
           0.7129823843392429,
           0.7572498272751562,
           0.7966371826481413,
           0.8310595219050165,
           0.8606743545154303,
           0.8858110901652293,
           0.9069032764599655
          ],
          [
           0.14217986797108437,
           0.1722799494275143,
           0.2072130640755325,
           0.24711481669095225,
           0.2918714081748179,
           0.34106201557677507,
           0.3939310610984771,
           0.4494061109827991,
           0.5061688734013626,
           0.5627730465020618,
           0.6177883262003099,
           0.6699410815814573,
           0.7182233532425084,
           0.7619523496275621,
           0.8007774356937651,
           0.8346444358063169,
           0.863733883197193,
           0.8883902080802186,
           0.9090549085911791,
           0.9262113037878474
          ],
          [
           0.1759833314915645,
           0.21147552193875396,
           0.2519372320325446,
           0.2972224362307824,
           0.34687312025207506,
           0.4000960139554222,
           0.4557863389936233,
           0.5126047032756066,
           0.5690991806271594,
           0.6238504943627535,
           0.6756104060141773,
           0.7234057476249416,
           0.766591854205972,
           0.8048540456950111,
           0.8381680913339092,
           0.8667366287937117,
           0.8909182464449444,
           0.911161683904071,
           0.9279521440586539,
           0.9417720006578866
          ],
          [
           0.21580179310289027,
           0.25682165412669655,
           0.3026296415407732,
           0.3527302352921668,
           0.4062927692894987,
           0.4621811121164427,
           0.5190363565210502,
           0.5754028413493048,
           0.6298741171331826,
           0.6812286856290085,
           0.7285288545113715,
           0.7711680918430948,
           0.8088671482428635,
           0.8416309067323197,
           0.8696831894069272,
           0.8933958942473216,
           0.9132243137232935,
           0.9296550332720765,
           0.9431682550481996,
           0.954213445875353
          ],
          [
           0.26176763583696283,
           0.3080920924110046,
           0.35863194440457974,
           0.4125195035688896,
           0.46858835294935103,
           0.5254617071156502,
           0.5816820695819708,
           0.6358575830228644,
           0.6867947691689026,
           0.7335920160060942,
           0.775680861499352,
           0.8128169161930289,
           0.8450333255769138,
           0.8725741775288057,
           0.895823846034714,
           0.9152435085396288,
           0.9313206526727138,
           0.9445330004356005,
           0.955325517723023,
           0.9640978962737138
          ],
          [
           0.313608801009793,
           0.3645767798589709,
           0.41877435560496273,
           0.4750059677008966,
           0.5318786373760892,
           0.5879349375298795,
           0.6417993284023285,
           0.6923075609528092,
           0.7385946288001815,
           0.7801300091734074,
           0.8167035583235579,
           0.8483758154580294,
           0.8754102189249392,
           0.8982028010687955,
           0.9172199774356153,
           0.9329496781887813,
           0.9458668541081956,
           0.956411813192564,
           0.9649787040389304,
           0.9719112944640012
          ],
          [
           0.3705632235958999,
           0.4250554286378745,
           0.4814318489059053,
           0.5382850407404354,
           0.5941595509512243,
           0.6476978388374041,
           0.6977660211741306,
           0.7435361435940515,
           0.7845154267673813,
           0.8205273179832826,
           0.8516588666810544,
           0.8781919515468612,
           0.9005334625120655,
           0.9191544275397019,
           0.9345427801108466,
           0.9471704257495396,
           0.9574728703739548,
           0.9658386681162755,
           0.9726058582162337,
           0.9780629493614907
          ],
          [
           0.43136079251610393,
           0.4878638781795083,
           0.5446788245196433,
           0.6003540513305256,
           0.6535516503077713,
           0.7031691660878786,
           0.7484160644395241,
           0.7888370509112103,
           0.8242884717345302,
           0.8548829909844837,
           0.8809200244738328,
           0.9028165366458969,
           0.9210475635083619,
           0.9361006227925329,
           0.9484443173024492,
           0.958509218994293,
           0.9666782445653918,
           0.9732837192447673,
           0.9786087459777619,
           0.9828910582158095
          ],
          [
           0.4942999290017696,
           0.5510579126103023,
           0.6065166179572107,
           0.6593593503070884,
           0.7085160680890586,
           0.7532339480057015,
           0.7930948617505401,
           0.8279873279934331,
           0.8580487202778405,
           0.8835950968847349,
           0.9050527321199291,
           0.9229000870355565,
           0.9376238643724679,
           0.9496891228478452,
           0.9595213804025993,
           0.9674978812793721,
           0.9739452561140353,
           0.9791412527088453,
           0.9833187796263508,
           0.9866710334833123
          ],
          [
           0.5574202481612275,
           0.6126454699054306,
           0.6651195788242045,
           0.7138058556851002,
           0.7579894027730835,
           0.7972888817024616,
           0.8316242256709865,
           0.8611566054011814,
           0.886217837060591,
           0.9072427592325494,
           0.924712696388919,
           0.9391131565167516,
           0.950905428497973,
           0.9605098675638244,
           0.9682980180398959,
           0.9745908399409995,
           0.9796607789064213,
           0.9837359849930212,
           0.9870055053241357,
           0.9896246930062356
          ],
          [
           0.6187388679110466,
           0.670831029205397,
           0.7190377133654295,
           0.7626820881604135,
           0.8014191741833102,
           0.8351995328178564,
           0.8642072149077571,
           0.888788921418126,
           0.9093873292421425,
           0.926486085972001,
           0.9405691441812263,
           0.9520938123033512,
           0.9614751850615483,
           0.9690790865772716,
           0.975220834484881,
           0.9801676274236324,
           0.9841429241199448,
           0.9873316918230046,
           0.9898858066476875,
           0.9919291842124516
          ],
          [
           0.6764924488980054,
           0.7242108813715353,
           0.7673117135887769,
           0.8054858423126383,
           0.8387136452757654,
           0.867201133871246,
           0.8913090335746723,
           0.9114871537087417,
           0.9282209459119153,
           0.9419924653928231,
           0.9532548441728245,
           0.9624178291088816,
           0.9698415106350348,
           0.9758355962389341,
           0.9806620947164298,
           0.9845398413099923,
           0.9876497928747765,
           0.9901404143557498,
           0.9921327621613009,
           0.9937250633679068
          ]
         ]
        }
       ],
       "layout": {
        "scene": {
         "xaxis": {
          "title": {
           "text": "weak_layers"
          }
         },
         "yaxis": {
          "title": {
           "text": "wind"
          }
         },
         "zaxis": {
          "title": {
           "text": "Probability"
          }
         }
        },
        "template": {
         "data": {
          "bar": [
           {
            "error_x": {
             "color": "#2a3f5f"
            },
            "error_y": {
             "color": "#2a3f5f"
            },
            "marker": {
             "line": {
              "color": "white",
              "width": 0.5
             },
             "pattern": {
              "fillmode": "overlay",
              "size": 10,
              "solidity": 0.2
             }
            },
            "type": "bar"
           }
          ],
          "barpolar": [
           {
            "marker": {
             "line": {
              "color": "white",
              "width": 0.5
             },
             "pattern": {
              "fillmode": "overlay",
              "size": 10,
              "solidity": 0.2
             }
            },
            "type": "barpolar"
           }
          ],
          "box": [
           {
            "boxpoints": "outliers",
            "notched": false,
            "type": "box"
           }
          ],
          "carpet": [
           {
            "aaxis": {
             "endlinecolor": "#2a3f5f",
             "gridcolor": "#C8D4E3",
             "linecolor": "#C8D4E3",
             "minorgridcolor": "#C8D4E3",
             "startlinecolor": "#2a3f5f"
            },
            "baxis": {
             "endlinecolor": "#2a3f5f",
             "gridcolor": "#C8D4E3",
             "linecolor": "#C8D4E3",
             "minorgridcolor": "#C8D4E3",
             "startlinecolor": "#2a3f5f"
            },
            "type": "carpet"
           }
          ],
          "choropleth": [
           {
            "colorbar": {
             "outlinewidth": 0,
             "ticks": ""
            },
            "type": "choropleth"
           }
          ],
          "contour": [
           {
            "colorbar": {
             "outlinewidth": 0,
             "ticks": ""
            },
            "colorscale": [
             [
              0,
              "#0d0887"
             ],
             [
              0.1111111111111111,
              "#46039f"
             ],
             [
              0.2222222222222222,
              "#7201a8"
             ],
             [
              0.3333333333333333,
              "#9c179e"
             ],
             [
              0.4444444444444444,
              "#bd3786"
             ],
             [
              0.5555555555555556,
              "#d8576b"
             ],
             [
              0.6666666666666666,
              "#ed7953"
             ],
             [
              0.7777777777777778,
              "#fb9f3a"
             ],
             [
              0.8888888888888888,
              "#fdca26"
             ],
             [
              1,
              "#f0f921"
             ]
            ],
            "type": "contour"
           }
          ],
          "contourcarpet": [
           {
            "colorbar": {
             "outlinewidth": 0,
             "ticks": ""
            },
            "type": "contourcarpet"
           }
          ],
          "heatmap": [
           {
            "colorbar": {
             "outlinewidth": 0,
             "ticks": ""
            },
            "colorscale": [
             [
              0,
              "#0d0887"
             ],
             [
              0.1111111111111111,
              "#46039f"
             ],
             [
              0.2222222222222222,
              "#7201a8"
             ],
             [
              0.3333333333333333,
              "#9c179e"
             ],
             [
              0.4444444444444444,
              "#bd3786"
             ],
             [
              0.5555555555555556,
              "#d8576b"
             ],
             [
              0.6666666666666666,
              "#ed7953"
             ],
             [
              0.7777777777777778,
              "#fb9f3a"
             ],
             [
              0.8888888888888888,
              "#fdca26"
             ],
             [
              1,
              "#f0f921"
             ]
            ],
            "type": "heatmap"
           }
          ],
          "heatmapgl": [
           {
            "colorbar": {
             "outlinewidth": 0,
             "ticks": ""
            },
            "colorscale": [
             [
              0,
              "#0d0887"
             ],
             [
              0.1111111111111111,
              "#46039f"
             ],
             [
              0.2222222222222222,
              "#7201a8"
             ],
             [
              0.3333333333333333,
              "#9c179e"
             ],
             [
              0.4444444444444444,
              "#bd3786"
             ],
             [
              0.5555555555555556,
              "#d8576b"
             ],
             [
              0.6666666666666666,
              "#ed7953"
             ],
             [
              0.7777777777777778,
              "#fb9f3a"
             ],
             [
              0.8888888888888888,
              "#fdca26"
             ],
             [
              1,
              "#f0f921"
             ]
            ],
            "type": "heatmapgl"
           }
          ],
          "histogram": [
           {
            "marker": {
             "line": {
              "width": 1
             },
             "pattern": {
              "fillmode": "overlay",
              "size": 10,
              "solidity": 0.2
             }
            },
            "type": "histogram"
           }
          ],
          "histogram2d": [
           {
            "colorbar": {
             "outlinewidth": 0,
             "ticks": ""
            },
            "colorscale": [
             [
              0,
              "#0d0887"
             ],
             [
              0.1111111111111111,
              "#46039f"
             ],
             [
              0.2222222222222222,
              "#7201a8"
             ],
             [
              0.3333333333333333,
              "#9c179e"
             ],
             [
              0.4444444444444444,
              "#bd3786"
             ],
             [
              0.5555555555555556,
              "#d8576b"
             ],
             [
              0.6666666666666666,
              "#ed7953"
             ],
             [
              0.7777777777777778,
              "#fb9f3a"
             ],
             [
              0.8888888888888888,
              "#fdca26"
             ],
             [
              1,
              "#f0f921"
             ]
            ],
            "type": "histogram2d"
           }
          ],
          "histogram2dcontour": [
           {
            "colorbar": {
             "outlinewidth": 0,
             "ticks": ""
            },
            "colorscale": [
             [
              0,
              "#0d0887"
             ],
             [
              0.1111111111111111,
              "#46039f"
             ],
             [
              0.2222222222222222,
              "#7201a8"
             ],
             [
              0.3333333333333333,
              "#9c179e"
             ],
             [
              0.4444444444444444,
              "#bd3786"
             ],
             [
              0.5555555555555556,
              "#d8576b"
             ],
             [
              0.6666666666666666,
              "#ed7953"
             ],
             [
              0.7777777777777778,
              "#fb9f3a"
             ],
             [
              0.8888888888888888,
              "#fdca26"
             ],
             [
              1,
              "#f0f921"
             ]
            ],
            "type": "histogram2dcontour"
           }
          ],
          "mesh3d": [
           {
            "colorbar": {
             "outlinewidth": 0,
             "ticks": ""
            },
            "type": "mesh3d"
           }
          ],
          "parcoords": [
           {
            "line": {
             "colorbar": {
              "outlinewidth": 0,
              "ticks": ""
             }
            },
            "type": "parcoords"
           }
          ],
          "pie": [
           {
            "automargin": true,
            "type": "pie"
           }
          ],
          "scatter": [
           {
            "fillpattern": {
             "fillmode": "overlay",
             "size": 10,
             "solidity": 0.2
            },
            "marker": {
             "opacity": 0.8
            },
            "type": "scatter"
           }
          ],
          "scatter3d": [
           {
            "line": {
             "colorbar": {
              "outlinewidth": 0,
              "ticks": ""
             }
            },
            "marker": {
             "colorbar": {
              "outlinewidth": 0,
              "ticks": ""
             },
             "opacity": 0.8
            },
            "type": "scatter3d"
           }
          ],
          "scattercarpet": [
           {
            "marker": {
             "colorbar": {
              "outlinewidth": 0,
              "ticks": ""
             }
            },
            "type": "scattercarpet"
           }
          ],
          "scattergeo": [
           {
            "marker": {
             "colorbar": {
              "outlinewidth": 0,
              "ticks": ""
             }
            },
            "type": "scattergeo"
           }
          ],
          "scattergl": [
           {
            "marker": {
             "colorbar": {
              "outlinewidth": 0,
              "ticks": ""
             }
            },
            "type": "scattergl"
           }
          ],
          "scattermapbox": [
           {
            "marker": {
             "colorbar": {
              "outlinewidth": 0,
              "ticks": ""
             }
            },
            "type": "scattermapbox"
           }
          ],
          "scatterpolar": [
           {
            "marker": {
             "colorbar": {
              "outlinewidth": 0,
              "ticks": ""
             }
            },
            "type": "scatterpolar"
           }
          ],
          "scatterpolargl": [
           {
            "marker": {
             "colorbar": {
              "outlinewidth": 0,
              "ticks": ""
             }
            },
            "type": "scatterpolargl"
           }
          ],
          "scatterternary": [
           {
            "marker": {
             "colorbar": {
              "outlinewidth": 0,
              "ticks": ""
             }
            },
            "type": "scatterternary"
           }
          ],
          "surface": [
           {
            "colorbar": {
             "outlinewidth": 0,
             "ticks": ""
            },
            "colorscale": [
             [
              0,
              "#0d0887"
             ],
             [
              0.1111111111111111,
              "#46039f"
             ],
             [
              0.2222222222222222,
              "#7201a8"
             ],
             [
              0.3333333333333333,
              "#9c179e"
             ],
             [
              0.4444444444444444,
              "#bd3786"
             ],
             [
              0.5555555555555556,
              "#d8576b"
             ],
             [
              0.6666666666666666,
              "#ed7953"
             ],
             [
              0.7777777777777778,
              "#fb9f3a"
             ],
             [
              0.8888888888888888,
              "#fdca26"
             ],
             [
              1,
              "#f0f921"
             ]
            ],
            "type": "surface"
           }
          ],
          "table": [
           {
            "cells": {
             "fill": {
              "color": "#EBF0F8"
             },
             "line": {
              "color": "white"
             }
            },
            "header": {
             "fill": {
              "color": "#C8D4E3"
             },
             "line": {
              "color": "white"
             }
            },
            "type": "table"
           }
          ]
         },
         "layout": {
          "annotationdefaults": {
           "arrowcolor": "#2a3f5f",
           "arrowhead": 0,
           "arrowwidth": 1
          },
          "autotypenumbers": "strict",
          "coloraxis": {
           "colorbar": {
            "outlinewidth": 0,
            "ticks": ""
           }
          },
          "colorscale": {
           "diverging": [
            [
             0,
             "#8e0152"
            ],
            [
             0.1,
             "#c51b7d"
            ],
            [
             0.2,
             "#de77ae"
            ],
            [
             0.3,
             "#f1b6da"
            ],
            [
             0.4,
             "#fde0ef"
            ],
            [
             0.5,
             "#f7f7f7"
            ],
            [
             0.6,
             "#e6f5d0"
            ],
            [
             0.7,
             "#b8e186"
            ],
            [
             0.8,
             "#7fbc41"
            ],
            [
             0.9,
             "#4d9221"
            ],
            [
             1,
             "#276419"
            ]
           ],
           "sequential": [
            [
             0,
             "#0d0887"
            ],
            [
             0.1111111111111111,
             "#46039f"
            ],
            [
             0.2222222222222222,
             "#7201a8"
            ],
            [
             0.3333333333333333,
             "#9c179e"
            ],
            [
             0.4444444444444444,
             "#bd3786"
            ],
            [
             0.5555555555555556,
             "#d8576b"
            ],
            [
             0.6666666666666666,
             "#ed7953"
            ],
            [
             0.7777777777777778,
             "#fb9f3a"
            ],
            [
             0.8888888888888888,
             "#fdca26"
            ],
            [
             1,
             "#f0f921"
            ]
           ],
           "sequentialminus": [
            [
             0,
             "#0d0887"
            ],
            [
             0.1111111111111111,
             "#46039f"
            ],
            [
             0.2222222222222222,
             "#7201a8"
            ],
            [
             0.3333333333333333,
             "#9c179e"
            ],
            [
             0.4444444444444444,
             "#bd3786"
            ],
            [
             0.5555555555555556,
             "#d8576b"
            ],
            [
             0.6666666666666666,
             "#ed7953"
            ],
            [
             0.7777777777777778,
             "#fb9f3a"
            ],
            [
             0.8888888888888888,
             "#fdca26"
            ],
            [
             1,
             "#f0f921"
            ]
           ]
          },
          "colorway": [
           "#636efa",
           "#EF553B",
           "#00cc96",
           "#ab63fa",
           "#FFA15A",
           "#19d3f3",
           "#FF6692",
           "#B6E880",
           "#FF97FF",
           "#FECB52"
          ],
          "font": {
           "color": "#2a3f5f"
          },
          "geo": {
           "bgcolor": "white",
           "lakecolor": "white",
           "landcolor": "white",
           "showlakes": true,
           "showland": true,
           "subunitcolor": "#C8D4E3"
          },
          "height": 400,
          "hoverlabel": {
           "align": "left"
          },
          "hovermode": "closest",
          "mapbox": {
           "style": "light"
          },
          "margin": {
           "b": 2,
           "l": 2,
           "r": 2,
           "t": 30
          },
          "paper_bgcolor": "white",
          "plot_bgcolor": "white",
          "polar": {
           "angularaxis": {
            "gridcolor": "#EBF0F8",
            "linecolor": "#EBF0F8",
            "ticks": ""
           },
           "bgcolor": "white",
           "radialaxis": {
            "gridcolor": "#EBF0F8",
            "linecolor": "#EBF0F8",
            "ticks": ""
           }
          },
          "scene": {
           "camera": {
            "eye": {
             "x": 1.5,
             "y": 1.5,
             "z": 0.1
            }
           },
           "xaxis": {
            "backgroundcolor": "white",
            "gridcolor": "#DFE8F3",
            "gridwidth": 2,
            "linecolor": "#EBF0F8",
            "showbackground": true,
            "ticks": "",
            "zerolinecolor": "#EBF0F8"
           },
           "yaxis": {
            "backgroundcolor": "white",
            "gridcolor": "#DFE8F3",
            "gridwidth": 2,
            "linecolor": "#EBF0F8",
            "showbackground": true,
            "ticks": "",
            "zerolinecolor": "#EBF0F8"
           },
           "zaxis": {
            "backgroundcolor": "white",
            "gridcolor": "#DFE8F3",
            "gridwidth": 2,
            "linecolor": "#EBF0F8",
            "showbackground": true,
            "ticks": "",
            "zerolinecolor": "#EBF0F8"
           }
          },
          "shapedefaults": {
           "line": {
            "color": "#2a3f5f"
           }
          },
          "ternary": {
           "aaxis": {
            "gridcolor": "#DFE8F3",
            "linecolor": "#A2B1C6",
            "ticks": ""
           },
           "baxis": {
            "gridcolor": "#DFE8F3",
            "linecolor": "#A2B1C6",
            "ticks": ""
           },
           "bgcolor": "white",
           "caxis": {
            "gridcolor": "#DFE8F3",
            "linecolor": "#A2B1C6",
            "ticks": ""
           }
          },
          "title": {
           "x": 0.5
          },
          "xaxis": {
           "automargin": true,
           "gridcolor": "#EBF0F8",
           "linecolor": "#EBF0F8",
           "linewidth": 2,
           "showline": true,
           "ticks": "",
           "title": {
            "standoff": 15
           },
           "zerolinecolor": "#EBF0F8",
           "zerolinewidth": 2
          },
          "yaxis": {
           "automargin": true,
           "gridcolor": "#EBF0F8",
           "linecolor": "#EBF0F8",
           "linewidth": 2,
           "showline": true,
           "ticks": "",
           "title": {
            "standoff": 15
           },
           "zerolinecolor": "#EBF0F8",
           "zerolinewidth": 2
          }
         }
        },
        "title": {
         "text": "Model Prediction"
        }
       }
      }
     },
     "metadata": {},
     "output_type": "display_data"
    }
   ],
   "source": [
    "graphing.model_to_surface_plot(model_with_interaction, [\"weak_layers\", \"wind\"], test)"
   ]
  },
  {
   "cell_type": "code",
   "execution_count": 10,
   "metadata": {},
   "outputs": [
    {
     "name": "stdout",
     "output_type": "stream",
     "text": [
      "Creating plot...\n"
     ]
    },
    {
     "data": {
      "application/vnd.plotly.v1+json": {
       "config": {
        "plotlyServerURL": "https://plot.ly"
       },
       "data": [
        {
         "colorbar": {
          "title": {
           "text": "Probability"
          }
         },
         "type": "surface",
         "x": [
          0,
          0.47368421052631576,
          0.9473684210526315,
          1.4210526315789473,
          1.894736842105263,
          2.3684210526315788,
          2.8421052631578947,
          3.31578947368421,
          3.789473684210526,
          4.263157894736842,
          4.7368421052631575,
          5.2105263157894735,
          5.684210526315789,
          6.157894736842105,
          6.63157894736842,
          7.105263157894736,
          7.578947368421052,
          8.052631578947368,
          8.526315789473683,
          9
         ],
         "y": [
          0.4137014307004687,
          1.2959187122253057,
          2.1781359937501428,
          3.0603532752749802,
          3.9425705567998173,
          4.824787838324655,
          5.707005119849492,
          6.589222401374329,
          7.471439682899166,
          8.353656964424003,
          9.23587424594884,
          10.118091527473677,
          11.000308808998515,
          11.882526090523351,
          12.764743372048189,
          13.646960653573025,
          14.529177935097863,
          15.4113952166227,
          16.29361249814754,
          17.175829779672377
         ],
         "z": [
          [
           0.99044918008353,
           0.9854392371316607,
           0.9778600417499922,
           0.9664699447106148,
           0.9495225928648764,
           0.9246769998260712,
           0.8890313166146229,
           0.8394457433886225,
           0.7733518652935403,
           0.6900944442979232,
           0.5923735767580228,
           0.48675605667711797,
           0.38230816459947153,
           0.28770895395160245,
           0.20861209423162844,
           0.14677953821165915,
           0.10093661725478216,
           0.0682660152505166,
           0.04563331996344397,
           0.030260497637880808
          ],
          [
           0.9852805799553711,
           0.9785303897364478,
           0.9687827037145869,
           0.9548137161707447,
           0.9350132513097364,
           0.9073779610227782,
           0.8696294712482958,
           0.8195558525936686,
           0.7556535479978903,
           0.6780119636373164,
           0.5891143092897567,
           0.4939902474396435,
           0.3992993054992532,
           0.3115825978338099,
           0.23557830435770663,
           0.17344275287706362,
           0.12501566386065815,
           0.0886595891349281,
           0.062125614039975116,
           0.04315665661218301
          ],
          [
           0.9773787812881171,
           0.9684483644175702,
           0.9561505644008693,
           0.939359618670887,
           0.9166991944073006,
           0.8865932077592886,
           0.8474175942462413,
           0.7977954769159216,
           0.737043133596836,
           0.665686622324429,
           0.5858472013833483,
           0.5012269555332393,
           0.4165363650661544,
           0.33650137432733,
           0.26486366697457375,
           0.2037925942075138,
           0.15385591367802248,
           0.11439746629010669,
           0.0840534194617056,
           0.061201929454817464
          ],
          [
           0.9653841059371395,
           0.9538551336028975,
           0.9387300859192843,
           0.9190680908910762,
           0.8938101642972097,
           0.8618543811722701,
           0.8221951187646509,
           0.7741341492141387,
           0.7175450997272511,
           0.653130852531915,
           0.5825725226493614,
           0.5084631496155109,
           0.4339799433101539,
           0.36236403148546315,
           0.2963780766870717,
           0.23792449347860883,
           0.18792049132653896,
           0.14640672023126414,
           0.11279006758473825,
           0.08611348547981074
          ],
          [
           0.9473718388209147,
           0.9329793598287853,
           0.9150040266384516,
           0.8927617469677955,
           0.8655542010259725,
           0.8327370775944402,
           0.7938177047393369,
           0.7485766208337944,
           0.6971952760168534,
           0.6403582882366237,
           0.5792905453283064,
           0.5156957992051341,
           0.45158862910337405,
           0.38904889763222755,
           0.32995916547696685,
           0.27579281341728634,
           0.22749934908121103,
           0.1854964056926139,
           0.1497451604798279,
           0.11987028947390031
          ],
          [
           0.9207563007618521,
           0.9036137806867809,
           0.8832331606674777,
           0.8592145314224403,
           0.8311995580229821,
           0.7989145434534148,
           0.7622210807346387,
           0.7211687938868458,
           0.6760412542509632,
           0.6273837265502266,
           0.5760015442048455,
           0.5229218797560147,
           0.4693193773048235,
           0.4164155330306058,
           0.3653693867823845,
           0.31717975988129293,
           0.27261573701110614,
           0.23218393100813567,
           0.19613170529318627,
           0.16447829081559817
          ],
          [
           0.8823520755898336,
           0.8632671463983729,
           0.8416418887665547,
           0.817320206019015,
           0.7901942261324281,
           0.7602220040536133,
           0.7274449057833643,
           0.6920025121277957,
           0.6541425113595655,
           0.6142230766317985,
           0.572705796520144,
           0.5301383777103421,
           0.48712791982637765,
           0.4443072436018359,
           0.4022981035675931,
           0.3616757489144153,
           0.3229390205363377,
           0.2864890722561509,
           0.25261820312645744,
           0.22150861835634075
          ],
          [
           0.8287965183619299,
           0.8095904930850266,
           0.7887789891168764,
           0.766349293388957,
           0.7423158854941225,
           0.7167241812762751,
           0.6896534540273163,
           0.6612185699355548,
           0.6315702058556375,
           0.6008932962628403,
           0.569403581882422,
           0.5373422955126232,
           0.5049692025311008,
           0.47255438926119664,
           0.44036933428144465,
           0.40867788194663407,
           0.3777277490266703,
           0.3477431323775784,
           0.3189188591151185,
           0.2914163525473741
          ],
          [
           0.7575601053938387,
           0.741160276295926,
           0.7240551734504721,
           0.7062676825184355,
           0.6878279485334937,
           0.668773508895936,
           0.6491492736840158,
           0.6290073385291834,
           0.6084066207882168,
           0.5874123163854297,
           0.5660951821757622,
           0.5445306565670202,
           0.5227978389269232,
           0.5009783554384432,
           0.4791551450183895,
           0.45741120321088086,
           0.4358283242604039,
           0.4144858816690161,
           0.39345968544057247,
           0.37282095008562877
          ],
          [
           0.6685371538019934,
           0.6585106517915469,
           0.6483403924658072,
           0.6380337333213337,
           0.6275985090473764,
           0.61704301327976,
           0.6063759770448287,
           0.5956065439621948,
           0.5847442423142707,
           0.5737989541298101,
           0.5627808814672377,
           0.5517005101206618,
           0.5405685710064142,
           0.5293959995200488,
           0.5181938931822543,
           0.5069734679165429,
           0.4957460133212742,
           0.48452284731320205,
           0.47331527052889444,
           0.4621345208739372
          ],
          [
           0.5655710296385342,
           0.5649608876032272,
           0.564350548717092,
           0.5637400147670191,
           0.5631292875422444,
           0.5625183688343288,
           0.5619072604371375,
           0.5612959641468193,
           0.5606844817617869,
           0.5600728150826951,
           0.559460965912421,
           0.5588489360560429,
           0.55823672732082,
           0.55762434151617,
           0.5570117804536501,
           0.5563990459469358,
           0.5557861398117986,
           0.5551730638660854,
           0.5545598199296982,
           0.5539464098245717
          ],
          [
           0.45661701763568135,
           0.46654429209832293,
           0.4764981327761916,
           0.4864706781059489,
           0.4964540070789616,
           0.5064401643389815,
           0.5164211855120062,
           0.5263891225971773,
           0.5363360692468783,
           0.5462541857654659,
           0.5561357236593343,
           0.5659730495761744,
           0.5757586684782886,
           0.5854852459035074,
           0.595145629177505,
           0.6047328674529245,
           0.6142402304635329,
           0.6236612258953972,
           0.6329896152916025,
           0.6422194284220826
          ],
          [
           0.35166188392904263,
           0.37066460005206553,
           0.39007635507910443,
           0.40984266744288766,
           0.42990460718255596,
           0.4501994408995729,
           0.47066137842093414,
           0.49122240348843665,
           0.5118131668926816,
           0.5323639174957343,
           0.552805444750914,
           0.573070005766788,
           0.5930922107166634,
           0.612809842408914,
           0.6321645889597727,
           0.6511026725248612,
           0.6695753616706156,
           0.6875393598966937,
           0.7049570677503123,
           0.7217967206240489
          ],
          [
           0.2593182452049235,
           0.2839990952799902,
           0.3100456787108206,
           0.3373555538040808,
           0.3657956179398291,
           0.3952033378213841,
           0.42538948212563116,
           0.45614233899519907,
           0.48723326769756437,
           0.5184233029900683,
           0.5494704210260516,
           0.5801370040206276,
           0.6101970189946821,
           0.6394424573644636,
           0.6676886617368448,
           0.6947782811650304,
           0.7205837287113265,
           0.7450081467880816,
           0.7679850002023199,
           0.7894765028768312
          ],
          [
           0.18432916123876425,
           0.21080930528163203,
           0.23997433190837586,
           0.27178471659498776,
           0.3061134545956834,
           0.34273744405277157,
           0.3813351368496394,
           0.4214920650711701,
           0.46271496039578125,
           0.5044539472241175,
           0.5461309460192836,
           0.5871712923096761,
           0.6270349621284823,
           0.6652438708953693,
           0.7014024578981098,
           0.7352099727942767,
           0.7664642273101304,
           0.7950577538804511,
           0.8209681116773465,
           0.844244426616096
          ],
          [
           0.12729830320347704,
           0.15246492285961225,
           0.18157176764508715,
           0.2148268737359558,
           0.2522951238501687,
           0.2938525680375952,
           0.3391503311694823,
           0.38759805689019017,
           0.4383756498134951,
           0.49047763419368395,
           0.5427873148592041,
           0.5941701712920427,
           0.6435704238148237,
           0.6900937727677964,
           0.7330633349025439,
           0.7720430702833635,
           0.806830658307595,
           0.8374273497797222,
           0.8639946652907262,
           0.8868072398124103
          ],
          [
           0.08605109388601183,
           0.10805719708169001,
           0.13486057596189413,
           0.16706716538727817,
           0.20514136185201737,
           0.2492955562289805,
           0.29937396844707126,
           0.3547582162378356,
           0.41432932530163114,
           0.4765161913122093,
           0.5394398241656673,
           0.6011309982411998,
           0.6597705648601859,
           0.7138923539334422,
           0.7625038557026498,
           0.8051107334039288,
           0.8416611852659907,
           0.872442835565344,
           0.8979658645564408,
           0.9188569459616382
          ],
          [
           0.05729142433785027,
           0.0754327007459806,
           0.09871686183763864,
           0.12819173959336636,
           0.16485746944286928,
           0.20949040646222383,
           0.26241026737329926,
           0.32323219835046696,
           0.3906844665021609,
           0.46259135323354317,
           0.5360887719458591,
           0.6080511907862611,
           0.6756055335023512,
           0.736561034176427,
           0.7896291817449365,
           0.8344104028195285,
           0.8712138541994167,
           0.9008098528897743,
           0.9241962578413474,
           0.9424212111107133
          ],
          [
           0.03774672216054454,
           0.052082986831560554,
           0.0714598300953393,
           0.09730558273492015,
           0.13117866242567217,
           0.1745630576451942,
           0.22852187290623274,
           0.29323457279386195,
           0.3675421663239991,
           0.4487246269018704,
           0.5327344574893165,
           0.614928230453065,
           0.6910486222944148,
           0.7580423822832726,
           0.8144104805279219,
           0.8600707371383154,
           0.8959327521910544,
           0.923422140854075,
           0.9441032312968476,
           0.9594443568634643
          ],
          [
           0.024694941718144917,
           0.03568208589846686,
           0.05130044891370539,
           0.07323591881496944,
           0.10352721299830091,
           0.14439529627003023,
           0.19783607252309493,
           0.264931068664465,
           0.34499453653606355,
           0.4349371596028981,
           0.5293771812619641,
           0.6217596659969115,
           0.7060763715510657,
           0.7782993291185387,
           0.8368756443471574,
           0.882315487587237,
           0.916362640394202,
           0.9412159191238683,
           0.9590142345085426,
           0.9715863560479974
          ]
         ]
        }
       ],
       "layout": {
        "scene": {
         "xaxis": {
          "title": {
           "text": "no_visitors"
          }
         },
         "yaxis": {
          "title": {
           "text": "fresh_thickness"
          }
         },
         "zaxis": {
          "title": {
           "text": "Probability"
          }
         }
        },
        "template": {
         "data": {
          "bar": [
           {
            "error_x": {
             "color": "#2a3f5f"
            },
            "error_y": {
             "color": "#2a3f5f"
            },
            "marker": {
             "line": {
              "color": "white",
              "width": 0.5
             },
             "pattern": {
              "fillmode": "overlay",
              "size": 10,
              "solidity": 0.2
             }
            },
            "type": "bar"
           }
          ],
          "barpolar": [
           {
            "marker": {
             "line": {
              "color": "white",
              "width": 0.5
             },
             "pattern": {
              "fillmode": "overlay",
              "size": 10,
              "solidity": 0.2
             }
            },
            "type": "barpolar"
           }
          ],
          "box": [
           {
            "boxpoints": "outliers",
            "notched": false,
            "type": "box"
           }
          ],
          "carpet": [
           {
            "aaxis": {
             "endlinecolor": "#2a3f5f",
             "gridcolor": "#C8D4E3",
             "linecolor": "#C8D4E3",
             "minorgridcolor": "#C8D4E3",
             "startlinecolor": "#2a3f5f"
            },
            "baxis": {
             "endlinecolor": "#2a3f5f",
             "gridcolor": "#C8D4E3",
             "linecolor": "#C8D4E3",
             "minorgridcolor": "#C8D4E3",
             "startlinecolor": "#2a3f5f"
            },
            "type": "carpet"
           }
          ],
          "choropleth": [
           {
            "colorbar": {
             "outlinewidth": 0,
             "ticks": ""
            },
            "type": "choropleth"
           }
          ],
          "contour": [
           {
            "colorbar": {
             "outlinewidth": 0,
             "ticks": ""
            },
            "colorscale": [
             [
              0,
              "#0d0887"
             ],
             [
              0.1111111111111111,
              "#46039f"
             ],
             [
              0.2222222222222222,
              "#7201a8"
             ],
             [
              0.3333333333333333,
              "#9c179e"
             ],
             [
              0.4444444444444444,
              "#bd3786"
             ],
             [
              0.5555555555555556,
              "#d8576b"
             ],
             [
              0.6666666666666666,
              "#ed7953"
             ],
             [
              0.7777777777777778,
              "#fb9f3a"
             ],
             [
              0.8888888888888888,
              "#fdca26"
             ],
             [
              1,
              "#f0f921"
             ]
            ],
            "type": "contour"
           }
          ],
          "contourcarpet": [
           {
            "colorbar": {
             "outlinewidth": 0,
             "ticks": ""
            },
            "type": "contourcarpet"
           }
          ],
          "heatmap": [
           {
            "colorbar": {
             "outlinewidth": 0,
             "ticks": ""
            },
            "colorscale": [
             [
              0,
              "#0d0887"
             ],
             [
              0.1111111111111111,
              "#46039f"
             ],
             [
              0.2222222222222222,
              "#7201a8"
             ],
             [
              0.3333333333333333,
              "#9c179e"
             ],
             [
              0.4444444444444444,
              "#bd3786"
             ],
             [
              0.5555555555555556,
              "#d8576b"
             ],
             [
              0.6666666666666666,
              "#ed7953"
             ],
             [
              0.7777777777777778,
              "#fb9f3a"
             ],
             [
              0.8888888888888888,
              "#fdca26"
             ],
             [
              1,
              "#f0f921"
             ]
            ],
            "type": "heatmap"
           }
          ],
          "heatmapgl": [
           {
            "colorbar": {
             "outlinewidth": 0,
             "ticks": ""
            },
            "colorscale": [
             [
              0,
              "#0d0887"
             ],
             [
              0.1111111111111111,
              "#46039f"
             ],
             [
              0.2222222222222222,
              "#7201a8"
             ],
             [
              0.3333333333333333,
              "#9c179e"
             ],
             [
              0.4444444444444444,
              "#bd3786"
             ],
             [
              0.5555555555555556,
              "#d8576b"
             ],
             [
              0.6666666666666666,
              "#ed7953"
             ],
             [
              0.7777777777777778,
              "#fb9f3a"
             ],
             [
              0.8888888888888888,
              "#fdca26"
             ],
             [
              1,
              "#f0f921"
             ]
            ],
            "type": "heatmapgl"
           }
          ],
          "histogram": [
           {
            "marker": {
             "line": {
              "width": 1
             },
             "pattern": {
              "fillmode": "overlay",
              "size": 10,
              "solidity": 0.2
             }
            },
            "type": "histogram"
           }
          ],
          "histogram2d": [
           {
            "colorbar": {
             "outlinewidth": 0,
             "ticks": ""
            },
            "colorscale": [
             [
              0,
              "#0d0887"
             ],
             [
              0.1111111111111111,
              "#46039f"
             ],
             [
              0.2222222222222222,
              "#7201a8"
             ],
             [
              0.3333333333333333,
              "#9c179e"
             ],
             [
              0.4444444444444444,
              "#bd3786"
             ],
             [
              0.5555555555555556,
              "#d8576b"
             ],
             [
              0.6666666666666666,
              "#ed7953"
             ],
             [
              0.7777777777777778,
              "#fb9f3a"
             ],
             [
              0.8888888888888888,
              "#fdca26"
             ],
             [
              1,
              "#f0f921"
             ]
            ],
            "type": "histogram2d"
           }
          ],
          "histogram2dcontour": [
           {
            "colorbar": {
             "outlinewidth": 0,
             "ticks": ""
            },
            "colorscale": [
             [
              0,
              "#0d0887"
             ],
             [
              0.1111111111111111,
              "#46039f"
             ],
             [
              0.2222222222222222,
              "#7201a8"
             ],
             [
              0.3333333333333333,
              "#9c179e"
             ],
             [
              0.4444444444444444,
              "#bd3786"
             ],
             [
              0.5555555555555556,
              "#d8576b"
             ],
             [
              0.6666666666666666,
              "#ed7953"
             ],
             [
              0.7777777777777778,
              "#fb9f3a"
             ],
             [
              0.8888888888888888,
              "#fdca26"
             ],
             [
              1,
              "#f0f921"
             ]
            ],
            "type": "histogram2dcontour"
           }
          ],
          "mesh3d": [
           {
            "colorbar": {
             "outlinewidth": 0,
             "ticks": ""
            },
            "type": "mesh3d"
           }
          ],
          "parcoords": [
           {
            "line": {
             "colorbar": {
              "outlinewidth": 0,
              "ticks": ""
             }
            },
            "type": "parcoords"
           }
          ],
          "pie": [
           {
            "automargin": true,
            "type": "pie"
           }
          ],
          "scatter": [
           {
            "fillpattern": {
             "fillmode": "overlay",
             "size": 10,
             "solidity": 0.2
            },
            "marker": {
             "opacity": 0.8
            },
            "type": "scatter"
           }
          ],
          "scatter3d": [
           {
            "line": {
             "colorbar": {
              "outlinewidth": 0,
              "ticks": ""
             }
            },
            "marker": {
             "colorbar": {
              "outlinewidth": 0,
              "ticks": ""
             },
             "opacity": 0.8
            },
            "type": "scatter3d"
           }
          ],
          "scattercarpet": [
           {
            "marker": {
             "colorbar": {
              "outlinewidth": 0,
              "ticks": ""
             }
            },
            "type": "scattercarpet"
           }
          ],
          "scattergeo": [
           {
            "marker": {
             "colorbar": {
              "outlinewidth": 0,
              "ticks": ""
             }
            },
            "type": "scattergeo"
           }
          ],
          "scattergl": [
           {
            "marker": {
             "colorbar": {
              "outlinewidth": 0,
              "ticks": ""
             }
            },
            "type": "scattergl"
           }
          ],
          "scattermapbox": [
           {
            "marker": {
             "colorbar": {
              "outlinewidth": 0,
              "ticks": ""
             }
            },
            "type": "scattermapbox"
           }
          ],
          "scatterpolar": [
           {
            "marker": {
             "colorbar": {
              "outlinewidth": 0,
              "ticks": ""
             }
            },
            "type": "scatterpolar"
           }
          ],
          "scatterpolargl": [
           {
            "marker": {
             "colorbar": {
              "outlinewidth": 0,
              "ticks": ""
             }
            },
            "type": "scatterpolargl"
           }
          ],
          "scatterternary": [
           {
            "marker": {
             "colorbar": {
              "outlinewidth": 0,
              "ticks": ""
             }
            },
            "type": "scatterternary"
           }
          ],
          "surface": [
           {
            "colorbar": {
             "outlinewidth": 0,
             "ticks": ""
            },
            "colorscale": [
             [
              0,
              "#0d0887"
             ],
             [
              0.1111111111111111,
              "#46039f"
             ],
             [
              0.2222222222222222,
              "#7201a8"
             ],
             [
              0.3333333333333333,
              "#9c179e"
             ],
             [
              0.4444444444444444,
              "#bd3786"
             ],
             [
              0.5555555555555556,
              "#d8576b"
             ],
             [
              0.6666666666666666,
              "#ed7953"
             ],
             [
              0.7777777777777778,
              "#fb9f3a"
             ],
             [
              0.8888888888888888,
              "#fdca26"
             ],
             [
              1,
              "#f0f921"
             ]
            ],
            "type": "surface"
           }
          ],
          "table": [
           {
            "cells": {
             "fill": {
              "color": "#EBF0F8"
             },
             "line": {
              "color": "white"
             }
            },
            "header": {
             "fill": {
              "color": "#C8D4E3"
             },
             "line": {
              "color": "white"
             }
            },
            "type": "table"
           }
          ]
         },
         "layout": {
          "annotationdefaults": {
           "arrowcolor": "#2a3f5f",
           "arrowhead": 0,
           "arrowwidth": 1
          },
          "autotypenumbers": "strict",
          "coloraxis": {
           "colorbar": {
            "outlinewidth": 0,
            "ticks": ""
           }
          },
          "colorscale": {
           "diverging": [
            [
             0,
             "#8e0152"
            ],
            [
             0.1,
             "#c51b7d"
            ],
            [
             0.2,
             "#de77ae"
            ],
            [
             0.3,
             "#f1b6da"
            ],
            [
             0.4,
             "#fde0ef"
            ],
            [
             0.5,
             "#f7f7f7"
            ],
            [
             0.6,
             "#e6f5d0"
            ],
            [
             0.7,
             "#b8e186"
            ],
            [
             0.8,
             "#7fbc41"
            ],
            [
             0.9,
             "#4d9221"
            ],
            [
             1,
             "#276419"
            ]
           ],
           "sequential": [
            [
             0,
             "#0d0887"
            ],
            [
             0.1111111111111111,
             "#46039f"
            ],
            [
             0.2222222222222222,
             "#7201a8"
            ],
            [
             0.3333333333333333,
             "#9c179e"
            ],
            [
             0.4444444444444444,
             "#bd3786"
            ],
            [
             0.5555555555555556,
             "#d8576b"
            ],
            [
             0.6666666666666666,
             "#ed7953"
            ],
            [
             0.7777777777777778,
             "#fb9f3a"
            ],
            [
             0.8888888888888888,
             "#fdca26"
            ],
            [
             1,
             "#f0f921"
            ]
           ],
           "sequentialminus": [
            [
             0,
             "#0d0887"
            ],
            [
             0.1111111111111111,
             "#46039f"
            ],
            [
             0.2222222222222222,
             "#7201a8"
            ],
            [
             0.3333333333333333,
             "#9c179e"
            ],
            [
             0.4444444444444444,
             "#bd3786"
            ],
            [
             0.5555555555555556,
             "#d8576b"
            ],
            [
             0.6666666666666666,
             "#ed7953"
            ],
            [
             0.7777777777777778,
             "#fb9f3a"
            ],
            [
             0.8888888888888888,
             "#fdca26"
            ],
            [
             1,
             "#f0f921"
            ]
           ]
          },
          "colorway": [
           "#636efa",
           "#EF553B",
           "#00cc96",
           "#ab63fa",
           "#FFA15A",
           "#19d3f3",
           "#FF6692",
           "#B6E880",
           "#FF97FF",
           "#FECB52"
          ],
          "font": {
           "color": "#2a3f5f"
          },
          "geo": {
           "bgcolor": "white",
           "lakecolor": "white",
           "landcolor": "white",
           "showlakes": true,
           "showland": true,
           "subunitcolor": "#C8D4E3"
          },
          "height": 400,
          "hoverlabel": {
           "align": "left"
          },
          "hovermode": "closest",
          "mapbox": {
           "style": "light"
          },
          "margin": {
           "b": 2,
           "l": 2,
           "r": 2,
           "t": 30
          },
          "paper_bgcolor": "white",
          "plot_bgcolor": "white",
          "polar": {
           "angularaxis": {
            "gridcolor": "#EBF0F8",
            "linecolor": "#EBF0F8",
            "ticks": ""
           },
           "bgcolor": "white",
           "radialaxis": {
            "gridcolor": "#EBF0F8",
            "linecolor": "#EBF0F8",
            "ticks": ""
           }
          },
          "scene": {
           "camera": {
            "eye": {
             "x": 1.5,
             "y": 1.5,
             "z": 0.1
            }
           },
           "xaxis": {
            "backgroundcolor": "white",
            "gridcolor": "#DFE8F3",
            "gridwidth": 2,
            "linecolor": "#EBF0F8",
            "showbackground": true,
            "ticks": "",
            "zerolinecolor": "#EBF0F8"
           },
           "yaxis": {
            "backgroundcolor": "white",
            "gridcolor": "#DFE8F3",
            "gridwidth": 2,
            "linecolor": "#EBF0F8",
            "showbackground": true,
            "ticks": "",
            "zerolinecolor": "#EBF0F8"
           },
           "zaxis": {
            "backgroundcolor": "white",
            "gridcolor": "#DFE8F3",
            "gridwidth": 2,
            "linecolor": "#EBF0F8",
            "showbackground": true,
            "ticks": "",
            "zerolinecolor": "#EBF0F8"
           }
          },
          "shapedefaults": {
           "line": {
            "color": "#2a3f5f"
           }
          },
          "ternary": {
           "aaxis": {
            "gridcolor": "#DFE8F3",
            "linecolor": "#A2B1C6",
            "ticks": ""
           },
           "baxis": {
            "gridcolor": "#DFE8F3",
            "linecolor": "#A2B1C6",
            "ticks": ""
           },
           "bgcolor": "white",
           "caxis": {
            "gridcolor": "#DFE8F3",
            "linecolor": "#A2B1C6",
            "ticks": ""
           }
          },
          "title": {
           "x": 0.5
          },
          "xaxis": {
           "automargin": true,
           "gridcolor": "#EBF0F8",
           "linecolor": "#EBF0F8",
           "linewidth": 2,
           "showline": true,
           "ticks": "",
           "title": {
            "standoff": 15
           },
           "zerolinecolor": "#EBF0F8",
           "zerolinewidth": 2
          },
          "yaxis": {
           "automargin": true,
           "gridcolor": "#EBF0F8",
           "linecolor": "#EBF0F8",
           "linewidth": 2,
           "showline": true,
           "ticks": "",
           "title": {
            "standoff": 15
           },
           "zerolinecolor": "#EBF0F8",
           "zerolinewidth": 2
          }
         }
        },
        "title": {
         "text": "Model Prediction"
        }
       }
      }
     },
     "metadata": {},
     "output_type": "display_data"
    }
   ],
   "source": [
    "graphing.model_to_surface_plot(model_with_interaction, [\"no_visitors\", \"fresh_thickness\"], test)"
   ]
  },
  {
   "attachments": {},
   "cell_type": "markdown",
   "metadata": {},
   "source": [
    "It looks quite different to the other! From any side, we can see an s-shape, but these combine in strange ways.\n",
    "\n",
    "We can see that the risk goes up on days with lots of visitors and lots of snow. There is no real risk of avalanche when there's a lot of snow but no visitors, or when there are a lot of visitors but no snow.\n",
    "\n",
    "The fact that it shows high risk when there's no fresh snow and no visitors could be due to rain, which keeps visitors and snow clouds away but results in avalanches of the older snow. To confirm this, we'd need to explore the data in more depth, but we'll stop here for now."
   ]
  }
 ],
 "metadata": {
  "kernelspec": {
   "display_name": "myenv",
   "language": "python",
   "name": "python3"
  },
  "language_info": {
   "codemirror_mode": {
    "name": "ipython",
    "version": 3
   },
   "file_extension": ".py",
   "mimetype": "text/x-python",
   "name": "python",
   "nbconvert_exporter": "python",
   "pygments_lexer": "ipython3",
   "version": "3.8.8"
  },
  "orig_nbformat": 4
 },
 "nbformat": 4,
 "nbformat_minor": 2
}

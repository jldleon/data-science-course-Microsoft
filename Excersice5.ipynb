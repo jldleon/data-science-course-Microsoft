{
 "cells": [
  {
   "attachments": {},
   "cell_type": "markdown",
   "metadata": {},
   "source": [
    "Training And Test Sets\n",
    "\n",
    "We have seen previously how to fit a model to a dataset. In this exercise, we'll be looking at how to check and confirm the validity and performance of our models by using training and testing sets. As usual, we begin by loading in and having a look at our data:"
   ]
  },
  {
   "cell_type": "code",
   "execution_count": 2,
   "metadata": {},
   "outputs": [
    {
     "name": "stdout",
     "output_type": "stream",
     "text": [
      "(50, 5)\n"
     ]
    },
    {
     "data": {
      "text/html": [
       "<div>\n",
       "<style scoped>\n",
       "    .dataframe tbody tr th:only-of-type {\n",
       "        vertical-align: middle;\n",
       "    }\n",
       "\n",
       "    .dataframe tbody tr th {\n",
       "        vertical-align: top;\n",
       "    }\n",
       "\n",
       "    .dataframe thead th {\n",
       "        text-align: right;\n",
       "    }\n",
       "</style>\n",
       "<table border=\"1\" class=\"dataframe\">\n",
       "  <thead>\n",
       "    <tr style=\"text-align: right;\">\n",
       "      <th></th>\n",
       "      <th>month_old_when_trained</th>\n",
       "      <th>mean_rescues_per_year</th>\n",
       "      <th>age_last_year</th>\n",
       "      <th>weight_last_year</th>\n",
       "      <th>rescues_last_year</th>\n",
       "    </tr>\n",
       "  </thead>\n",
       "  <tbody>\n",
       "    <tr>\n",
       "      <th>0</th>\n",
       "      <td>68</td>\n",
       "      <td>21.1</td>\n",
       "      <td>9</td>\n",
       "      <td>14.5</td>\n",
       "      <td>35</td>\n",
       "    </tr>\n",
       "    <tr>\n",
       "      <th>1</th>\n",
       "      <td>53</td>\n",
       "      <td>14.9</td>\n",
       "      <td>5</td>\n",
       "      <td>14.0</td>\n",
       "      <td>30</td>\n",
       "    </tr>\n",
       "    <tr>\n",
       "      <th>2</th>\n",
       "      <td>41</td>\n",
       "      <td>20.5</td>\n",
       "      <td>6</td>\n",
       "      <td>17.7</td>\n",
       "      <td>34</td>\n",
       "    </tr>\n",
       "    <tr>\n",
       "      <th>3</th>\n",
       "      <td>3</td>\n",
       "      <td>19.4</td>\n",
       "      <td>1</td>\n",
       "      <td>13.7</td>\n",
       "      <td>29</td>\n",
       "    </tr>\n",
       "    <tr>\n",
       "      <th>4</th>\n",
       "      <td>4</td>\n",
       "      <td>24.9</td>\n",
       "      <td>4</td>\n",
       "      <td>18.4</td>\n",
       "      <td>30</td>\n",
       "    </tr>\n",
       "  </tbody>\n",
       "</table>\n",
       "</div>"
      ],
      "text/plain": [
       "   month_old_when_trained  mean_rescues_per_year  age_last_year  \\\n",
       "0                      68                   21.1              9   \n",
       "1                      53                   14.9              5   \n",
       "2                      41                   20.5              6   \n",
       "3                       3                   19.4              1   \n",
       "4                       4                   24.9              4   \n",
       "\n",
       "   weight_last_year  rescues_last_year  \n",
       "0              14.5                 35  \n",
       "1              14.0                 30  \n",
       "2              17.7                 34  \n",
       "3              13.7                 29  \n",
       "4              18.4                 30  "
      ]
     },
     "execution_count": 2,
     "metadata": {},
     "output_type": "execute_result"
    }
   ],
   "source": [
    "import pandas\n",
    "\n",
    "data = pandas.read_csv(\"dog-training.csv\", delimiter=\"\\t\")\n",
    "\n",
    "print(data.shape)\n",
    "data.head()"
   ]
  },
  {
   "attachments": {},
   "cell_type": "markdown",
   "metadata": {},
   "source": [
    "We are interested in the relationship between a dog's weight and the amount of rescues it performed in the previous year. Let's begin by plotting rescues_last_year as a function of weight_last_year:"
   ]
  },
  {
   "cell_type": "code",
   "execution_count": 3,
   "metadata": {},
   "outputs": [
    {
     "data": {
      "application/vnd.plotly.v1+json": {
       "config": {
        "plotlyServerURL": "https://plot.ly"
       },
       "data": [
        {
         "hovertemplate": "weight last year=%{x}<br>rescues last year=%{y}<extra></extra>",
         "legendgroup": "",
         "marker": {
          "color": "#636efa",
          "size": 19,
          "symbol": "circle"
         },
         "mode": "markers",
         "name": "",
         "orientation": "v",
         "showlegend": false,
         "type": "scatter",
         "x": [
          14.5,
          14,
          17.7,
          13.7,
          18.4,
          12.4,
          13.1,
          17.1,
          14.3,
          20.2,
          14.5,
          17.8,
          18.6,
          19.5,
          18.3,
          19.6,
          22.7,
          19.6,
          17.8,
          19.1,
          23.1,
          21.1,
          28.5,
          20.6,
          11.4,
          22.2,
          14.6,
          16.5,
          16.1,
          17.2,
          21.6,
          22.5,
          21.2,
          19.4,
          16.2,
          21.4,
          18.6,
          12.6,
          14.8,
          9.3,
          7.2,
          19.4,
          19.5,
          20,
          15.4,
          16.9,
          21,
          17.1,
          23.5,
          23
         ],
         "xaxis": "x",
         "y": [
          35,
          30,
          34,
          29,
          30,
          25,
          26,
          37,
          32,
          30,
          35,
          32,
          33,
          36,
          32,
          36,
          38,
          35,
          33,
          34,
          37,
          35,
          34,
          40,
          20,
          32,
          31,
          38,
          31,
          36,
          44,
          28,
          39,
          30,
          44,
          42,
          39,
          30,
          26,
          29,
          27,
          37,
          30,
          26,
          25,
          29,
          29,
          30,
          29,
          37
         ],
         "yaxis": "y"
        }
       ],
       "layout": {
        "legend": {
         "tracegroupgap": 0
        },
        "shapes": [
         {
          "line": {
           "color": "rgb(228,26,28)"
          },
          "path": "M7.2 26.536859941675694 L 7.307035175879397 26.59873479990584 L 7.414070351758794 26.660609658135993 L 7.521105527638191 26.722484516366144 L 7.628140703517588 26.784359374596292 L 7.735175879396985 26.846234232826443 L 7.842211055276382 26.908109091056595 L 7.949246231155779 26.969983949286743 L 8.056281407035176 27.031858807516894 L 8.163316582914574 27.093733665747045 L 8.27035175879397 27.155608523977193 L 8.377386934673368 27.217483382207345 L 8.484422110552764 27.279358240437496 L 8.591457286432162 27.341233098667644 L 8.698492462311558 27.403107956897795 L 8.805527638190956 27.464982815127946 L 8.912562814070352 27.526857673358094 L 9.019597989949748 27.588732531588242 L 9.126633165829146 27.650607389818397 L 9.233668341708544 27.712482248048545 L 9.34070351758794 27.774357106278696 L 9.447738693467336 27.836231964508844 L 9.554773869346734 27.898106822738995 L 9.66180904522613 27.959981680969143 L 9.768844221105528 28.021856539199295 L 9.875879396984924 28.083731397429446 L 9.982914572864322 28.145606255659597 L 10.089949748743718 28.207481113889745 L 10.196984924623116 28.269355972119897 L 10.304020100502512 28.331230830350044 L 10.411055276381909 28.393105688580196 L 10.518090452261307 28.454980546810347 L 10.625125628140704 28.5168554050405 L 10.7321608040201 28.578730263270646 L 10.839195979899497 28.640605121500798 L 10.946231155778895 28.702479979730946 L 11.053266331658293 28.764354837961097 L 11.160301507537689 28.82622969619125 L 11.267336683417085 28.888104554421396 L 11.374371859296483 28.949979412651548 L 11.48140703517588 29.0118542708817 L 11.588442211055277 29.073729129111847 L 11.695477386934673 29.135603987341998 L 11.80251256281407 29.19747884557215 L 11.909547738693467 29.259353703802297 L 12.016582914572865 29.32122856203245 L 12.123618090452261 29.3831034202626 L 12.230653266331657 29.444978278492748 L 12.337688442211055 29.5068531367229 L 12.444723618090453 29.56872799495305 L 12.55175879396985 29.6306028531832 L 12.658793969849246 29.69247771141335 L 12.765829145728643 29.7543525696435 L 12.872864321608041 29.81622742787365 L 12.979899497487438 29.8781022861038 L 13.086934673366834 29.93997714433395 L 13.19396984924623 30.0018520025641 L 13.301005025125628 30.06372686079425 L 13.408040201005026 30.125601719024402 L 13.515075376884422 30.18747657725455 L 13.622110552763818 30.249351435484698 L 13.729145728643216 30.311226293714853 L 13.836180904522614 30.373101151945 L 13.94321608040201 30.43497601017515 L 14.050251256281406 30.4968508684053 L 14.157286432160804 30.55872572663545 L 14.264321608040202 30.620600584865603 L 14.371356783919598 30.682475443095754 L 14.478391959798994 30.744350301325902 L 14.585427135678392 30.80622515955605 L 14.69246231155779 30.868100017786205 L 14.799497487437186 30.929974876016352 L 14.906532663316582 30.9918497342465 L 15.013567839195979 31.05372459247665 L 15.120603015075377 31.115599450706803 L 15.227638190954774 31.17747430893695 L 15.33467336683417 31.239349167167102 L 15.441708542713567 31.301224025397254 L 15.548743718592966 31.363098883627405 L 15.655778894472363 31.424973741857556 L 15.762814070351759 31.486848600087704 L 15.869849246231155 31.548723458317852 L 15.976884422110551 31.610598316548003 L 16.08391959798995 31.672473174778155 L 16.190954773869347 31.734348033008303 L 16.297989949748743 31.796222891238454 L 16.40502512562814 31.858097749468605 L 16.51206030150754 31.919972607698753 L 16.619095477386935 31.981847465928904 L 16.72613065326633 32.043722324159056 L 16.833165829145727 32.105597182389204 L 16.940201005025127 32.16747204061936 L 17.047236180904523 32.229346898849506 L 17.15427135678392 32.291221757079654 L 17.261306532663315 32.35309661530981 L 17.368341708542715 32.41497147353996 L 17.47537688442211 32.476846331770105 L 17.582412060301507 32.53872119000026 L 17.689447236180904 32.60059604823041 L 17.7964824120603 32.662470906460555 L 17.9035175879397 32.72434576469071 L 18.010552763819096 32.78622062292086 L 18.117587939698492 32.848095481151006 L 18.224623115577888 32.909970339381154 L 18.331658291457288 32.97184519761131 L 18.438693467336684 33.03372005584146 L 18.54572864321608 33.095594914071604 L 18.652763819095476 33.15746977230175 L 18.759798994974876 33.21934463053191 L 18.866834170854272 33.28121948876206 L 18.973869346733668 33.34309434699221 L 19.080904522613064 33.40496920522236 L 19.18793969849246 33.466844063452506 L 19.29497487437186 33.52871892168266 L 19.402010050251256 33.59059377991281 L 19.509045226130652 33.652468638142956 L 19.61608040201005 33.714343496373104 L 19.72311557788945 33.77621835460326 L 19.830150753768844 33.83809321283341 L 19.93718592964824 33.899968071063554 L 20.044221105527637 33.96184292929371 L 20.151256281407036 34.023717787523864 L 20.258291457286433 34.08559264575401 L 20.36532663316583 34.14746750398416 L 20.472361809045225 34.20934236221431 L 20.579396984924625 34.27121722044446 L 20.68643216080402 34.33309207867461 L 20.793467336683417 34.39496693690476 L 20.900502512562813 34.456841795134906 L 21.00753768844221 34.51871665336506 L 21.11457286432161 34.58059151159521 L 21.221608040201005 34.64246636982536 L 21.3286432160804 34.70434122805551 L 21.435678391959797 34.76621608628566 L 21.542713567839197 34.82809094451581 L 21.649748743718593 34.88996580274596 L 21.75678391959799 34.95184066097611 L 21.863819095477385 35.01371551920626 L 21.970854271356785 35.07559037743641 L 22.07788944723618 35.13746523566656 L 22.184924623115577 35.19934009389671 L 22.291959798994974 35.26121495212686 L 22.398994974874373 35.32308981035701 L 22.50603015075377 35.38496466858716 L 22.613065326633166 35.446839526817314 L 22.72010050251256 35.50871438504746 L 22.827135678391958 35.57058924327761 L 22.934170854271358 35.632464101507765 L 23.041206030150754 35.69433895973791 L 23.14824120603015 35.75621381796806 L 23.255276381909546 35.818088676198215 L 23.362311557788942 35.87996353442836 L 23.469346733668342 35.94183839265851 L 23.576381909547738 36.003713250888666 L 23.683417085427134 36.06558810911881 L 23.79045226130653 36.12746296734896 L 23.89748743718593 36.189337825579116 L 24.004522613065326 36.251212683809264 L 24.111557788944722 36.31308754203941 L 24.21859296482412 36.37496240026957 L 24.325628140703518 36.436837258499715 L 24.432663316582914 36.49871211672986 L 24.53969849246231 36.56058697496002 L 24.646733668341707 36.622461833190165 L 24.753768844221103 36.68433669142031 L 24.860804020100502 36.74621154965047 L 24.9678391959799 36.808086407880616 L 25.074874371859295 36.869961266110764 L 25.18190954773869 36.93183612434092 L 25.28894472361809 36.993710982571066 L 25.395979899497487 37.055585840801214 L 25.503015075376883 37.11746069903137 L 25.61005025125628 37.17933555726152 L 25.71708542713568 37.241210415491665 L 25.824120603015075 37.30308527372182 L 25.93115577889447 37.36496013195197 L 26.038190954773867 37.426834990182115 L 26.145226130653263 37.48870984841226 L 26.252261306532663 37.55058470664242 L 26.35929648241206 37.612459564872566 L 26.466331658291455 37.67433442310272 L 26.57336683417085 37.73620928133287 L 26.68040201005025 37.79808413956302 L 26.787437185929647 37.85995899779317 L 26.894472361809044 37.92183385602332 L 27.00150753768844 37.98370871425347 L 27.10854271356784 38.04558357248362 L 27.215577889447236 38.10745843071377 L 27.32261306532663 38.16933328894392 L 27.429648241206028 38.231208147174065 L 27.536683417085428 38.29308300540422 L 27.643718592964824 38.35495786363437 L 27.75075376884422 38.41683272186452 L 27.857788944723616 38.478707580094664 L 27.964824120603012 38.54058243832482 L 28.071859296482412 38.602457296554974 L 28.178894472361808 38.664332154785114 L 28.285929648241204 38.72620701301527 L 28.3929648241206 38.78808187124542 L 28.5 38.84995672947557",
          "type": "path"
         }
        ],
        "template": {
         "data": {
          "bar": [
           {
            "error_x": {
             "color": "#2a3f5f"
            },
            "error_y": {
             "color": "#2a3f5f"
            },
            "marker": {
             "line": {
              "color": "white",
              "width": 0.5
             },
             "pattern": {
              "fillmode": "overlay",
              "size": 10,
              "solidity": 0.2
             }
            },
            "type": "bar"
           }
          ],
          "barpolar": [
           {
            "marker": {
             "line": {
              "color": "white",
              "width": 0.5
             },
             "pattern": {
              "fillmode": "overlay",
              "size": 10,
              "solidity": 0.2
             }
            },
            "type": "barpolar"
           }
          ],
          "box": [
           {
            "boxpoints": "outliers",
            "notched": false,
            "type": "box"
           }
          ],
          "carpet": [
           {
            "aaxis": {
             "endlinecolor": "#2a3f5f",
             "gridcolor": "#C8D4E3",
             "linecolor": "#C8D4E3",
             "minorgridcolor": "#C8D4E3",
             "startlinecolor": "#2a3f5f"
            },
            "baxis": {
             "endlinecolor": "#2a3f5f",
             "gridcolor": "#C8D4E3",
             "linecolor": "#C8D4E3",
             "minorgridcolor": "#C8D4E3",
             "startlinecolor": "#2a3f5f"
            },
            "type": "carpet"
           }
          ],
          "choropleth": [
           {
            "colorbar": {
             "outlinewidth": 0,
             "ticks": ""
            },
            "type": "choropleth"
           }
          ],
          "contour": [
           {
            "colorbar": {
             "outlinewidth": 0,
             "ticks": ""
            },
            "colorscale": [
             [
              0,
              "#0d0887"
             ],
             [
              0.1111111111111111,
              "#46039f"
             ],
             [
              0.2222222222222222,
              "#7201a8"
             ],
             [
              0.3333333333333333,
              "#9c179e"
             ],
             [
              0.4444444444444444,
              "#bd3786"
             ],
             [
              0.5555555555555556,
              "#d8576b"
             ],
             [
              0.6666666666666666,
              "#ed7953"
             ],
             [
              0.7777777777777778,
              "#fb9f3a"
             ],
             [
              0.8888888888888888,
              "#fdca26"
             ],
             [
              1,
              "#f0f921"
             ]
            ],
            "type": "contour"
           }
          ],
          "contourcarpet": [
           {
            "colorbar": {
             "outlinewidth": 0,
             "ticks": ""
            },
            "type": "contourcarpet"
           }
          ],
          "heatmap": [
           {
            "colorbar": {
             "outlinewidth": 0,
             "ticks": ""
            },
            "colorscale": [
             [
              0,
              "#0d0887"
             ],
             [
              0.1111111111111111,
              "#46039f"
             ],
             [
              0.2222222222222222,
              "#7201a8"
             ],
             [
              0.3333333333333333,
              "#9c179e"
             ],
             [
              0.4444444444444444,
              "#bd3786"
             ],
             [
              0.5555555555555556,
              "#d8576b"
             ],
             [
              0.6666666666666666,
              "#ed7953"
             ],
             [
              0.7777777777777778,
              "#fb9f3a"
             ],
             [
              0.8888888888888888,
              "#fdca26"
             ],
             [
              1,
              "#f0f921"
             ]
            ],
            "type": "heatmap"
           }
          ],
          "heatmapgl": [
           {
            "colorbar": {
             "outlinewidth": 0,
             "ticks": ""
            },
            "colorscale": [
             [
              0,
              "#0d0887"
             ],
             [
              0.1111111111111111,
              "#46039f"
             ],
             [
              0.2222222222222222,
              "#7201a8"
             ],
             [
              0.3333333333333333,
              "#9c179e"
             ],
             [
              0.4444444444444444,
              "#bd3786"
             ],
             [
              0.5555555555555556,
              "#d8576b"
             ],
             [
              0.6666666666666666,
              "#ed7953"
             ],
             [
              0.7777777777777778,
              "#fb9f3a"
             ],
             [
              0.8888888888888888,
              "#fdca26"
             ],
             [
              1,
              "#f0f921"
             ]
            ],
            "type": "heatmapgl"
           }
          ],
          "histogram": [
           {
            "marker": {
             "line": {
              "width": 1
             },
             "pattern": {
              "fillmode": "overlay",
              "size": 10,
              "solidity": 0.2
             }
            },
            "type": "histogram"
           }
          ],
          "histogram2d": [
           {
            "colorbar": {
             "outlinewidth": 0,
             "ticks": ""
            },
            "colorscale": [
             [
              0,
              "#0d0887"
             ],
             [
              0.1111111111111111,
              "#46039f"
             ],
             [
              0.2222222222222222,
              "#7201a8"
             ],
             [
              0.3333333333333333,
              "#9c179e"
             ],
             [
              0.4444444444444444,
              "#bd3786"
             ],
             [
              0.5555555555555556,
              "#d8576b"
             ],
             [
              0.6666666666666666,
              "#ed7953"
             ],
             [
              0.7777777777777778,
              "#fb9f3a"
             ],
             [
              0.8888888888888888,
              "#fdca26"
             ],
             [
              1,
              "#f0f921"
             ]
            ],
            "type": "histogram2d"
           }
          ],
          "histogram2dcontour": [
           {
            "colorbar": {
             "outlinewidth": 0,
             "ticks": ""
            },
            "colorscale": [
             [
              0,
              "#0d0887"
             ],
             [
              0.1111111111111111,
              "#46039f"
             ],
             [
              0.2222222222222222,
              "#7201a8"
             ],
             [
              0.3333333333333333,
              "#9c179e"
             ],
             [
              0.4444444444444444,
              "#bd3786"
             ],
             [
              0.5555555555555556,
              "#d8576b"
             ],
             [
              0.6666666666666666,
              "#ed7953"
             ],
             [
              0.7777777777777778,
              "#fb9f3a"
             ],
             [
              0.8888888888888888,
              "#fdca26"
             ],
             [
              1,
              "#f0f921"
             ]
            ],
            "type": "histogram2dcontour"
           }
          ],
          "mesh3d": [
           {
            "colorbar": {
             "outlinewidth": 0,
             "ticks": ""
            },
            "type": "mesh3d"
           }
          ],
          "parcoords": [
           {
            "line": {
             "colorbar": {
              "outlinewidth": 0,
              "ticks": ""
             }
            },
            "type": "parcoords"
           }
          ],
          "pie": [
           {
            "automargin": true,
            "type": "pie"
           }
          ],
          "scatter": [
           {
            "fillpattern": {
             "fillmode": "overlay",
             "size": 10,
             "solidity": 0.2
            },
            "marker": {
             "opacity": 0.8
            },
            "type": "scatter"
           }
          ],
          "scatter3d": [
           {
            "line": {
             "colorbar": {
              "outlinewidth": 0,
              "ticks": ""
             }
            },
            "marker": {
             "colorbar": {
              "outlinewidth": 0,
              "ticks": ""
             },
             "opacity": 0.8
            },
            "type": "scatter3d"
           }
          ],
          "scattercarpet": [
           {
            "marker": {
             "colorbar": {
              "outlinewidth": 0,
              "ticks": ""
             }
            },
            "type": "scattercarpet"
           }
          ],
          "scattergeo": [
           {
            "marker": {
             "colorbar": {
              "outlinewidth": 0,
              "ticks": ""
             }
            },
            "type": "scattergeo"
           }
          ],
          "scattergl": [
           {
            "marker": {
             "colorbar": {
              "outlinewidth": 0,
              "ticks": ""
             }
            },
            "type": "scattergl"
           }
          ],
          "scattermapbox": [
           {
            "marker": {
             "colorbar": {
              "outlinewidth": 0,
              "ticks": ""
             }
            },
            "type": "scattermapbox"
           }
          ],
          "scatterpolar": [
           {
            "marker": {
             "colorbar": {
              "outlinewidth": 0,
              "ticks": ""
             }
            },
            "type": "scatterpolar"
           }
          ],
          "scatterpolargl": [
           {
            "marker": {
             "colorbar": {
              "outlinewidth": 0,
              "ticks": ""
             }
            },
            "type": "scatterpolargl"
           }
          ],
          "scatterternary": [
           {
            "marker": {
             "colorbar": {
              "outlinewidth": 0,
              "ticks": ""
             }
            },
            "type": "scatterternary"
           }
          ],
          "surface": [
           {
            "colorbar": {
             "outlinewidth": 0,
             "ticks": ""
            },
            "colorscale": [
             [
              0,
              "#0d0887"
             ],
             [
              0.1111111111111111,
              "#46039f"
             ],
             [
              0.2222222222222222,
              "#7201a8"
             ],
             [
              0.3333333333333333,
              "#9c179e"
             ],
             [
              0.4444444444444444,
              "#bd3786"
             ],
             [
              0.5555555555555556,
              "#d8576b"
             ],
             [
              0.6666666666666666,
              "#ed7953"
             ],
             [
              0.7777777777777778,
              "#fb9f3a"
             ],
             [
              0.8888888888888888,
              "#fdca26"
             ],
             [
              1,
              "#f0f921"
             ]
            ],
            "type": "surface"
           }
          ],
          "table": [
           {
            "cells": {
             "fill": {
              "color": "#EBF0F8"
             },
             "line": {
              "color": "white"
             }
            },
            "header": {
             "fill": {
              "color": "#C8D4E3"
             },
             "line": {
              "color": "white"
             }
            },
            "type": "table"
           }
          ]
         },
         "layout": {
          "annotationdefaults": {
           "arrowcolor": "#2a3f5f",
           "arrowhead": 0,
           "arrowwidth": 1
          },
          "autotypenumbers": "strict",
          "coloraxis": {
           "colorbar": {
            "outlinewidth": 0,
            "ticks": ""
           }
          },
          "colorscale": {
           "diverging": [
            [
             0,
             "#8e0152"
            ],
            [
             0.1,
             "#c51b7d"
            ],
            [
             0.2,
             "#de77ae"
            ],
            [
             0.3,
             "#f1b6da"
            ],
            [
             0.4,
             "#fde0ef"
            ],
            [
             0.5,
             "#f7f7f7"
            ],
            [
             0.6,
             "#e6f5d0"
            ],
            [
             0.7,
             "#b8e186"
            ],
            [
             0.8,
             "#7fbc41"
            ],
            [
             0.9,
             "#4d9221"
            ],
            [
             1,
             "#276419"
            ]
           ],
           "sequential": [
            [
             0,
             "#0d0887"
            ],
            [
             0.1111111111111111,
             "#46039f"
            ],
            [
             0.2222222222222222,
             "#7201a8"
            ],
            [
             0.3333333333333333,
             "#9c179e"
            ],
            [
             0.4444444444444444,
             "#bd3786"
            ],
            [
             0.5555555555555556,
             "#d8576b"
            ],
            [
             0.6666666666666666,
             "#ed7953"
            ],
            [
             0.7777777777777778,
             "#fb9f3a"
            ],
            [
             0.8888888888888888,
             "#fdca26"
            ],
            [
             1,
             "#f0f921"
            ]
           ],
           "sequentialminus": [
            [
             0,
             "#0d0887"
            ],
            [
             0.1111111111111111,
             "#46039f"
            ],
            [
             0.2222222222222222,
             "#7201a8"
            ],
            [
             0.3333333333333333,
             "#9c179e"
            ],
            [
             0.4444444444444444,
             "#bd3786"
            ],
            [
             0.5555555555555556,
             "#d8576b"
            ],
            [
             0.6666666666666666,
             "#ed7953"
            ],
            [
             0.7777777777777778,
             "#fb9f3a"
            ],
            [
             0.8888888888888888,
             "#fdca26"
            ],
            [
             1,
             "#f0f921"
            ]
           ]
          },
          "colorway": [
           "#636efa",
           "#EF553B",
           "#00cc96",
           "#ab63fa",
           "#FFA15A",
           "#19d3f3",
           "#FF6692",
           "#B6E880",
           "#FF97FF",
           "#FECB52"
          ],
          "font": {
           "color": "#2a3f5f"
          },
          "geo": {
           "bgcolor": "white",
           "lakecolor": "white",
           "landcolor": "white",
           "showlakes": true,
           "showland": true,
           "subunitcolor": "#C8D4E3"
          },
          "height": 400,
          "hoverlabel": {
           "align": "left"
          },
          "hovermode": "closest",
          "mapbox": {
           "style": "light"
          },
          "margin": {
           "b": 2,
           "l": 2,
           "r": 2,
           "t": 30
          },
          "paper_bgcolor": "white",
          "plot_bgcolor": "white",
          "polar": {
           "angularaxis": {
            "gridcolor": "#EBF0F8",
            "linecolor": "#EBF0F8",
            "ticks": ""
           },
           "bgcolor": "white",
           "radialaxis": {
            "gridcolor": "#EBF0F8",
            "linecolor": "#EBF0F8",
            "ticks": ""
           }
          },
          "scene": {
           "camera": {
            "eye": {
             "x": 1.5,
             "y": 1.5,
             "z": 0.1
            }
           },
           "xaxis": {
            "backgroundcolor": "white",
            "gridcolor": "#DFE8F3",
            "gridwidth": 2,
            "linecolor": "#EBF0F8",
            "showbackground": true,
            "ticks": "",
            "zerolinecolor": "#EBF0F8"
           },
           "yaxis": {
            "backgroundcolor": "white",
            "gridcolor": "#DFE8F3",
            "gridwidth": 2,
            "linecolor": "#EBF0F8",
            "showbackground": true,
            "ticks": "",
            "zerolinecolor": "#EBF0F8"
           },
           "zaxis": {
            "backgroundcolor": "white",
            "gridcolor": "#DFE8F3",
            "gridwidth": 2,
            "linecolor": "#EBF0F8",
            "showbackground": true,
            "ticks": "",
            "zerolinecolor": "#EBF0F8"
           }
          },
          "shapedefaults": {
           "line": {
            "color": "#2a3f5f"
           }
          },
          "ternary": {
           "aaxis": {
            "gridcolor": "#DFE8F3",
            "linecolor": "#A2B1C6",
            "ticks": ""
           },
           "baxis": {
            "gridcolor": "#DFE8F3",
            "linecolor": "#A2B1C6",
            "ticks": ""
           },
           "bgcolor": "white",
           "caxis": {
            "gridcolor": "#DFE8F3",
            "linecolor": "#A2B1C6",
            "ticks": ""
           }
          },
          "title": {
           "x": 0.5
          },
          "xaxis": {
           "automargin": true,
           "gridcolor": "#EBF0F8",
           "linecolor": "#EBF0F8",
           "linewidth": 2,
           "showline": true,
           "ticks": "",
           "title": {
            "standoff": 15
           },
           "zerolinecolor": "#EBF0F8",
           "zerolinewidth": 2
          },
          "yaxis": {
           "automargin": true,
           "gridcolor": "#EBF0F8",
           "linecolor": "#EBF0F8",
           "linewidth": 2,
           "showline": true,
           "ticks": "",
           "title": {
            "standoff": 15
           },
           "zerolinecolor": "#EBF0F8",
           "zerolinewidth": 2
          }
         }
        },
        "xaxis": {
         "anchor": "y",
         "domain": [
          0,
          1
         ],
         "title": {
          "text": "weight last year"
         }
        },
        "yaxis": {
         "anchor": "x",
         "domain": [
          0,
          1
         ],
         "title": {
          "text": "rescues last year"
         }
        }
       }
      }
     },
     "metadata": {},
     "output_type": "display_data"
    }
   ],
   "source": [
    "import graphing\n",
    "import statsmodels.formula.api as smf\n",
    "\n",
    "# First, we define our formula using a special syntax\n",
    "# This says that rescues_last_year is explained by weight_last_year\n",
    "formula = \"rescues_last_year ~ weight_last_year\"\n",
    "\n",
    "model = smf.ols(formula = formula, data = data).fit()\n",
    "\n",
    "graphing.scatter_2D(data, \"weight_last_year\", \"rescues_last_year\", trendline = lambda x: model.params[1] * x + model.params[0])\n"
   ]
  },
  {
   "attachments": {},
   "cell_type": "markdown",
   "metadata": {},
   "source": [
    "Train/test split\n",
    "\n",
    "This time, instead of fitting a model to the entirety of our dataset, we're going to separate our dataset into two smaller partitions: a training set and a test set.\n",
    "The training set is the largest of the two, usually made up of between 70-80% of the overall dataset, with the rest of the dataset making up the test set. By splitting our data, we're able to gauge the performance of our model when confronted with previously unseen data.\n",
    "\n",
    "Notice that data on the test set is never used in training. For that reason it's commonly referred to as unseen data or data that is unknown by the model."
   ]
  },
  {
   "cell_type": "code",
   "execution_count": 6,
   "metadata": {},
   "outputs": [
    {
     "name": "stdout",
     "output_type": "stream",
     "text": [
      "Train\n",
      "    rescues_last_year  weight_last_year\n",
      "33                 30              19.4\n",
      "0                  35              14.5\n",
      "13                 36              19.5\n",
      "28                 31              16.1\n",
      "49                 37              23.0\n",
      "(35, 2)\n",
      "Test\n",
      "    rescues_last_year  weight_last_year\n",
      "7                  37              17.1\n",
      "44                 25              15.4\n",
      "43                 26              20.0\n",
      "25                 32              22.2\n",
      "14                 32              18.3\n",
      "(15, 2)\n"
     ]
    }
   ],
   "source": [
    "from sklearn.model_selection import train_test_split\n",
    "\n",
    "\n",
    "# Obtain the label and feature from the original data\n",
    "dataset = data[['rescues_last_year','weight_last_year']]\n",
    "\n",
    "# Split the dataset in an 70/30 train/test ratio. We also obtain the respective corresponding indices from the original dataset.\n",
    "train, test = train_test_split(dataset, train_size=0.7, random_state=21)\n",
    "\n",
    "print(\"Train\")\n",
    "print(train.head())\n",
    "print(train.shape)\n",
    "\n",
    "print(\"Test\")\n",
    "print(test.head())\n",
    "print(test.shape)"
   ]
  },
  {
   "attachments": {},
   "cell_type": "markdown",
   "metadata": {},
   "source": [
    "We can see that these sets are different, and that the training set and test set contain 70% and 30% of the overall data respectively.\n",
    "\n",
    "Let's have a look at how the training set and test set are separated out:"
   ]
  },
  {
   "cell_type": "code",
   "execution_count": 8,
   "metadata": {},
   "outputs": [
    {
     "name": "stdout",
     "output_type": "stream",
     "text": [
      "    rescues_last_year  weight_last_year Dataset\n",
      "33                 30              19.4   train\n",
      "0                  35              14.5   train\n",
      "13                 36              19.5   train\n",
      "28                 31              16.1   train\n",
      "49                 37              23.0   train\n",
      "40                 27               7.2   train\n",
      "45                 29              16.9   train\n",
      "48                 29              23.5   train\n",
      "46                 29              21.0   train\n",
      "29                 36              17.2   train\n",
      "37                 30              12.6   train\n",
      "1                  30              14.0   train\n",
      "27                 38              16.5   train\n",
      "24                 20              11.4   train\n",
      "32                 39              21.2   train\n",
      "3                  29              13.7   train\n",
      "26                 31              14.6   train\n",
      "16                 38              22.7   train\n",
      "42                 30              19.5   train\n",
      "6                  26              13.1   train\n",
      "18                 33              17.8   train\n",
      "5                  25              12.4   train\n",
      "12                 33              18.6   train\n",
      "39                 29               9.3   train\n",
      "20                 37              23.1   train\n",
      "38                 26              14.8   train\n",
      "36                 39              18.6   train\n",
      "41                 37              19.4   train\n",
      "8                  32              14.3   train\n",
      "10                 35              14.5   train\n",
      "34                 44              16.2   train\n",
      "35                 42              21.4   train\n",
      "4                  30              18.4   train\n",
      "15                 36              19.6   train\n",
      "9                  30              20.2   train\n",
      "7                  37              17.1    test\n",
      "44                 25              15.4    test\n",
      "43                 26              20.0    test\n",
      "25                 32              22.2    test\n",
      "14                 32              18.3    test\n",
      "2                  34              17.7    test\n",
      "23                 40              20.6    test\n",
      "31                 28              22.5    test\n",
      "17                 35              19.6    test\n",
      "47                 30              17.1    test\n",
      "30                 44              21.6    test\n",
      "21                 35              21.1    test\n",
      "19                 34              19.1    test\n",
      "11                 32              17.8    test\n",
      "22                 34              28.5    test\n"
     ]
    },
    {
     "data": {
      "application/vnd.plotly.v1+json": {
       "config": {
        "plotlyServerURL": "https://plot.ly"
       },
       "data": [
        {
         "hovertemplate": "Dataset=train<br>weight last year=%{x}<br>rescues last year=%{y}<extra></extra>",
         "legendgroup": "train",
         "marker": {
          "color": "#636efa",
          "size": 19,
          "symbol": "circle"
         },
         "mode": "markers",
         "name": "train",
         "orientation": "v",
         "showlegend": true,
         "type": "scatter",
         "x": [
          19.4,
          14.5,
          19.5,
          16.1,
          23,
          7.2,
          16.9,
          23.5,
          21,
          17.2,
          12.6,
          14,
          16.5,
          11.4,
          21.2,
          13.7,
          14.6,
          22.7,
          19.5,
          13.1,
          17.8,
          12.4,
          18.6,
          9.3,
          23.1,
          14.8,
          18.6,
          19.4,
          14.3,
          14.5,
          16.2,
          21.4,
          18.4,
          19.6,
          20.2
         ],
         "xaxis": "x",
         "y": [
          30,
          35,
          36,
          31,
          37,
          27,
          29,
          29,
          29,
          36,
          30,
          30,
          38,
          20,
          39,
          29,
          31,
          38,
          30,
          26,
          33,
          25,
          33,
          29,
          37,
          26,
          39,
          37,
          32,
          35,
          44,
          42,
          30,
          36,
          30
         ],
         "yaxis": "y"
        },
        {
         "hovertemplate": "Dataset=test<br>weight last year=%{x}<br>rescues last year=%{y}<extra></extra>",
         "legendgroup": "test",
         "marker": {
          "color": "#EF553B",
          "size": 19,
          "symbol": "circle"
         },
         "mode": "markers",
         "name": "test",
         "orientation": "v",
         "showlegend": true,
         "type": "scatter",
         "x": [
          17.1,
          15.4,
          20,
          22.2,
          18.3,
          17.7,
          20.6,
          22.5,
          19.6,
          17.1,
          21.6,
          21.1,
          19.1,
          17.8,
          28.5
         ],
         "xaxis": "x",
         "y": [
          37,
          25,
          26,
          32,
          32,
          34,
          40,
          28,
          35,
          30,
          44,
          35,
          34,
          32,
          34
         ],
         "yaxis": "y"
        }
       ],
       "layout": {
        "legend": {
         "title": {
          "text": "Dataset"
         },
         "tracegroupgap": 0
        },
        "shapes": [
         {
          "line": {
           "color": "rgb(228,26,28)"
          },
          "path": "M7.2 26.536859941675694 L 7.307035175879397 26.59873479990584 L 7.414070351758794 26.660609658135993 L 7.521105527638191 26.722484516366144 L 7.628140703517588 26.784359374596292 L 7.735175879396985 26.846234232826443 L 7.842211055276382 26.908109091056595 L 7.949246231155779 26.969983949286743 L 8.056281407035176 27.031858807516894 L 8.163316582914574 27.093733665747045 L 8.27035175879397 27.155608523977193 L 8.377386934673368 27.217483382207345 L 8.484422110552764 27.279358240437496 L 8.591457286432162 27.341233098667644 L 8.698492462311558 27.403107956897795 L 8.805527638190956 27.464982815127946 L 8.912562814070352 27.526857673358094 L 9.019597989949748 27.588732531588242 L 9.126633165829146 27.650607389818397 L 9.233668341708544 27.712482248048545 L 9.34070351758794 27.774357106278696 L 9.447738693467336 27.836231964508844 L 9.554773869346734 27.898106822738995 L 9.66180904522613 27.959981680969143 L 9.768844221105528 28.021856539199295 L 9.875879396984924 28.083731397429446 L 9.982914572864322 28.145606255659597 L 10.089949748743718 28.207481113889745 L 10.196984924623116 28.269355972119897 L 10.304020100502512 28.331230830350044 L 10.411055276381909 28.393105688580196 L 10.518090452261307 28.454980546810347 L 10.625125628140704 28.5168554050405 L 10.7321608040201 28.578730263270646 L 10.839195979899497 28.640605121500798 L 10.946231155778895 28.702479979730946 L 11.053266331658293 28.764354837961097 L 11.160301507537689 28.82622969619125 L 11.267336683417085 28.888104554421396 L 11.374371859296483 28.949979412651548 L 11.48140703517588 29.0118542708817 L 11.588442211055277 29.073729129111847 L 11.695477386934673 29.135603987341998 L 11.80251256281407 29.19747884557215 L 11.909547738693467 29.259353703802297 L 12.016582914572865 29.32122856203245 L 12.123618090452261 29.3831034202626 L 12.230653266331657 29.444978278492748 L 12.337688442211055 29.5068531367229 L 12.444723618090453 29.56872799495305 L 12.55175879396985 29.6306028531832 L 12.658793969849246 29.69247771141335 L 12.765829145728643 29.7543525696435 L 12.872864321608041 29.81622742787365 L 12.979899497487438 29.8781022861038 L 13.086934673366834 29.93997714433395 L 13.19396984924623 30.0018520025641 L 13.301005025125628 30.06372686079425 L 13.408040201005026 30.125601719024402 L 13.515075376884422 30.18747657725455 L 13.622110552763818 30.249351435484698 L 13.729145728643216 30.311226293714853 L 13.836180904522614 30.373101151945 L 13.94321608040201 30.43497601017515 L 14.050251256281406 30.4968508684053 L 14.157286432160804 30.55872572663545 L 14.264321608040202 30.620600584865603 L 14.371356783919598 30.682475443095754 L 14.478391959798994 30.744350301325902 L 14.585427135678392 30.80622515955605 L 14.69246231155779 30.868100017786205 L 14.799497487437186 30.929974876016352 L 14.906532663316582 30.9918497342465 L 15.013567839195979 31.05372459247665 L 15.120603015075377 31.115599450706803 L 15.227638190954774 31.17747430893695 L 15.33467336683417 31.239349167167102 L 15.441708542713567 31.301224025397254 L 15.548743718592966 31.363098883627405 L 15.655778894472363 31.424973741857556 L 15.762814070351759 31.486848600087704 L 15.869849246231155 31.548723458317852 L 15.976884422110551 31.610598316548003 L 16.08391959798995 31.672473174778155 L 16.190954773869347 31.734348033008303 L 16.297989949748743 31.796222891238454 L 16.40502512562814 31.858097749468605 L 16.51206030150754 31.919972607698753 L 16.619095477386935 31.981847465928904 L 16.72613065326633 32.043722324159056 L 16.833165829145727 32.105597182389204 L 16.940201005025127 32.16747204061936 L 17.047236180904523 32.229346898849506 L 17.15427135678392 32.291221757079654 L 17.261306532663315 32.35309661530981 L 17.368341708542715 32.41497147353996 L 17.47537688442211 32.476846331770105 L 17.582412060301507 32.53872119000026 L 17.689447236180904 32.60059604823041 L 17.7964824120603 32.662470906460555 L 17.9035175879397 32.72434576469071 L 18.010552763819096 32.78622062292086 L 18.117587939698492 32.848095481151006 L 18.224623115577888 32.909970339381154 L 18.331658291457288 32.97184519761131 L 18.438693467336684 33.03372005584146 L 18.54572864321608 33.095594914071604 L 18.652763819095476 33.15746977230175 L 18.759798994974876 33.21934463053191 L 18.866834170854272 33.28121948876206 L 18.973869346733668 33.34309434699221 L 19.080904522613064 33.40496920522236 L 19.18793969849246 33.466844063452506 L 19.29497487437186 33.52871892168266 L 19.402010050251256 33.59059377991281 L 19.509045226130652 33.652468638142956 L 19.61608040201005 33.714343496373104 L 19.72311557788945 33.77621835460326 L 19.830150753768844 33.83809321283341 L 19.93718592964824 33.899968071063554 L 20.044221105527637 33.96184292929371 L 20.151256281407036 34.023717787523864 L 20.258291457286433 34.08559264575401 L 20.36532663316583 34.14746750398416 L 20.472361809045225 34.20934236221431 L 20.579396984924625 34.27121722044446 L 20.68643216080402 34.33309207867461 L 20.793467336683417 34.39496693690476 L 20.900502512562813 34.456841795134906 L 21.00753768844221 34.51871665336506 L 21.11457286432161 34.58059151159521 L 21.221608040201005 34.64246636982536 L 21.3286432160804 34.70434122805551 L 21.435678391959797 34.76621608628566 L 21.542713567839197 34.82809094451581 L 21.649748743718593 34.88996580274596 L 21.75678391959799 34.95184066097611 L 21.863819095477385 35.01371551920626 L 21.970854271356785 35.07559037743641 L 22.07788944723618 35.13746523566656 L 22.184924623115577 35.19934009389671 L 22.291959798994974 35.26121495212686 L 22.398994974874373 35.32308981035701 L 22.50603015075377 35.38496466858716 L 22.613065326633166 35.446839526817314 L 22.72010050251256 35.50871438504746 L 22.827135678391958 35.57058924327761 L 22.934170854271358 35.632464101507765 L 23.041206030150754 35.69433895973791 L 23.14824120603015 35.75621381796806 L 23.255276381909546 35.818088676198215 L 23.362311557788942 35.87996353442836 L 23.469346733668342 35.94183839265851 L 23.576381909547738 36.003713250888666 L 23.683417085427134 36.06558810911881 L 23.79045226130653 36.12746296734896 L 23.89748743718593 36.189337825579116 L 24.004522613065326 36.251212683809264 L 24.111557788944722 36.31308754203941 L 24.21859296482412 36.37496240026957 L 24.325628140703518 36.436837258499715 L 24.432663316582914 36.49871211672986 L 24.53969849246231 36.56058697496002 L 24.646733668341707 36.622461833190165 L 24.753768844221103 36.68433669142031 L 24.860804020100502 36.74621154965047 L 24.9678391959799 36.808086407880616 L 25.074874371859295 36.869961266110764 L 25.18190954773869 36.93183612434092 L 25.28894472361809 36.993710982571066 L 25.395979899497487 37.055585840801214 L 25.503015075376883 37.11746069903137 L 25.61005025125628 37.17933555726152 L 25.71708542713568 37.241210415491665 L 25.824120603015075 37.30308527372182 L 25.93115577889447 37.36496013195197 L 26.038190954773867 37.426834990182115 L 26.145226130653263 37.48870984841226 L 26.252261306532663 37.55058470664242 L 26.35929648241206 37.612459564872566 L 26.466331658291455 37.67433442310272 L 26.57336683417085 37.73620928133287 L 26.68040201005025 37.79808413956302 L 26.787437185929647 37.85995899779317 L 26.894472361809044 37.92183385602332 L 27.00150753768844 37.98370871425347 L 27.10854271356784 38.04558357248362 L 27.215577889447236 38.10745843071377 L 27.32261306532663 38.16933328894392 L 27.429648241206028 38.231208147174065 L 27.536683417085428 38.29308300540422 L 27.643718592964824 38.35495786363437 L 27.75075376884422 38.41683272186452 L 27.857788944723616 38.478707580094664 L 27.964824120603012 38.54058243832482 L 28.071859296482412 38.602457296554974 L 28.178894472361808 38.664332154785114 L 28.285929648241204 38.72620701301527 L 28.3929648241206 38.78808187124542 L 28.5 38.84995672947557",
          "type": "path"
         }
        ],
        "template": {
         "data": {
          "bar": [
           {
            "error_x": {
             "color": "#2a3f5f"
            },
            "error_y": {
             "color": "#2a3f5f"
            },
            "marker": {
             "line": {
              "color": "white",
              "width": 0.5
             },
             "pattern": {
              "fillmode": "overlay",
              "size": 10,
              "solidity": 0.2
             }
            },
            "type": "bar"
           }
          ],
          "barpolar": [
           {
            "marker": {
             "line": {
              "color": "white",
              "width": 0.5
             },
             "pattern": {
              "fillmode": "overlay",
              "size": 10,
              "solidity": 0.2
             }
            },
            "type": "barpolar"
           }
          ],
          "box": [
           {
            "boxpoints": "outliers",
            "notched": false,
            "type": "box"
           }
          ],
          "carpet": [
           {
            "aaxis": {
             "endlinecolor": "#2a3f5f",
             "gridcolor": "#C8D4E3",
             "linecolor": "#C8D4E3",
             "minorgridcolor": "#C8D4E3",
             "startlinecolor": "#2a3f5f"
            },
            "baxis": {
             "endlinecolor": "#2a3f5f",
             "gridcolor": "#C8D4E3",
             "linecolor": "#C8D4E3",
             "minorgridcolor": "#C8D4E3",
             "startlinecolor": "#2a3f5f"
            },
            "type": "carpet"
           }
          ],
          "choropleth": [
           {
            "colorbar": {
             "outlinewidth": 0,
             "ticks": ""
            },
            "type": "choropleth"
           }
          ],
          "contour": [
           {
            "colorbar": {
             "outlinewidth": 0,
             "ticks": ""
            },
            "colorscale": [
             [
              0,
              "#0d0887"
             ],
             [
              0.1111111111111111,
              "#46039f"
             ],
             [
              0.2222222222222222,
              "#7201a8"
             ],
             [
              0.3333333333333333,
              "#9c179e"
             ],
             [
              0.4444444444444444,
              "#bd3786"
             ],
             [
              0.5555555555555556,
              "#d8576b"
             ],
             [
              0.6666666666666666,
              "#ed7953"
             ],
             [
              0.7777777777777778,
              "#fb9f3a"
             ],
             [
              0.8888888888888888,
              "#fdca26"
             ],
             [
              1,
              "#f0f921"
             ]
            ],
            "type": "contour"
           }
          ],
          "contourcarpet": [
           {
            "colorbar": {
             "outlinewidth": 0,
             "ticks": ""
            },
            "type": "contourcarpet"
           }
          ],
          "heatmap": [
           {
            "colorbar": {
             "outlinewidth": 0,
             "ticks": ""
            },
            "colorscale": [
             [
              0,
              "#0d0887"
             ],
             [
              0.1111111111111111,
              "#46039f"
             ],
             [
              0.2222222222222222,
              "#7201a8"
             ],
             [
              0.3333333333333333,
              "#9c179e"
             ],
             [
              0.4444444444444444,
              "#bd3786"
             ],
             [
              0.5555555555555556,
              "#d8576b"
             ],
             [
              0.6666666666666666,
              "#ed7953"
             ],
             [
              0.7777777777777778,
              "#fb9f3a"
             ],
             [
              0.8888888888888888,
              "#fdca26"
             ],
             [
              1,
              "#f0f921"
             ]
            ],
            "type": "heatmap"
           }
          ],
          "heatmapgl": [
           {
            "colorbar": {
             "outlinewidth": 0,
             "ticks": ""
            },
            "colorscale": [
             [
              0,
              "#0d0887"
             ],
             [
              0.1111111111111111,
              "#46039f"
             ],
             [
              0.2222222222222222,
              "#7201a8"
             ],
             [
              0.3333333333333333,
              "#9c179e"
             ],
             [
              0.4444444444444444,
              "#bd3786"
             ],
             [
              0.5555555555555556,
              "#d8576b"
             ],
             [
              0.6666666666666666,
              "#ed7953"
             ],
             [
              0.7777777777777778,
              "#fb9f3a"
             ],
             [
              0.8888888888888888,
              "#fdca26"
             ],
             [
              1,
              "#f0f921"
             ]
            ],
            "type": "heatmapgl"
           }
          ],
          "histogram": [
           {
            "marker": {
             "line": {
              "width": 1
             },
             "pattern": {
              "fillmode": "overlay",
              "size": 10,
              "solidity": 0.2
             }
            },
            "type": "histogram"
           }
          ],
          "histogram2d": [
           {
            "colorbar": {
             "outlinewidth": 0,
             "ticks": ""
            },
            "colorscale": [
             [
              0,
              "#0d0887"
             ],
             [
              0.1111111111111111,
              "#46039f"
             ],
             [
              0.2222222222222222,
              "#7201a8"
             ],
             [
              0.3333333333333333,
              "#9c179e"
             ],
             [
              0.4444444444444444,
              "#bd3786"
             ],
             [
              0.5555555555555556,
              "#d8576b"
             ],
             [
              0.6666666666666666,
              "#ed7953"
             ],
             [
              0.7777777777777778,
              "#fb9f3a"
             ],
             [
              0.8888888888888888,
              "#fdca26"
             ],
             [
              1,
              "#f0f921"
             ]
            ],
            "type": "histogram2d"
           }
          ],
          "histogram2dcontour": [
           {
            "colorbar": {
             "outlinewidth": 0,
             "ticks": ""
            },
            "colorscale": [
             [
              0,
              "#0d0887"
             ],
             [
              0.1111111111111111,
              "#46039f"
             ],
             [
              0.2222222222222222,
              "#7201a8"
             ],
             [
              0.3333333333333333,
              "#9c179e"
             ],
             [
              0.4444444444444444,
              "#bd3786"
             ],
             [
              0.5555555555555556,
              "#d8576b"
             ],
             [
              0.6666666666666666,
              "#ed7953"
             ],
             [
              0.7777777777777778,
              "#fb9f3a"
             ],
             [
              0.8888888888888888,
              "#fdca26"
             ],
             [
              1,
              "#f0f921"
             ]
            ],
            "type": "histogram2dcontour"
           }
          ],
          "mesh3d": [
           {
            "colorbar": {
             "outlinewidth": 0,
             "ticks": ""
            },
            "type": "mesh3d"
           }
          ],
          "parcoords": [
           {
            "line": {
             "colorbar": {
              "outlinewidth": 0,
              "ticks": ""
             }
            },
            "type": "parcoords"
           }
          ],
          "pie": [
           {
            "automargin": true,
            "type": "pie"
           }
          ],
          "scatter": [
           {
            "fillpattern": {
             "fillmode": "overlay",
             "size": 10,
             "solidity": 0.2
            },
            "marker": {
             "opacity": 0.8
            },
            "type": "scatter"
           }
          ],
          "scatter3d": [
           {
            "line": {
             "colorbar": {
              "outlinewidth": 0,
              "ticks": ""
             }
            },
            "marker": {
             "colorbar": {
              "outlinewidth": 0,
              "ticks": ""
             },
             "opacity": 0.8
            },
            "type": "scatter3d"
           }
          ],
          "scattercarpet": [
           {
            "marker": {
             "colorbar": {
              "outlinewidth": 0,
              "ticks": ""
             }
            },
            "type": "scattercarpet"
           }
          ],
          "scattergeo": [
           {
            "marker": {
             "colorbar": {
              "outlinewidth": 0,
              "ticks": ""
             }
            },
            "type": "scattergeo"
           }
          ],
          "scattergl": [
           {
            "marker": {
             "colorbar": {
              "outlinewidth": 0,
              "ticks": ""
             }
            },
            "type": "scattergl"
           }
          ],
          "scattermapbox": [
           {
            "marker": {
             "colorbar": {
              "outlinewidth": 0,
              "ticks": ""
             }
            },
            "type": "scattermapbox"
           }
          ],
          "scatterpolar": [
           {
            "marker": {
             "colorbar": {
              "outlinewidth": 0,
              "ticks": ""
             }
            },
            "type": "scatterpolar"
           }
          ],
          "scatterpolargl": [
           {
            "marker": {
             "colorbar": {
              "outlinewidth": 0,
              "ticks": ""
             }
            },
            "type": "scatterpolargl"
           }
          ],
          "scatterternary": [
           {
            "marker": {
             "colorbar": {
              "outlinewidth": 0,
              "ticks": ""
             }
            },
            "type": "scatterternary"
           }
          ],
          "surface": [
           {
            "colorbar": {
             "outlinewidth": 0,
             "ticks": ""
            },
            "colorscale": [
             [
              0,
              "#0d0887"
             ],
             [
              0.1111111111111111,
              "#46039f"
             ],
             [
              0.2222222222222222,
              "#7201a8"
             ],
             [
              0.3333333333333333,
              "#9c179e"
             ],
             [
              0.4444444444444444,
              "#bd3786"
             ],
             [
              0.5555555555555556,
              "#d8576b"
             ],
             [
              0.6666666666666666,
              "#ed7953"
             ],
             [
              0.7777777777777778,
              "#fb9f3a"
             ],
             [
              0.8888888888888888,
              "#fdca26"
             ],
             [
              1,
              "#f0f921"
             ]
            ],
            "type": "surface"
           }
          ],
          "table": [
           {
            "cells": {
             "fill": {
              "color": "#EBF0F8"
             },
             "line": {
              "color": "white"
             }
            },
            "header": {
             "fill": {
              "color": "#C8D4E3"
             },
             "line": {
              "color": "white"
             }
            },
            "type": "table"
           }
          ]
         },
         "layout": {
          "annotationdefaults": {
           "arrowcolor": "#2a3f5f",
           "arrowhead": 0,
           "arrowwidth": 1
          },
          "autotypenumbers": "strict",
          "coloraxis": {
           "colorbar": {
            "outlinewidth": 0,
            "ticks": ""
           }
          },
          "colorscale": {
           "diverging": [
            [
             0,
             "#8e0152"
            ],
            [
             0.1,
             "#c51b7d"
            ],
            [
             0.2,
             "#de77ae"
            ],
            [
             0.3,
             "#f1b6da"
            ],
            [
             0.4,
             "#fde0ef"
            ],
            [
             0.5,
             "#f7f7f7"
            ],
            [
             0.6,
             "#e6f5d0"
            ],
            [
             0.7,
             "#b8e186"
            ],
            [
             0.8,
             "#7fbc41"
            ],
            [
             0.9,
             "#4d9221"
            ],
            [
             1,
             "#276419"
            ]
           ],
           "sequential": [
            [
             0,
             "#0d0887"
            ],
            [
             0.1111111111111111,
             "#46039f"
            ],
            [
             0.2222222222222222,
             "#7201a8"
            ],
            [
             0.3333333333333333,
             "#9c179e"
            ],
            [
             0.4444444444444444,
             "#bd3786"
            ],
            [
             0.5555555555555556,
             "#d8576b"
            ],
            [
             0.6666666666666666,
             "#ed7953"
            ],
            [
             0.7777777777777778,
             "#fb9f3a"
            ],
            [
             0.8888888888888888,
             "#fdca26"
            ],
            [
             1,
             "#f0f921"
            ]
           ],
           "sequentialminus": [
            [
             0,
             "#0d0887"
            ],
            [
             0.1111111111111111,
             "#46039f"
            ],
            [
             0.2222222222222222,
             "#7201a8"
            ],
            [
             0.3333333333333333,
             "#9c179e"
            ],
            [
             0.4444444444444444,
             "#bd3786"
            ],
            [
             0.5555555555555556,
             "#d8576b"
            ],
            [
             0.6666666666666666,
             "#ed7953"
            ],
            [
             0.7777777777777778,
             "#fb9f3a"
            ],
            [
             0.8888888888888888,
             "#fdca26"
            ],
            [
             1,
             "#f0f921"
            ]
           ]
          },
          "colorway": [
           "#636efa",
           "#EF553B",
           "#00cc96",
           "#ab63fa",
           "#FFA15A",
           "#19d3f3",
           "#FF6692",
           "#B6E880",
           "#FF97FF",
           "#FECB52"
          ],
          "font": {
           "color": "#2a3f5f"
          },
          "geo": {
           "bgcolor": "white",
           "lakecolor": "white",
           "landcolor": "white",
           "showlakes": true,
           "showland": true,
           "subunitcolor": "#C8D4E3"
          },
          "height": 400,
          "hoverlabel": {
           "align": "left"
          },
          "hovermode": "closest",
          "mapbox": {
           "style": "light"
          },
          "margin": {
           "b": 2,
           "l": 2,
           "r": 2,
           "t": 30
          },
          "paper_bgcolor": "white",
          "plot_bgcolor": "white",
          "polar": {
           "angularaxis": {
            "gridcolor": "#EBF0F8",
            "linecolor": "#EBF0F8",
            "ticks": ""
           },
           "bgcolor": "white",
           "radialaxis": {
            "gridcolor": "#EBF0F8",
            "linecolor": "#EBF0F8",
            "ticks": ""
           }
          },
          "scene": {
           "camera": {
            "eye": {
             "x": 1.5,
             "y": 1.5,
             "z": 0.1
            }
           },
           "xaxis": {
            "backgroundcolor": "white",
            "gridcolor": "#DFE8F3",
            "gridwidth": 2,
            "linecolor": "#EBF0F8",
            "showbackground": true,
            "ticks": "",
            "zerolinecolor": "#EBF0F8"
           },
           "yaxis": {
            "backgroundcolor": "white",
            "gridcolor": "#DFE8F3",
            "gridwidth": 2,
            "linecolor": "#EBF0F8",
            "showbackground": true,
            "ticks": "",
            "zerolinecolor": "#EBF0F8"
           },
           "zaxis": {
            "backgroundcolor": "white",
            "gridcolor": "#DFE8F3",
            "gridwidth": 2,
            "linecolor": "#EBF0F8",
            "showbackground": true,
            "ticks": "",
            "zerolinecolor": "#EBF0F8"
           }
          },
          "shapedefaults": {
           "line": {
            "color": "#2a3f5f"
           }
          },
          "ternary": {
           "aaxis": {
            "gridcolor": "#DFE8F3",
            "linecolor": "#A2B1C6",
            "ticks": ""
           },
           "baxis": {
            "gridcolor": "#DFE8F3",
            "linecolor": "#A2B1C6",
            "ticks": ""
           },
           "bgcolor": "white",
           "caxis": {
            "gridcolor": "#DFE8F3",
            "linecolor": "#A2B1C6",
            "ticks": ""
           }
          },
          "title": {
           "x": 0.5
          },
          "xaxis": {
           "automargin": true,
           "gridcolor": "#EBF0F8",
           "linecolor": "#EBF0F8",
           "linewidth": 2,
           "showline": true,
           "ticks": "",
           "title": {
            "standoff": 15
           },
           "zerolinecolor": "#EBF0F8",
           "zerolinewidth": 2
          },
          "yaxis": {
           "automargin": true,
           "gridcolor": "#EBF0F8",
           "linecolor": "#EBF0F8",
           "linewidth": 2,
           "showline": true,
           "ticks": "",
           "title": {
            "standoff": 15
           },
           "zerolinecolor": "#EBF0F8",
           "zerolinewidth": 2
          }
         }
        },
        "xaxis": {
         "anchor": "y",
         "domain": [
          0,
          1
         ],
         "title": {
          "text": "weight last year"
         }
        },
        "yaxis": {
         "anchor": "x",
         "domain": [
          0,
          1
         ],
         "title": {
          "text": "rescues last year"
         }
        }
       }
      }
     },
     "metadata": {},
     "output_type": "display_data"
    }
   ],
   "source": [
    "# You don't need to understand this code well\n",
    "# It's just used to create a scatter plot\n",
    "\n",
    "# concatenate training and test so they can be graphed\n",
    "plot_set = pandas.concat([train,test])\n",
    "plot_set[\"Dataset\"] = [\"train\"] * len(train) + [\"test\"] * len(test)\n",
    "\n",
    "print(plot_set)\n",
    "\n",
    "# Create graph\n",
    "graphing.scatter_2D(plot_set, \"weight_last_year\", \"rescues_last_year\", \"Dataset\", trendline = lambda x: model.params[1] * x + model.params[0])"
   ]
  },
  {
   "attachments": {},
   "cell_type": "markdown",
   "metadata": {},
   "source": [
    "Training Set\n",
    "\n",
    "We begin by training our model using the training set, and testing its performance with the same training set:\n"
   ]
  },
  {
   "cell_type": "code",
   "execution_count": 9,
   "metadata": {},
   "outputs": [
    {
     "data": {
      "application/vnd.plotly.v1+json": {
       "config": {
        "plotlyServerURL": "https://plot.ly"
       },
       "data": [
        {
         "hovertemplate": "weight last year=%{x}<br>rescues last year=%{y}<extra></extra>",
         "legendgroup": "",
         "marker": {
          "color": "#636efa",
          "size": 19,
          "symbol": "circle"
         },
         "mode": "markers",
         "name": "",
         "orientation": "v",
         "showlegend": false,
         "type": "scatter",
         "x": [
          19.4,
          14.5,
          19.5,
          16.1,
          23,
          7.2,
          16.9,
          23.5,
          21,
          17.2,
          12.6,
          14,
          16.5,
          11.4,
          21.2,
          13.7,
          14.6,
          22.7,
          19.5,
          13.1,
          17.8,
          12.4,
          18.6,
          9.3,
          23.1,
          14.8,
          18.6,
          19.4,
          14.3,
          14.5,
          16.2,
          21.4,
          18.4,
          19.6,
          20.2
         ],
         "xaxis": "x",
         "y": [
          30,
          35,
          36,
          31,
          37,
          27,
          29,
          29,
          29,
          36,
          30,
          30,
          38,
          20,
          39,
          29,
          31,
          38,
          30,
          26,
          33,
          25,
          33,
          29,
          37,
          26,
          39,
          37,
          32,
          35,
          44,
          42,
          30,
          36,
          30
         ],
         "yaxis": "y"
        }
       ],
       "layout": {
        "legend": {
         "tracegroupgap": 0
        },
        "shapes": [
         {
          "line": {
           "color": "rgb(228,26,28)"
          },
          "path": "M7.2 25.780056775396893 L 7.281909547738693 25.83614601896564 L 7.363819095477387 25.892235262534385 L 7.44572864321608 25.94832450610313 L 7.527638190954774 26.004413749671876 L 7.609547738693467 26.060502993240622 L 7.691457286432161 26.116592236809367 L 7.773366834170854 26.172681480378113 L 7.8552763819095475 26.22877072394686 L 7.937185929648241 26.2848599675156 L 8.019095477386935 26.34094921108435 L 8.101005025125628 26.397038454653092 L 8.182914572864322 26.453127698221838 L 8.264824120603015 26.509216941790584 L 8.34673366834171 26.56530618535933 L 8.428643216080403 26.621395428928075 L 8.510552763819096 26.677484672496817 L 8.592462311557789 26.733573916065563 L 8.674371859296482 26.78966315963431 L 8.756281407035177 26.845752403203054 L 8.83819095477387 26.9018416467718 L 8.920100502512563 26.957930890340545 L 9.002010050251256 27.01402013390929 L 9.08391959798995 27.070109377478037 L 9.165829145728644 27.126198621046782 L 9.247738693467337 27.182287864615525 L 9.32964824120603 27.23837710818427 L 9.411557788944723 27.294466351753016 L 9.493467336683416 27.35055559532176 L 9.575376884422111 27.406644838890507 L 9.657286432160804 27.462734082459253 L 9.739195979899497 27.518823326028 L 9.821105527638192 27.574912569596744 L 9.903015075376885 27.63100181316549 L 9.984924623115578 27.687091056734232 L 10.066834170854271 27.743180300302978 L 10.148743718592964 27.799269543871723 L 10.230653266331657 27.85535878744047 L 10.312562814070352 27.911448031009215 L 10.394472361809045 27.96753727457796 L 10.476381909547738 28.023626518146706 L 10.558291457286433 28.07971576171545 L 10.640201005025126 28.135805005284194 L 10.72211055276382 28.19189424885294 L 10.804020100502512 28.247983492421685 L 10.885929648241206 28.30407273599043 L 10.967839195979899 28.360161979559173 L 11.049748743718594 28.416251223127922 L 11.131658291457287 28.472340466696664 L 11.21356783919598 28.52842971026541 L 11.295477386934675 28.584518953834156 L 11.377386934673368 28.6406081974029 L 11.45929648241206 28.696697440971647 L 11.541206030150754 28.752786684540393 L 11.623115577889447 28.80887592810914 L 11.70502512562814 28.86496517167788 L 11.786934673366833 28.92105441524663 L 11.868844221105528 28.977143658815372 L 11.950753768844221 29.033232902384118 L 12.032663316582916 29.089322145952863 L 12.114572864321609 29.14541138952161 L 12.196482412060302 29.201500633090355 L 12.278391959798995 29.257589876659097 L 12.360301507537688 29.313679120227846 L 12.442211055276381 29.369768363796588 L 12.524120603015074 29.425857607365334 L 12.606030150753769 29.48194685093408 L 12.687939698492462 29.538036094502825 L 12.769849246231157 29.59412533807157 L 12.85175879396985 29.650214581640316 L 12.933668341708543 29.706303825209062 L 13.015577889447236 29.762393068777804 L 13.09748743718593 29.818482312346553 L 13.179396984924622 29.874571555915296 L 13.261306532663315 29.93066079948404 L 13.34321608040201 29.986750043052787 L 13.425125628140703 30.042839286621533 L 13.507035175879398 30.09892853019028 L 13.588944723618091 30.155017773759024 L 13.670854271356784 30.21110701732777 L 13.752763819095478 30.26719626089651 L 13.83467336683417 30.32328550446526 L 13.916582914572864 30.379374748034003 L 13.998492462311557 30.43546399160275 L 14.080402010050252 30.491553235171494 L 14.162311557788945 30.54764247874024 L 14.24422110552764 30.603731722308986 L 14.326130653266333 30.65982096587773 L 14.408040201005026 30.715910209446477 L 14.489949748743719 30.77199945301522 L 14.571859296482412 30.828088696583965 L 14.653768844221105 30.88417794015271 L 14.735678391959798 30.940267183721456 L 14.817587939698493 30.996356427290202 L 14.899497487437186 31.052445670858944 L 14.98140703517588 31.108534914427693 L 15.063316582914574 31.164624157996435 L 15.145226130653267 31.220713401565185 L 15.22713567839196 31.276802645133927 L 15.309045226130653 31.332891888702672 L 15.390954773869346 31.388981132271418 L 15.47286432160804 31.44507037584016 L 15.554773869346732 31.50115961940891 L 15.636683417085429 31.557248862977655 L 15.718592964824122 31.6133381065464 L 15.800502512562815 31.669427350115143 L 15.882412060301508 31.725516593683892 L 15.964321608040201 31.781605837252634 L 16.046231155778894 31.83769508082138 L 16.128140703517587 31.893784324390126 L 16.21005025125628 31.949873567958868 L 16.291959798994974 32.00596281152762 L 16.373869346733667 32.06205205509636 L 16.455778894472363 32.11814129866511 L 16.537688442211056 32.17423054223385 L 16.61959798994975 32.23031978580259 L 16.701507537688443 32.28640902937134 L 16.783417085427136 32.34249827294009 L 16.86532663316583 32.39858751650883 L 16.94723618090452 32.454676760077575 L 17.029145728643215 32.510766003646324 L 17.111055276381908 32.56685524721507 L 17.192964824120605 32.622944490783816 L 17.274874371859298 32.67903373435256 L 17.35678391959799 32.73512297792131 L 17.438693467336684 32.79121222149005 L 17.520603015075377 32.84730146505879 L 17.60251256281407 32.90339070862754 L 17.684422110552763 32.95947995219628 L 17.766331658291456 33.015569195765025 L 17.84824120603015 33.071658439333774 L 17.930150753768846 33.12774768290252 L 18.01206030150754 33.183836926471265 L 18.093969849246232 33.23992617004001 L 18.175879396984925 33.29601541360876 L 18.257788944723618 33.3521046571775 L 18.33969849246231 33.40819390074625 L 18.421608040201004 33.46428314431499 L 18.503517587939697 33.52037238788374 L 18.58542713567839 33.57646163145248 L 18.667336683417087 33.63255087502123 L 18.74924623115578 33.68864011858997 L 18.831155778894473 33.74472936215872 L 18.913065326633166 33.800818605727464 L 18.99497487437186 33.856907849296206 L 19.076884422110552 33.912997092864956 L 19.158793969849246 33.9690863364337 L 19.24070351758794 34.02517558000244 L 19.32261306532663 34.08126482357119 L 19.40452261306533 34.13735406713994 L 19.48643216080402 34.19344331070868 L 19.568341708542714 34.24953255427742 L 19.650251256281408 34.30562179784617 L 19.7321608040201 34.361711041414914 L 19.814070351758794 34.417800284983656 L 19.895979899497487 34.473889528552405 L 19.97788944723618 34.529978772121154 L 20.059798994974873 34.5860680156899 L 20.14170854271357 34.64215725925864 L 20.223618090452263 34.69824650282739 L 20.305527638190956 34.75433574639613 L 20.38743718592965 34.81042498996488 L 20.469346733668342 34.86651423353362 L 20.551256281407035 34.92260347710237 L 20.633165829145728 34.97869272067111 L 20.71507537688442 35.034781964239855 L 20.796984924623114 35.090871207808604 L 20.87889447236181 35.14696045137735 L 20.960804020100504 35.203049694946095 L 21.042713567839197 35.25913893851484 L 21.12462311557789 35.31522818208359 L 21.206532663316583 35.37131742565233 L 21.288442211055276 35.42740666922107 L 21.37035175879397 35.48349591278982 L 21.452261306532662 35.53958515635856 L 21.534170854271355 35.59567439992731 L 21.61608040201005 35.651763643496054 L 21.697989949748745 35.7078528870648 L 21.77989949748744 35.763942130633545 L 21.86180904522613 35.82003137420229 L 21.943718592964824 35.876120617771036 L 22.025628140703517 35.932209861339786 L 22.10753768844221 35.98829910490853 L 22.189447236180904 36.04438834847727 L 22.271356783919597 36.10047759204602 L 22.35326633165829 36.15656683561476 L 22.435175879396986 36.21265607918351 L 22.51708542713568 36.26874532275225 L 22.598994974874373 36.324834566321 L 22.680904522613066 36.380923809889744 L 22.76281407035176 36.437013053458486 L 22.844723618090452 36.493102297027235 L 22.926633165829145 36.54919154059598 L 23.008542713567838 36.60528078416472 L 23.09045226130653 36.66137002773347 L 23.172361809045228 36.71745927130222 L 23.254271356783917 36.77354851487096 L 23.336180904522614 36.8296377584397 L 23.418090452261307 36.88572700200845 L 23.5 36.9418162455772",
          "type": "path"
         }
        ],
        "template": {
         "data": {
          "bar": [
           {
            "error_x": {
             "color": "#2a3f5f"
            },
            "error_y": {
             "color": "#2a3f5f"
            },
            "marker": {
             "line": {
              "color": "white",
              "width": 0.5
             },
             "pattern": {
              "fillmode": "overlay",
              "size": 10,
              "solidity": 0.2
             }
            },
            "type": "bar"
           }
          ],
          "barpolar": [
           {
            "marker": {
             "line": {
              "color": "white",
              "width": 0.5
             },
             "pattern": {
              "fillmode": "overlay",
              "size": 10,
              "solidity": 0.2
             }
            },
            "type": "barpolar"
           }
          ],
          "box": [
           {
            "boxpoints": "outliers",
            "notched": false,
            "type": "box"
           }
          ],
          "carpet": [
           {
            "aaxis": {
             "endlinecolor": "#2a3f5f",
             "gridcolor": "#C8D4E3",
             "linecolor": "#C8D4E3",
             "minorgridcolor": "#C8D4E3",
             "startlinecolor": "#2a3f5f"
            },
            "baxis": {
             "endlinecolor": "#2a3f5f",
             "gridcolor": "#C8D4E3",
             "linecolor": "#C8D4E3",
             "minorgridcolor": "#C8D4E3",
             "startlinecolor": "#2a3f5f"
            },
            "type": "carpet"
           }
          ],
          "choropleth": [
           {
            "colorbar": {
             "outlinewidth": 0,
             "ticks": ""
            },
            "type": "choropleth"
           }
          ],
          "contour": [
           {
            "colorbar": {
             "outlinewidth": 0,
             "ticks": ""
            },
            "colorscale": [
             [
              0,
              "#0d0887"
             ],
             [
              0.1111111111111111,
              "#46039f"
             ],
             [
              0.2222222222222222,
              "#7201a8"
             ],
             [
              0.3333333333333333,
              "#9c179e"
             ],
             [
              0.4444444444444444,
              "#bd3786"
             ],
             [
              0.5555555555555556,
              "#d8576b"
             ],
             [
              0.6666666666666666,
              "#ed7953"
             ],
             [
              0.7777777777777778,
              "#fb9f3a"
             ],
             [
              0.8888888888888888,
              "#fdca26"
             ],
             [
              1,
              "#f0f921"
             ]
            ],
            "type": "contour"
           }
          ],
          "contourcarpet": [
           {
            "colorbar": {
             "outlinewidth": 0,
             "ticks": ""
            },
            "type": "contourcarpet"
           }
          ],
          "heatmap": [
           {
            "colorbar": {
             "outlinewidth": 0,
             "ticks": ""
            },
            "colorscale": [
             [
              0,
              "#0d0887"
             ],
             [
              0.1111111111111111,
              "#46039f"
             ],
             [
              0.2222222222222222,
              "#7201a8"
             ],
             [
              0.3333333333333333,
              "#9c179e"
             ],
             [
              0.4444444444444444,
              "#bd3786"
             ],
             [
              0.5555555555555556,
              "#d8576b"
             ],
             [
              0.6666666666666666,
              "#ed7953"
             ],
             [
              0.7777777777777778,
              "#fb9f3a"
             ],
             [
              0.8888888888888888,
              "#fdca26"
             ],
             [
              1,
              "#f0f921"
             ]
            ],
            "type": "heatmap"
           }
          ],
          "heatmapgl": [
           {
            "colorbar": {
             "outlinewidth": 0,
             "ticks": ""
            },
            "colorscale": [
             [
              0,
              "#0d0887"
             ],
             [
              0.1111111111111111,
              "#46039f"
             ],
             [
              0.2222222222222222,
              "#7201a8"
             ],
             [
              0.3333333333333333,
              "#9c179e"
             ],
             [
              0.4444444444444444,
              "#bd3786"
             ],
             [
              0.5555555555555556,
              "#d8576b"
             ],
             [
              0.6666666666666666,
              "#ed7953"
             ],
             [
              0.7777777777777778,
              "#fb9f3a"
             ],
             [
              0.8888888888888888,
              "#fdca26"
             ],
             [
              1,
              "#f0f921"
             ]
            ],
            "type": "heatmapgl"
           }
          ],
          "histogram": [
           {
            "marker": {
             "line": {
              "width": 1
             },
             "pattern": {
              "fillmode": "overlay",
              "size": 10,
              "solidity": 0.2
             }
            },
            "type": "histogram"
           }
          ],
          "histogram2d": [
           {
            "colorbar": {
             "outlinewidth": 0,
             "ticks": ""
            },
            "colorscale": [
             [
              0,
              "#0d0887"
             ],
             [
              0.1111111111111111,
              "#46039f"
             ],
             [
              0.2222222222222222,
              "#7201a8"
             ],
             [
              0.3333333333333333,
              "#9c179e"
             ],
             [
              0.4444444444444444,
              "#bd3786"
             ],
             [
              0.5555555555555556,
              "#d8576b"
             ],
             [
              0.6666666666666666,
              "#ed7953"
             ],
             [
              0.7777777777777778,
              "#fb9f3a"
             ],
             [
              0.8888888888888888,
              "#fdca26"
             ],
             [
              1,
              "#f0f921"
             ]
            ],
            "type": "histogram2d"
           }
          ],
          "histogram2dcontour": [
           {
            "colorbar": {
             "outlinewidth": 0,
             "ticks": ""
            },
            "colorscale": [
             [
              0,
              "#0d0887"
             ],
             [
              0.1111111111111111,
              "#46039f"
             ],
             [
              0.2222222222222222,
              "#7201a8"
             ],
             [
              0.3333333333333333,
              "#9c179e"
             ],
             [
              0.4444444444444444,
              "#bd3786"
             ],
             [
              0.5555555555555556,
              "#d8576b"
             ],
             [
              0.6666666666666666,
              "#ed7953"
             ],
             [
              0.7777777777777778,
              "#fb9f3a"
             ],
             [
              0.8888888888888888,
              "#fdca26"
             ],
             [
              1,
              "#f0f921"
             ]
            ],
            "type": "histogram2dcontour"
           }
          ],
          "mesh3d": [
           {
            "colorbar": {
             "outlinewidth": 0,
             "ticks": ""
            },
            "type": "mesh3d"
           }
          ],
          "parcoords": [
           {
            "line": {
             "colorbar": {
              "outlinewidth": 0,
              "ticks": ""
             }
            },
            "type": "parcoords"
           }
          ],
          "pie": [
           {
            "automargin": true,
            "type": "pie"
           }
          ],
          "scatter": [
           {
            "fillpattern": {
             "fillmode": "overlay",
             "size": 10,
             "solidity": 0.2
            },
            "marker": {
             "opacity": 0.8
            },
            "type": "scatter"
           }
          ],
          "scatter3d": [
           {
            "line": {
             "colorbar": {
              "outlinewidth": 0,
              "ticks": ""
             }
            },
            "marker": {
             "colorbar": {
              "outlinewidth": 0,
              "ticks": ""
             },
             "opacity": 0.8
            },
            "type": "scatter3d"
           }
          ],
          "scattercarpet": [
           {
            "marker": {
             "colorbar": {
              "outlinewidth": 0,
              "ticks": ""
             }
            },
            "type": "scattercarpet"
           }
          ],
          "scattergeo": [
           {
            "marker": {
             "colorbar": {
              "outlinewidth": 0,
              "ticks": ""
             }
            },
            "type": "scattergeo"
           }
          ],
          "scattergl": [
           {
            "marker": {
             "colorbar": {
              "outlinewidth": 0,
              "ticks": ""
             }
            },
            "type": "scattergl"
           }
          ],
          "scattermapbox": [
           {
            "marker": {
             "colorbar": {
              "outlinewidth": 0,
              "ticks": ""
             }
            },
            "type": "scattermapbox"
           }
          ],
          "scatterpolar": [
           {
            "marker": {
             "colorbar": {
              "outlinewidth": 0,
              "ticks": ""
             }
            },
            "type": "scatterpolar"
           }
          ],
          "scatterpolargl": [
           {
            "marker": {
             "colorbar": {
              "outlinewidth": 0,
              "ticks": ""
             }
            },
            "type": "scatterpolargl"
           }
          ],
          "scatterternary": [
           {
            "marker": {
             "colorbar": {
              "outlinewidth": 0,
              "ticks": ""
             }
            },
            "type": "scatterternary"
           }
          ],
          "surface": [
           {
            "colorbar": {
             "outlinewidth": 0,
             "ticks": ""
            },
            "colorscale": [
             [
              0,
              "#0d0887"
             ],
             [
              0.1111111111111111,
              "#46039f"
             ],
             [
              0.2222222222222222,
              "#7201a8"
             ],
             [
              0.3333333333333333,
              "#9c179e"
             ],
             [
              0.4444444444444444,
              "#bd3786"
             ],
             [
              0.5555555555555556,
              "#d8576b"
             ],
             [
              0.6666666666666666,
              "#ed7953"
             ],
             [
              0.7777777777777778,
              "#fb9f3a"
             ],
             [
              0.8888888888888888,
              "#fdca26"
             ],
             [
              1,
              "#f0f921"
             ]
            ],
            "type": "surface"
           }
          ],
          "table": [
           {
            "cells": {
             "fill": {
              "color": "#EBF0F8"
             },
             "line": {
              "color": "white"
             }
            },
            "header": {
             "fill": {
              "color": "#C8D4E3"
             },
             "line": {
              "color": "white"
             }
            },
            "type": "table"
           }
          ]
         },
         "layout": {
          "annotationdefaults": {
           "arrowcolor": "#2a3f5f",
           "arrowhead": 0,
           "arrowwidth": 1
          },
          "autotypenumbers": "strict",
          "coloraxis": {
           "colorbar": {
            "outlinewidth": 0,
            "ticks": ""
           }
          },
          "colorscale": {
           "diverging": [
            [
             0,
             "#8e0152"
            ],
            [
             0.1,
             "#c51b7d"
            ],
            [
             0.2,
             "#de77ae"
            ],
            [
             0.3,
             "#f1b6da"
            ],
            [
             0.4,
             "#fde0ef"
            ],
            [
             0.5,
             "#f7f7f7"
            ],
            [
             0.6,
             "#e6f5d0"
            ],
            [
             0.7,
             "#b8e186"
            ],
            [
             0.8,
             "#7fbc41"
            ],
            [
             0.9,
             "#4d9221"
            ],
            [
             1,
             "#276419"
            ]
           ],
           "sequential": [
            [
             0,
             "#0d0887"
            ],
            [
             0.1111111111111111,
             "#46039f"
            ],
            [
             0.2222222222222222,
             "#7201a8"
            ],
            [
             0.3333333333333333,
             "#9c179e"
            ],
            [
             0.4444444444444444,
             "#bd3786"
            ],
            [
             0.5555555555555556,
             "#d8576b"
            ],
            [
             0.6666666666666666,
             "#ed7953"
            ],
            [
             0.7777777777777778,
             "#fb9f3a"
            ],
            [
             0.8888888888888888,
             "#fdca26"
            ],
            [
             1,
             "#f0f921"
            ]
           ],
           "sequentialminus": [
            [
             0,
             "#0d0887"
            ],
            [
             0.1111111111111111,
             "#46039f"
            ],
            [
             0.2222222222222222,
             "#7201a8"
            ],
            [
             0.3333333333333333,
             "#9c179e"
            ],
            [
             0.4444444444444444,
             "#bd3786"
            ],
            [
             0.5555555555555556,
             "#d8576b"
            ],
            [
             0.6666666666666666,
             "#ed7953"
            ],
            [
             0.7777777777777778,
             "#fb9f3a"
            ],
            [
             0.8888888888888888,
             "#fdca26"
            ],
            [
             1,
             "#f0f921"
            ]
           ]
          },
          "colorway": [
           "#636efa",
           "#EF553B",
           "#00cc96",
           "#ab63fa",
           "#FFA15A",
           "#19d3f3",
           "#FF6692",
           "#B6E880",
           "#FF97FF",
           "#FECB52"
          ],
          "font": {
           "color": "#2a3f5f"
          },
          "geo": {
           "bgcolor": "white",
           "lakecolor": "white",
           "landcolor": "white",
           "showlakes": true,
           "showland": true,
           "subunitcolor": "#C8D4E3"
          },
          "height": 400,
          "hoverlabel": {
           "align": "left"
          },
          "hovermode": "closest",
          "mapbox": {
           "style": "light"
          },
          "margin": {
           "b": 2,
           "l": 2,
           "r": 2,
           "t": 30
          },
          "paper_bgcolor": "white",
          "plot_bgcolor": "white",
          "polar": {
           "angularaxis": {
            "gridcolor": "#EBF0F8",
            "linecolor": "#EBF0F8",
            "ticks": ""
           },
           "bgcolor": "white",
           "radialaxis": {
            "gridcolor": "#EBF0F8",
            "linecolor": "#EBF0F8",
            "ticks": ""
           }
          },
          "scene": {
           "camera": {
            "eye": {
             "x": 1.5,
             "y": 1.5,
             "z": 0.1
            }
           },
           "xaxis": {
            "backgroundcolor": "white",
            "gridcolor": "#DFE8F3",
            "gridwidth": 2,
            "linecolor": "#EBF0F8",
            "showbackground": true,
            "ticks": "",
            "zerolinecolor": "#EBF0F8"
           },
           "yaxis": {
            "backgroundcolor": "white",
            "gridcolor": "#DFE8F3",
            "gridwidth": 2,
            "linecolor": "#EBF0F8",
            "showbackground": true,
            "ticks": "",
            "zerolinecolor": "#EBF0F8"
           },
           "zaxis": {
            "backgroundcolor": "white",
            "gridcolor": "#DFE8F3",
            "gridwidth": 2,
            "linecolor": "#EBF0F8",
            "showbackground": true,
            "ticks": "",
            "zerolinecolor": "#EBF0F8"
           }
          },
          "shapedefaults": {
           "line": {
            "color": "#2a3f5f"
           }
          },
          "ternary": {
           "aaxis": {
            "gridcolor": "#DFE8F3",
            "linecolor": "#A2B1C6",
            "ticks": ""
           },
           "baxis": {
            "gridcolor": "#DFE8F3",
            "linecolor": "#A2B1C6",
            "ticks": ""
           },
           "bgcolor": "white",
           "caxis": {
            "gridcolor": "#DFE8F3",
            "linecolor": "#A2B1C6",
            "ticks": ""
           }
          },
          "title": {
           "x": 0.5
          },
          "xaxis": {
           "automargin": true,
           "gridcolor": "#EBF0F8",
           "linecolor": "#EBF0F8",
           "linewidth": 2,
           "showline": true,
           "ticks": "",
           "title": {
            "standoff": 15
           },
           "zerolinecolor": "#EBF0F8",
           "zerolinewidth": 2
          },
          "yaxis": {
           "automargin": true,
           "gridcolor": "#EBF0F8",
           "linecolor": "#EBF0F8",
           "linewidth": 2,
           "showline": true,
           "ticks": "",
           "title": {
            "standoff": 15
           },
           "zerolinecolor": "#EBF0F8",
           "zerolinewidth": 2
          }
         }
        },
        "xaxis": {
         "anchor": "y",
         "domain": [
          0,
          1
         ],
         "title": {
          "text": "weight last year"
         }
        },
        "yaxis": {
         "anchor": "x",
         "domain": [
          0,
          1
         ],
         "title": {
          "text": "rescues last year"
         }
        }
       }
      }
     },
     "metadata": {},
     "output_type": "display_data"
    }
   ],
   "source": [
    "import statsmodels.formula.api as smf\n",
    "from sklearn.metrics import mean_squared_error as mse\n",
    "\n",
    "# First, we define our formula using a special syntax\n",
    "# This says that rescues_last_year is explained by weight_last_year\n",
    "formula = \"rescues_last_year ~ weight_last_year\"\n",
    "\n",
    "# Create and train the model\n",
    "model = smf.ols(formula = formula, data = train).fit()\n",
    "\n",
    "# Graph the result against the data\n",
    "graphing.scatter_2D(train, \"weight_last_year\", \"rescues_last_year\", trendline = lambda x: model.params[1] * x + model.params[0])"
   ]
  },
  {
   "attachments": {},
   "cell_type": "markdown",
   "metadata": {},
   "source": [
    "We can gauge our model's performance by calculating the mean squared error (MSE)."
   ]
  },
  {
   "cell_type": "code",
   "execution_count": 10,
   "metadata": {},
   "outputs": [
    {
     "name": "stdout",
     "output_type": "stream",
     "text": [
      "MSE = 18.674546 \n"
     ]
    }
   ],
   "source": [
    "correct_labels = train['rescues_last_year']\n",
    "predicted = model.predict(train['weight_last_year'])\n",
    "\n",
    "MSE = mse(correct_labels, predicted)\n",
    "print('MSE = %f ' % MSE)"
   ]
  },
  {
   "attachments": {},
   "cell_type": "markdown",
   "metadata": {},
   "source": [
    "Test Set\n",
    "\n",
    "Next, we test the same model's performance using the test set:"
   ]
  },
  {
   "cell_type": "code",
   "execution_count": 14,
   "metadata": {},
   "outputs": [
    {
     "data": {
      "application/vnd.plotly.v1+json": {
       "config": {
        "plotlyServerURL": "https://plot.ly"
       },
       "data": [
        {
         "hovertemplate": "weight last year=%{x}<br>rescues last year=%{y}<extra></extra>",
         "legendgroup": "",
         "marker": {
          "color": "#636efa",
          "size": 19,
          "symbol": "circle"
         },
         "mode": "markers",
         "name": "",
         "orientation": "v",
         "showlegend": false,
         "type": "scatter",
         "x": [
          17.1,
          15.4,
          20,
          22.2,
          18.3,
          17.7,
          20.6,
          22.5,
          19.6,
          17.1,
          21.6,
          21.1,
          19.1,
          17.8,
          28.5
         ],
         "xaxis": "x",
         "y": [
          37,
          25,
          26,
          32,
          32,
          34,
          40,
          28,
          35,
          30,
          44,
          35,
          34,
          32,
          34
         ],
         "yaxis": "y"
        }
       ],
       "layout": {
        "legend": {
         "tracegroupgap": 0
        },
        "shapes": [
         {
          "line": {
           "color": "rgb(228,26,28)"
          },
          "path": "M15.4 31.395175036469194 L 15.465829145728643 31.440252894797446 L 15.531658291457287 31.485330753125705 L 15.59748743718593 31.530408611453957 L 15.663316582914574 31.575486469782213 L 15.729145728643216 31.62056432811047 L 15.79497487437186 31.665642186438724 L 15.860804020100502 31.71072004476698 L 15.926633165829147 31.755797903095235 L 15.992462311557789 31.80087576142349 L 16.058291457286433 31.845953619751747 L 16.124120603015076 31.891031478080002 L 16.189949748743718 31.936109336408258 L 16.255778894472364 31.981187194736513 L 16.321608040201006 32.02626505306477 L 16.38743718592965 32.071342911393025 L 16.45326633165829 32.11642076972128 L 16.519095477386934 32.161498628049536 L 16.58492462311558 32.20657648637779 L 16.650753768844222 32.25165434470605 L 16.716582914572864 32.2967322030343 L 16.782412060301507 32.34181006136256 L 16.848241206030153 32.386887919690814 L 16.914070351758795 32.43196577801907 L 16.979899497487438 32.477043636347325 L 17.04572864321608 32.522121494675574 L 17.111557788944722 32.56719935300383 L 17.17738693467337 32.61227721133209 L 17.24321608040201 32.65735506966034 L 17.309045226130653 32.702432927988596 L 17.374874371859296 32.74751078631685 L 17.44070351758794 32.79258864464511 L 17.506532663316584 32.83766650297336 L 17.572361809045226 32.88274436130162 L 17.63819095477387 32.927822219629874 L 17.704020100502515 32.97290007795813 L 17.769849246231157 33.017977936286385 L 17.8356783919598 33.06305579461464 L 17.901507537688442 33.1081336529429 L 17.967336683417088 33.15321151127115 L 18.03316582914573 33.19828936959941 L 18.098994974874373 33.24336722792766 L 18.164824120603015 33.28844508625592 L 18.230653266331657 33.333522944584175 L 18.296482412060303 33.37860080291243 L 18.362311557788946 33.423678661240686 L 18.428140703517588 33.46875651956894 L 18.49396984924623 33.5138343778972 L 18.559798994974877 33.55891223622545 L 18.62562814070352 33.60399009455371 L 18.69145728643216 33.649067952881964 L 18.757286432160804 33.69414581121022 L 18.823115577889446 33.739223669538475 L 18.888944723618092 33.78430152786673 L 18.954773869346734 33.82937938619499 L 19.020603015075377 33.87445724452324 L 19.08643216080402 33.9195351028515 L 19.152261306532665 33.96461296117975 L 19.218090452261308 34.00969081950801 L 19.28391959798995 34.054768677836265 L 19.349748743718592 34.09984653616451 L 19.415577889447235 34.14492439449277 L 19.48140703517588 34.19000225282103 L 19.547236180904523 34.23508011114928 L 19.613065326633166 34.280157969477536 L 19.67889447236181 34.3252358278058 L 19.744723618090454 34.37031368613405 L 19.810552763819096 34.4153915444623 L 19.87638190954774 34.46046940279056 L 19.94221105527638 34.505547261118814 L 20.008040201005027 34.55062511944707 L 20.07386934673367 34.595702977775325 L 20.139698492462312 34.64078083610358 L 20.205527638190954 34.685858694431836 L 20.2713567839196 34.73093655276009 L 20.337185929648243 34.77601441108835 L 20.403015075376885 34.8210922694166 L 20.468844221105527 34.86617012774486 L 20.53467336683417 34.91124798607311 L 20.600502512562816 34.95632584440137 L 20.66633165829146 35.001403702729625 L 20.7321608040201 35.046481561057874 L 20.797989949748747 35.09155941938614 L 20.86381909547739 35.13663727771439 L 20.92964824120603 35.18171513604264 L 20.995477386934674 35.226792994370896 L 21.061306532663316 35.27187085269915 L 21.12713567839196 35.31694871102741 L 21.192964824120605 35.36202656935566 L 21.258793969849247 35.40710442768392 L 21.32462311557789 35.452182286012174 L 21.390452261306535 35.49726014434043 L 21.456281407035178 35.542338002668686 L 21.52211055276382 35.58741586099694 L 21.587939698492463 35.6324937193252 L 21.653768844221105 35.67757157765345 L 21.719597989949747 35.72264943598171 L 21.785427135678393 35.767727294309964 L 21.851256281407036 35.81280515263822 L 21.917085427135678 35.857883010966475 L 21.982914572864324 35.90296086929473 L 22.048743718592966 35.948038727622986 L 22.11457286432161 35.99311658595124 L 22.18040201005025 36.0381944442795 L 22.246231155778894 36.08327230260775 L 22.31206030150754 36.12835016093601 L 22.377889447236182 36.173428019264264 L 22.443718592964824 36.21850587759252 L 22.50954773869347 36.263583735920776 L 22.575376884422113 36.30866159424903 L 22.641206030150755 36.35373945257729 L 22.707035175879398 36.39881731090554 L 22.77286432160804 36.4438951692338 L 22.838693467336682 36.488973027562054 L 22.90452261306533 36.53405088589031 L 22.97035175879397 36.579128744218565 L 23.036180904522613 36.62420660254682 L 23.10201005025126 36.669284460875076 L 23.1678391959799 36.71436231920333 L 23.233668341708544 36.75944017753159 L 23.299497487437186 36.804518035859836 L 23.36532663316583 36.84959589418809 L 23.43115577889447 36.89467375251635 L 23.496984924623117 36.93975161084461 L 23.56281407035176 36.98482946917286 L 23.628643216080405 37.02990732750112 L 23.694472361809048 37.07498518582938 L 23.76030150753769 37.120063044157625 L 23.826130653266333 37.16514090248588 L 23.891959798994975 37.210218760814136 L 23.957788944723617 37.25529661914239 L 24.02361809045226 37.30037447747064 L 24.089447236180906 37.3454523357989 L 24.155276381909548 37.39053019412716 L 24.221105527638194 37.435608052455414 L 24.286934673366837 37.48068591078367 L 24.35276381909548 37.525763769111926 L 24.41859296482412 37.570841627440174 L 24.484422110552764 37.61591948576843 L 24.550251256281406 37.660997344096685 L 24.616080402010052 37.70607520242494 L 24.681909547738694 37.7511530607532 L 24.747738693467337 37.79623091908145 L 24.813567839195983 37.84130877740971 L 24.879396984924625 37.88638663573796 L 24.945226130653268 37.93146449406622 L 25.01105527638191 37.976542352394475 L 25.076884422110552 38.02162021072273 L 25.142713567839195 38.066698069050986 L 25.20854271356784 38.11177592737924 L 25.274371859296483 38.1568537857075 L 25.34020100502513 38.20193164403575 L 25.40603015075377 38.24700950236401 L 25.471859296482414 38.292087360692264 L 25.537688442211056 38.33716521902052 L 25.6035175879397 38.382243077348775 L 25.66934673366834 38.42732093567703 L 25.735175879396984 38.47239879400529 L 25.80100502512563 38.51747665233354 L 25.866834170854272 38.5625545106618 L 25.932663316582918 38.60763236899005 L 25.99849246231156 38.65271022731831 L 26.064321608040203 38.697788085646565 L 26.130150753768845 38.74286594397482 L 26.195979899497488 38.787943802303076 L 26.26180904522613 38.83302166063133 L 26.327638190954776 38.87809951895959 L 26.39346733668342 38.92317737728784 L 26.45929648241206 38.9682552356161 L 26.525125628140707 39.013333093944354 L 26.59095477386935 39.05841095227261 L 26.65678391959799 39.103488810600865 L 26.722613065326634 39.14856666892912 L 26.788442211055276 39.193644527257376 L 26.85427135678392 39.23872238558563 L 26.920100502512565 39.28380024391389 L 26.985929648241207 39.32887810224214 L 27.051758793969853 39.3739559605704 L 27.117587939698495 39.419033818898654 L 27.183417085427138 39.46411167722691 L 27.24924623115578 39.509189535555166 L 27.315075376884423 39.554267393883414 L 27.380904522613065 39.59934525221167 L 27.446733668341707 39.644423110539925 L 27.512562814070353 39.68950096886818 L 27.578391959798996 39.73457882719644 L 27.64422110552764 39.7796566855247 L 27.710050251256284 39.82473454385295 L 27.775879396984926 39.8698124021812 L 27.84170854271357 39.91489026050946 L 27.90753768844221 39.959968118837715 L 27.973366834170854 40.00504597716596 L 28.039195979899496 40.05012383549422 L 28.105025125628142 40.09520169382248 L 28.170854271356784 40.14027955215073 L 28.23668341708543 40.18535741047899 L 28.302512562814073 40.23043526880725 L 28.368341708542715 40.2755131271355 L 28.434170854271358 40.32059098546375 L 28.5 40.36566884379201",
          "type": "path"
         }
        ],
        "template": {
         "data": {
          "bar": [
           {
            "error_x": {
             "color": "#2a3f5f"
            },
            "error_y": {
             "color": "#2a3f5f"
            },
            "marker": {
             "line": {
              "color": "white",
              "width": 0.5
             },
             "pattern": {
              "fillmode": "overlay",
              "size": 10,
              "solidity": 0.2
             }
            },
            "type": "bar"
           }
          ],
          "barpolar": [
           {
            "marker": {
             "line": {
              "color": "white",
              "width": 0.5
             },
             "pattern": {
              "fillmode": "overlay",
              "size": 10,
              "solidity": 0.2
             }
            },
            "type": "barpolar"
           }
          ],
          "box": [
           {
            "boxpoints": "outliers",
            "notched": false,
            "type": "box"
           }
          ],
          "carpet": [
           {
            "aaxis": {
             "endlinecolor": "#2a3f5f",
             "gridcolor": "#C8D4E3",
             "linecolor": "#C8D4E3",
             "minorgridcolor": "#C8D4E3",
             "startlinecolor": "#2a3f5f"
            },
            "baxis": {
             "endlinecolor": "#2a3f5f",
             "gridcolor": "#C8D4E3",
             "linecolor": "#C8D4E3",
             "minorgridcolor": "#C8D4E3",
             "startlinecolor": "#2a3f5f"
            },
            "type": "carpet"
           }
          ],
          "choropleth": [
           {
            "colorbar": {
             "outlinewidth": 0,
             "ticks": ""
            },
            "type": "choropleth"
           }
          ],
          "contour": [
           {
            "colorbar": {
             "outlinewidth": 0,
             "ticks": ""
            },
            "colorscale": [
             [
              0,
              "#0d0887"
             ],
             [
              0.1111111111111111,
              "#46039f"
             ],
             [
              0.2222222222222222,
              "#7201a8"
             ],
             [
              0.3333333333333333,
              "#9c179e"
             ],
             [
              0.4444444444444444,
              "#bd3786"
             ],
             [
              0.5555555555555556,
              "#d8576b"
             ],
             [
              0.6666666666666666,
              "#ed7953"
             ],
             [
              0.7777777777777778,
              "#fb9f3a"
             ],
             [
              0.8888888888888888,
              "#fdca26"
             ],
             [
              1,
              "#f0f921"
             ]
            ],
            "type": "contour"
           }
          ],
          "contourcarpet": [
           {
            "colorbar": {
             "outlinewidth": 0,
             "ticks": ""
            },
            "type": "contourcarpet"
           }
          ],
          "heatmap": [
           {
            "colorbar": {
             "outlinewidth": 0,
             "ticks": ""
            },
            "colorscale": [
             [
              0,
              "#0d0887"
             ],
             [
              0.1111111111111111,
              "#46039f"
             ],
             [
              0.2222222222222222,
              "#7201a8"
             ],
             [
              0.3333333333333333,
              "#9c179e"
             ],
             [
              0.4444444444444444,
              "#bd3786"
             ],
             [
              0.5555555555555556,
              "#d8576b"
             ],
             [
              0.6666666666666666,
              "#ed7953"
             ],
             [
              0.7777777777777778,
              "#fb9f3a"
             ],
             [
              0.8888888888888888,
              "#fdca26"
             ],
             [
              1,
              "#f0f921"
             ]
            ],
            "type": "heatmap"
           }
          ],
          "heatmapgl": [
           {
            "colorbar": {
             "outlinewidth": 0,
             "ticks": ""
            },
            "colorscale": [
             [
              0,
              "#0d0887"
             ],
             [
              0.1111111111111111,
              "#46039f"
             ],
             [
              0.2222222222222222,
              "#7201a8"
             ],
             [
              0.3333333333333333,
              "#9c179e"
             ],
             [
              0.4444444444444444,
              "#bd3786"
             ],
             [
              0.5555555555555556,
              "#d8576b"
             ],
             [
              0.6666666666666666,
              "#ed7953"
             ],
             [
              0.7777777777777778,
              "#fb9f3a"
             ],
             [
              0.8888888888888888,
              "#fdca26"
             ],
             [
              1,
              "#f0f921"
             ]
            ],
            "type": "heatmapgl"
           }
          ],
          "histogram": [
           {
            "marker": {
             "line": {
              "width": 1
             },
             "pattern": {
              "fillmode": "overlay",
              "size": 10,
              "solidity": 0.2
             }
            },
            "type": "histogram"
           }
          ],
          "histogram2d": [
           {
            "colorbar": {
             "outlinewidth": 0,
             "ticks": ""
            },
            "colorscale": [
             [
              0,
              "#0d0887"
             ],
             [
              0.1111111111111111,
              "#46039f"
             ],
             [
              0.2222222222222222,
              "#7201a8"
             ],
             [
              0.3333333333333333,
              "#9c179e"
             ],
             [
              0.4444444444444444,
              "#bd3786"
             ],
             [
              0.5555555555555556,
              "#d8576b"
             ],
             [
              0.6666666666666666,
              "#ed7953"
             ],
             [
              0.7777777777777778,
              "#fb9f3a"
             ],
             [
              0.8888888888888888,
              "#fdca26"
             ],
             [
              1,
              "#f0f921"
             ]
            ],
            "type": "histogram2d"
           }
          ],
          "histogram2dcontour": [
           {
            "colorbar": {
             "outlinewidth": 0,
             "ticks": ""
            },
            "colorscale": [
             [
              0,
              "#0d0887"
             ],
             [
              0.1111111111111111,
              "#46039f"
             ],
             [
              0.2222222222222222,
              "#7201a8"
             ],
             [
              0.3333333333333333,
              "#9c179e"
             ],
             [
              0.4444444444444444,
              "#bd3786"
             ],
             [
              0.5555555555555556,
              "#d8576b"
             ],
             [
              0.6666666666666666,
              "#ed7953"
             ],
             [
              0.7777777777777778,
              "#fb9f3a"
             ],
             [
              0.8888888888888888,
              "#fdca26"
             ],
             [
              1,
              "#f0f921"
             ]
            ],
            "type": "histogram2dcontour"
           }
          ],
          "mesh3d": [
           {
            "colorbar": {
             "outlinewidth": 0,
             "ticks": ""
            },
            "type": "mesh3d"
           }
          ],
          "parcoords": [
           {
            "line": {
             "colorbar": {
              "outlinewidth": 0,
              "ticks": ""
             }
            },
            "type": "parcoords"
           }
          ],
          "pie": [
           {
            "automargin": true,
            "type": "pie"
           }
          ],
          "scatter": [
           {
            "fillpattern": {
             "fillmode": "overlay",
             "size": 10,
             "solidity": 0.2
            },
            "marker": {
             "opacity": 0.8
            },
            "type": "scatter"
           }
          ],
          "scatter3d": [
           {
            "line": {
             "colorbar": {
              "outlinewidth": 0,
              "ticks": ""
             }
            },
            "marker": {
             "colorbar": {
              "outlinewidth": 0,
              "ticks": ""
             },
             "opacity": 0.8
            },
            "type": "scatter3d"
           }
          ],
          "scattercarpet": [
           {
            "marker": {
             "colorbar": {
              "outlinewidth": 0,
              "ticks": ""
             }
            },
            "type": "scattercarpet"
           }
          ],
          "scattergeo": [
           {
            "marker": {
             "colorbar": {
              "outlinewidth": 0,
              "ticks": ""
             }
            },
            "type": "scattergeo"
           }
          ],
          "scattergl": [
           {
            "marker": {
             "colorbar": {
              "outlinewidth": 0,
              "ticks": ""
             }
            },
            "type": "scattergl"
           }
          ],
          "scattermapbox": [
           {
            "marker": {
             "colorbar": {
              "outlinewidth": 0,
              "ticks": ""
             }
            },
            "type": "scattermapbox"
           }
          ],
          "scatterpolar": [
           {
            "marker": {
             "colorbar": {
              "outlinewidth": 0,
              "ticks": ""
             }
            },
            "type": "scatterpolar"
           }
          ],
          "scatterpolargl": [
           {
            "marker": {
             "colorbar": {
              "outlinewidth": 0,
              "ticks": ""
             }
            },
            "type": "scatterpolargl"
           }
          ],
          "scatterternary": [
           {
            "marker": {
             "colorbar": {
              "outlinewidth": 0,
              "ticks": ""
             }
            },
            "type": "scatterternary"
           }
          ],
          "surface": [
           {
            "colorbar": {
             "outlinewidth": 0,
             "ticks": ""
            },
            "colorscale": [
             [
              0,
              "#0d0887"
             ],
             [
              0.1111111111111111,
              "#46039f"
             ],
             [
              0.2222222222222222,
              "#7201a8"
             ],
             [
              0.3333333333333333,
              "#9c179e"
             ],
             [
              0.4444444444444444,
              "#bd3786"
             ],
             [
              0.5555555555555556,
              "#d8576b"
             ],
             [
              0.6666666666666666,
              "#ed7953"
             ],
             [
              0.7777777777777778,
              "#fb9f3a"
             ],
             [
              0.8888888888888888,
              "#fdca26"
             ],
             [
              1,
              "#f0f921"
             ]
            ],
            "type": "surface"
           }
          ],
          "table": [
           {
            "cells": {
             "fill": {
              "color": "#EBF0F8"
             },
             "line": {
              "color": "white"
             }
            },
            "header": {
             "fill": {
              "color": "#C8D4E3"
             },
             "line": {
              "color": "white"
             }
            },
            "type": "table"
           }
          ]
         },
         "layout": {
          "annotationdefaults": {
           "arrowcolor": "#2a3f5f",
           "arrowhead": 0,
           "arrowwidth": 1
          },
          "autotypenumbers": "strict",
          "coloraxis": {
           "colorbar": {
            "outlinewidth": 0,
            "ticks": ""
           }
          },
          "colorscale": {
           "diverging": [
            [
             0,
             "#8e0152"
            ],
            [
             0.1,
             "#c51b7d"
            ],
            [
             0.2,
             "#de77ae"
            ],
            [
             0.3,
             "#f1b6da"
            ],
            [
             0.4,
             "#fde0ef"
            ],
            [
             0.5,
             "#f7f7f7"
            ],
            [
             0.6,
             "#e6f5d0"
            ],
            [
             0.7,
             "#b8e186"
            ],
            [
             0.8,
             "#7fbc41"
            ],
            [
             0.9,
             "#4d9221"
            ],
            [
             1,
             "#276419"
            ]
           ],
           "sequential": [
            [
             0,
             "#0d0887"
            ],
            [
             0.1111111111111111,
             "#46039f"
            ],
            [
             0.2222222222222222,
             "#7201a8"
            ],
            [
             0.3333333333333333,
             "#9c179e"
            ],
            [
             0.4444444444444444,
             "#bd3786"
            ],
            [
             0.5555555555555556,
             "#d8576b"
            ],
            [
             0.6666666666666666,
             "#ed7953"
            ],
            [
             0.7777777777777778,
             "#fb9f3a"
            ],
            [
             0.8888888888888888,
             "#fdca26"
            ],
            [
             1,
             "#f0f921"
            ]
           ],
           "sequentialminus": [
            [
             0,
             "#0d0887"
            ],
            [
             0.1111111111111111,
             "#46039f"
            ],
            [
             0.2222222222222222,
             "#7201a8"
            ],
            [
             0.3333333333333333,
             "#9c179e"
            ],
            [
             0.4444444444444444,
             "#bd3786"
            ],
            [
             0.5555555555555556,
             "#d8576b"
            ],
            [
             0.6666666666666666,
             "#ed7953"
            ],
            [
             0.7777777777777778,
             "#fb9f3a"
            ],
            [
             0.8888888888888888,
             "#fdca26"
            ],
            [
             1,
             "#f0f921"
            ]
           ]
          },
          "colorway": [
           "#636efa",
           "#EF553B",
           "#00cc96",
           "#ab63fa",
           "#FFA15A",
           "#19d3f3",
           "#FF6692",
           "#B6E880",
           "#FF97FF",
           "#FECB52"
          ],
          "font": {
           "color": "#2a3f5f"
          },
          "geo": {
           "bgcolor": "white",
           "lakecolor": "white",
           "landcolor": "white",
           "showlakes": true,
           "showland": true,
           "subunitcolor": "#C8D4E3"
          },
          "height": 400,
          "hoverlabel": {
           "align": "left"
          },
          "hovermode": "closest",
          "mapbox": {
           "style": "light"
          },
          "margin": {
           "b": 2,
           "l": 2,
           "r": 2,
           "t": 30
          },
          "paper_bgcolor": "white",
          "plot_bgcolor": "white",
          "polar": {
           "angularaxis": {
            "gridcolor": "#EBF0F8",
            "linecolor": "#EBF0F8",
            "ticks": ""
           },
           "bgcolor": "white",
           "radialaxis": {
            "gridcolor": "#EBF0F8",
            "linecolor": "#EBF0F8",
            "ticks": ""
           }
          },
          "scene": {
           "camera": {
            "eye": {
             "x": 1.5,
             "y": 1.5,
             "z": 0.1
            }
           },
           "xaxis": {
            "backgroundcolor": "white",
            "gridcolor": "#DFE8F3",
            "gridwidth": 2,
            "linecolor": "#EBF0F8",
            "showbackground": true,
            "ticks": "",
            "zerolinecolor": "#EBF0F8"
           },
           "yaxis": {
            "backgroundcolor": "white",
            "gridcolor": "#DFE8F3",
            "gridwidth": 2,
            "linecolor": "#EBF0F8",
            "showbackground": true,
            "ticks": "",
            "zerolinecolor": "#EBF0F8"
           },
           "zaxis": {
            "backgroundcolor": "white",
            "gridcolor": "#DFE8F3",
            "gridwidth": 2,
            "linecolor": "#EBF0F8",
            "showbackground": true,
            "ticks": "",
            "zerolinecolor": "#EBF0F8"
           }
          },
          "shapedefaults": {
           "line": {
            "color": "#2a3f5f"
           }
          },
          "ternary": {
           "aaxis": {
            "gridcolor": "#DFE8F3",
            "linecolor": "#A2B1C6",
            "ticks": ""
           },
           "baxis": {
            "gridcolor": "#DFE8F3",
            "linecolor": "#A2B1C6",
            "ticks": ""
           },
           "bgcolor": "white",
           "caxis": {
            "gridcolor": "#DFE8F3",
            "linecolor": "#A2B1C6",
            "ticks": ""
           }
          },
          "title": {
           "x": 0.5
          },
          "xaxis": {
           "automargin": true,
           "gridcolor": "#EBF0F8",
           "linecolor": "#EBF0F8",
           "linewidth": 2,
           "showline": true,
           "ticks": "",
           "title": {
            "standoff": 15
           },
           "zerolinecolor": "#EBF0F8",
           "zerolinewidth": 2
          },
          "yaxis": {
           "automargin": true,
           "gridcolor": "#EBF0F8",
           "linecolor": "#EBF0F8",
           "linewidth": 2,
           "showline": true,
           "ticks": "",
           "title": {
            "standoff": 15
           },
           "zerolinecolor": "#EBF0F8",
           "zerolinewidth": 2
          }
         }
        },
        "xaxis": {
         "anchor": "y",
         "domain": [
          0,
          1
         ],
         "title": {
          "text": "weight last year"
         }
        },
        "yaxis": {
         "anchor": "x",
         "domain": [
          0,
          1
         ],
         "title": {
          "text": "rescues last year"
         }
        }
       }
      }
     },
     "metadata": {},
     "output_type": "display_data"
    }
   ],
   "source": [
    "graphing.scatter_2D(test, \"weight_last_year\", \"rescues_last_year\", trendline = lambda x: model.params[1] * x + model.params[0])\n",
    "\n"
   ]
  },
  {
   "cell_type": "code",
   "execution_count": 13,
   "metadata": {},
   "outputs": [
    {
     "name": "stdout",
     "output_type": "stream",
     "text": [
      "MSE = 24.352949 \n"
     ]
    }
   ],
   "source": [
    "#Let's have a look at the MSE again.\n",
    "\n",
    "correct_labels = test['rescues_last_year']\n",
    "predicted = model.predict(test['weight_last_year'])\n",
    "\n",
    "MSE = mse(correct_labels, predicted)\n",
    "print('MSE = %f ' % MSE)"
   ]
  },
  {
   "attachments": {},
   "cell_type": "markdown",
   "metadata": {},
   "source": [
    "We can see that the model performs much better on the known training data than on the unseen test data (remember that higher MSE values are worse).\n",
    "\n",
    "This can be down to a number of factors but first and foremost is overfitting, which is when a model matches the data in the training set too closely. This means that it will perform very well on the training set, but will not generalize well. (i.e., work well with other datasets).\n",
    "New Dataset\n",
    "\n",
    "To illustrate our point further, let's have a look at how our model performs when confronted with a completely new, unseen, and larger dataset. For our scenario, we'll use data provided by the avalanche rescue charity's European branch."
   ]
  },
  {
   "cell_type": "code",
   "execution_count": 17,
   "metadata": {},
   "outputs": [
    {
     "name": "stdout",
     "output_type": "stream",
     "text": [
      "--2023-03-13 16:04:28--  https://raw.githubusercontent.com/MicrosoftDocs/mslearn-introduction-to-machine-learning/main/Data/dog-training-switzerland.csv\n",
      "Resolving raw.githubusercontent.com (raw.githubusercontent.com)... 185.199.108.133, 185.199.109.133, 185.199.110.133, ...\n",
      "Connecting to raw.githubusercontent.com (raw.githubusercontent.com)|185.199.108.133|:443... connected.\n",
      "HTTP request sent, awaiting response... 200 OK\n",
      "Length: 12362 (12K) [text/plain]\n",
      "Saving to: ‘dog-training-switzerland.csv’\n",
      "\n",
      "dog-training-switze 100%[===================>]  12.07K  --.-KB/s    in 0.003s  \n",
      "\n",
      "2023-03-13 16:04:28 (4.69 MB/s) - ‘dog-training-switzerland.csv’ saved [12362/12362]\n",
      "\n",
      "(500, 5)\n"
     ]
    },
    {
     "data": {
      "text/html": [
       "<div>\n",
       "<style scoped>\n",
       "    .dataframe tbody tr th:only-of-type {\n",
       "        vertical-align: middle;\n",
       "    }\n",
       "\n",
       "    .dataframe tbody tr th {\n",
       "        vertical-align: top;\n",
       "    }\n",
       "\n",
       "    .dataframe thead th {\n",
       "        text-align: right;\n",
       "    }\n",
       "</style>\n",
       "<table border=\"1\" class=\"dataframe\">\n",
       "  <thead>\n",
       "    <tr style=\"text-align: right;\">\n",
       "      <th></th>\n",
       "      <th>month_old_when_trained</th>\n",
       "      <th>mean_rescues_per_year</th>\n",
       "      <th>age_last_year</th>\n",
       "      <th>weight_last_year</th>\n",
       "      <th>rescues_last_year</th>\n",
       "    </tr>\n",
       "  </thead>\n",
       "  <tbody>\n",
       "    <tr>\n",
       "      <th>0</th>\n",
       "      <td>9</td>\n",
       "      <td>16.7</td>\n",
       "      <td>2</td>\n",
       "      <td>15.709342</td>\n",
       "      <td>30</td>\n",
       "    </tr>\n",
       "    <tr>\n",
       "      <th>1</th>\n",
       "      <td>33</td>\n",
       "      <td>24.2</td>\n",
       "      <td>8</td>\n",
       "      <td>14.760819</td>\n",
       "      <td>35</td>\n",
       "    </tr>\n",
       "    <tr>\n",
       "      <th>2</th>\n",
       "      <td>43</td>\n",
       "      <td>20.2</td>\n",
       "      <td>4</td>\n",
       "      <td>13.118374</td>\n",
       "      <td>19</td>\n",
       "    </tr>\n",
       "    <tr>\n",
       "      <th>3</th>\n",
       "      <td>37</td>\n",
       "      <td>19.2</td>\n",
       "      <td>5</td>\n",
       "      <td>10.614075</td>\n",
       "      <td>24</td>\n",
       "    </tr>\n",
       "    <tr>\n",
       "      <th>4</th>\n",
       "      <td>45</td>\n",
       "      <td>16.9</td>\n",
       "      <td>8</td>\n",
       "      <td>17.519890</td>\n",
       "      <td>28</td>\n",
       "    </tr>\n",
       "  </tbody>\n",
       "</table>\n",
       "</div>"
      ],
      "text/plain": [
       "   month_old_when_trained  mean_rescues_per_year  age_last_year  \\\n",
       "0                       9                   16.7              2   \n",
       "1                      33                   24.2              8   \n",
       "2                      43                   20.2              4   \n",
       "3                      37                   19.2              5   \n",
       "4                      45                   16.9              8   \n",
       "\n",
       "   weight_last_year  rescues_last_year  \n",
       "0         15.709342                 30  \n",
       "1         14.760819                 35  \n",
       "2         13.118374                 19  \n",
       "3         10.614075                 24  \n",
       "4         17.519890                 28  "
      ]
     },
     "execution_count": 17,
     "metadata": {},
     "output_type": "execute_result"
    }
   ],
   "source": [
    "!wget https://raw.githubusercontent.com/MicrosoftDocs/mslearn-introduction-to-machine-learning/main/Data/dog-training-switzerland.csv\n",
    "\n",
    "# Load an alternative dataset from the charity's European branch\n",
    "new_data = pandas.read_csv(\"dog-training-switzerland.csv\", delimiter=\"\\t\")\n",
    "\n",
    "print(new_data.shape)\n",
    "new_data.head()\n"
   ]
  },
  {
   "cell_type": "code",
   "execution_count": 18,
   "metadata": {},
   "outputs": [
    {
     "data": {
      "application/vnd.plotly.v1+json": {
       "config": {
        "plotlyServerURL": "https://plot.ly"
       },
       "data": [
        {
         "hovertemplate": "weight last year=%{x}<br>rescues last year=%{y}<extra></extra>",
         "legendgroup": "",
         "marker": {
          "color": "#636efa",
          "size": 4,
          "symbol": "circle"
         },
         "mode": "markers",
         "name": "",
         "orientation": "v",
         "showlegend": false,
         "type": "scatter",
         "x": [
          15.7093421,
          14.76081925,
          13.11837395,
          10.61407536,
          17.51988978,
          22.80996093,
          16.17951147,
          24.56310997,
          15.20624843,
          18.92797027,
          17.29704756,
          21.66390835,
          16.17105093,
          20.63478822,
          17.17297989,
          18.78372359,
          8.580353443,
          17.03221926,
          14.77866829,
          17.48785712,
          18.0163647,
          23.99409126,
          14.03798756,
          17.9746433,
          15.68521953,
          19.32980772,
          19.2404955,
          17.1526513,
          20.93383422,
          20.4129203,
          17.0947552,
          24.4867856,
          14.60788854,
          15.93924802,
          21.31876263,
          17.33856689,
          8.952019386,
          17.52668264,
          25.9047924,
          23.13309419,
          17.10303387,
          17.18257768,
          17.68815015,
          18.45492731,
          22.933932,
          12.71989576,
          18.59287523,
          20.93538259,
          18.38547099,
          18.99742418,
          12.37503749,
          18.73255415,
          20.53044809,
          19.87691329,
          17.24722961,
          21.23317935,
          14.19000543,
          22.68587921,
          13.04626935,
          19.58146391,
          20.92217189,
          16.08948621,
          15.85939478,
          15.37750952,
          12.76727325,
          18.36127788,
          17.98685459,
          16.17733694,
          18.01219413,
          19.02826624,
          13.97153581,
          23.94981283,
          20.80638174,
          14.80760944,
          22.17185133,
          12.10483435,
          13.80294772,
          22.05551544,
          15.64167955,
          22.46456613,
          18.31348655,
          16.0738433,
          22.6833733,
          22.69359673,
          11.99551424,
          19.24069648,
          15.63412846,
          12.34406563,
          24.77305793,
          9.324722941,
          18.82405649,
          15.91975902,
          15.26753823,
          16.28076869,
          22.03467434,
          21.35936918,
          19.36005326,
          17.18343384,
          20.56724089,
          17.91300936,
          23.26820417,
          18.03883087,
          22.12852393,
          22.30659942,
          14.86692959,
          13.58214695,
          16.96251261,
          20.73676631,
          23.7351562,
          18.78391359,
          21.5464617,
          24.97265687,
          22.24904211,
          19.41197045,
          16.04335599,
          15.36727957,
          20.49497769,
          17.01063151,
          17.4128766,
          16.80877901,
          18.90274371,
          25.98091305,
          20.61840624,
          20.51145614,
          18.45865402,
          17.44735877,
          18.06919911,
          14.81643671,
          13.2349614,
          22.22265306,
          23.09932069,
          23.96451398,
          22.8792469,
          13.18951827,
          21.78545926,
          15.38281633,
          15.53574207,
          12.83902541,
          13.88871148,
          24.60324827,
          18.94649044,
          22.48170367,
          20.116172,
          17.57302227,
          16.55555044,
          9.492027146,
          24.97504913,
          12.54797801,
          14.97635401,
          18.64866763,
          21.77596436,
          13.29374095,
          16.75832254,
          25.01784283,
          17.34075018,
          16.96577449,
          17.34171171,
          10.43495465,
          17.95873028,
          25.14609004,
          27.5266683,
          18.07904794,
          19.25023952,
          24.82638759,
          23.54740398,
          22.47879777,
          16.65036584,
          19.97805844,
          16.29903204,
          21.78928386,
          24.69181013,
          16.57685852,
          24.83778649,
          19.16688587,
          17.89791388,
          23.9570237,
          12.41489591,
          17.22798281,
          11.63211212,
          16.8428543,
          18.3299908,
          14.87480408,
          14.27852416,
          22.61463318,
          17.17440559,
          24.62875081,
          17.2748817,
          12.89766753,
          15.48508405,
          15.90778085,
          18.87255166,
          17.30413596,
          19.04769085,
          18.04277749,
          17.01377875,
          17.56217315,
          19.39217558,
          21.87432544,
          11.9055037,
          17.87934698,
          16.69519895,
          15.51989971,
          17.12461334,
          16.44630242,
          14.42830094,
          9.576514732,
          14.90652152,
          9.071946896,
          19.30972622,
          15.97121052,
          17.43060311,
          10.6568584,
          14.70394007,
          15.74365161,
          9.94438842,
          7.445962112,
          22.97996521,
          29.7826702,
          12.79321359,
          15.35005327,
          15.32926889,
          19.21160922,
          24.75661327,
          13.67915655,
          12.94590818,
          17.5485624,
          23.25654663,
          17.54780415,
          16.18196365,
          18.67289555,
          18.91524097,
          21.73303512,
          13.31379404,
          12.98239264,
          20.51046454,
          8.768811509,
          25.477678,
          13.87681221,
          15.59083451,
          21.80666497,
          21.28894615,
          21.37891855,
          16.67917468,
          12.73002474,
          23.21744869,
          15.35339308,
          25.71969971,
          16.83496234,
          18.4308362,
          16.22847144,
          18.43329906,
          14.83102207,
          14.28484628,
          13.7063075,
          17.59575368,
          11.03058976,
          14.6362343,
          15.42563081,
          17.95837093,
          17.30949212,
          17.82411335,
          18.60333517,
          18.25167931,
          13.08969331,
          14.0666256,
          14.93074283,
          15.40454639,
          17.79807902,
          16.2562319,
          20.08314998,
          16.68375167,
          18.03594188,
          14.9798596,
          24.80062357,
          21.66013754,
          19.16575459,
          24.86781452,
          14.30705477,
          20.0469446,
          18.26284082,
          13.36693886,
          27.78163918,
          14.61468717,
          19.55166285,
          18.70066846,
          19.59583434,
          12.55751267,
          18.17693326,
          19.87907886,
          19.59408329,
          18.96319207,
          16.10175138,
          16.23527708,
          19.45105522,
          19.54819644,
          21.80495927,
          20.69071024,
          19.23346268,
          25.74581197,
          9.504705678,
          15.09517719,
          15.03341771,
          15.52005571,
          17.00141485,
          15.43526777,
          24.84945035,
          21.96121058,
          12.85290041,
          13.99160839,
          16.69823903,
          21.66626484,
          16.03361264,
          18.90103588,
          13.9422753,
          15.62269714,
          20.50672033,
          17.67372786,
          16.6161373,
          18.493597,
          13.84227481,
          16.99057331,
          14.95064118,
          14.31368921,
          6.126198777,
          19.09770134,
          22.3858129,
          18.62422831,
          16.93543942,
          18.33855627,
          15.74163166,
          20.64880331,
          20.87668186,
          13.85592075,
          14.7477123,
          14.52421769,
          11.66335354,
          22.5557521,
          17.98831076,
          15.67261489,
          16.36328852,
          26.95750976,
          16.1308286,
          20.69873383,
          20.48600297,
          22.83226385,
          18.12152939,
          23.81630396,
          19.20613306,
          17.56606016,
          17.02983356,
          21.39703797,
          20.73659133,
          18.04720765,
          21.91604149,
          16.99352565,
          12.6326283,
          15.52871783,
          15.19045284,
          10.9982533,
          18.8815828,
          18.05385585,
          17.88795568,
          19.12946492,
          17.51036675,
          19.6307328,
          15.57912469,
          19.11953312,
          20.91256214,
          21.63630511,
          21.26849739,
          10.76175859,
          18.88101599,
          19.05505692,
          24.48549889,
          17.8898701,
          18.27047577,
          21.75140607,
          14.70769325,
          23.14305569,
          15.28812135,
          17.54713402,
          20.72450632,
          15.99253604,
          20.0174317,
          17.95760249,
          21.98497351,
          17.26028976,
          12.08690407,
          21.06464555,
          19.09804813,
          21.65577694,
          18.56465983,
          10.79112308,
          17.59230724,
          10.35366198,
          21.99042803,
          21.15438826,
          20.1718924,
          13.25849429,
          15.35674918,
          17.4201013,
          18.19348679,
          19.65690744,
          22.90527863,
          17.11694175,
          10.39138464,
          17.39224569,
          15.0600111,
          20.2831295,
          12.98554839,
          11.80795565,
          25.96687144,
          19.48836384,
          16.45759306,
          19.48187864,
          16.39582932,
          25.82846653,
          13.56135248,
          23.81428021,
          17.71576261,
          17.82635054,
          16.22912354,
          18.62707964,
          18.56886084,
          14.64740104,
          20.17809262,
          14.3573003,
          15.83837334,
          18.64765915,
          25.23852486,
          28.77047087,
          24.42418011,
          22.01977589,
          20.62014344,
          25.33941317,
          25.67509238,
          13.3768968,
          17.33244321,
          14.58547717,
          18.26131422,
          14.36319483,
          6.523563985,
          15.97393273,
          21.27239373,
          22.96128586,
          19.7581909,
          20.12886768,
          17.49548976,
          12.00681665,
          19.56636564,
          14.3005545,
          22.64446073,
          17.25487806,
          15.66304348,
          23.95792632,
          26.31310788,
          24.18734568,
          15.3335324,
          18.52542559,
          25.5615161,
          21.07165761,
          18.31591693,
          17.09582486,
          17.89815769,
          18.5744847,
          16.47531598,
          11.41063481,
          16.12002474,
          28.43227947,
          18.05361558,
          19.8407152,
          19.17050375,
          20.45326175,
          17.4053221,
          13.82604468,
          16.87696055,
          24.20671477,
          25.10424967,
          17.11554517,
          10.96495617,
          17.74501832,
          16.91512998,
          11.32723381,
          20.35171178,
          13.04494689,
          21.59906029,
          14.01262,
          18.19420871,
          15.51295831,
          11.36444454,
          18.24793961,
          21.94806079,
          23.59753804,
          22.39137525,
          20.45131866,
          8.75114822,
          21.42562142,
          26.65785012,
          17.02027416,
          14.91154712
         ],
         "xaxis": "x",
         "y": [
          30,
          35,
          19,
          24,
          28,
          37,
          33,
          37,
          34,
          31,
          33,
          39,
          31,
          27,
          32,
          29,
          27,
          33,
          34,
          33,
          33,
          35,
          31,
          32,
          25,
          32,
          33,
          33,
          31,
          31,
          33,
          36,
          25,
          27,
          34,
          36,
          27,
          31,
          33,
          29,
          34,
          33,
          37,
          44,
          39,
          29,
          39,
          34,
          33,
          31,
          25,
          34,
          34,
          34,
          33,
          40,
          25,
          33,
          35,
          30,
          37,
          25,
          31,
          30,
          31,
          32,
          31,
          40,
          30,
          33,
          22,
          41,
          37,
          31,
          30,
          23,
          34,
          36,
          30,
          36,
          40,
          27,
          37,
          36,
          22,
          37,
          26,
          21,
          40,
          23,
          28,
          35,
          26,
          41,
          35,
          32,
          34,
          34,
          37,
          35,
          40,
          36,
          39,
          34,
          28,
          19,
          35,
          29,
          39,
          33,
          41,
          35,
          39,
          33,
          36,
          26,
          37,
          34,
          26,
          32,
          37,
          36,
          40,
          33,
          39,
          33,
          28,
          32,
          38,
          33,
          36,
          36,
          32,
          26,
          31,
          31,
          28,
          43,
          38,
          39,
          30,
          44,
          25,
          31,
          25,
          30,
          38,
          37,
          31,
          40,
          27,
          33,
          34,
          41,
          39,
          30,
          40,
          30,
          36,
          42,
          37,
          33,
          37,
          44,
          36,
          25,
          27,
          19,
          31,
          29,
          43,
          37,
          27,
          33,
          39,
          35,
          28,
          36,
          30,
          32,
          31,
          27,
          23,
          32,
          37,
          41,
          31,
          22,
          31,
          36,
          29,
          29,
          26,
          25,
          27,
          31,
          32,
          33,
          27,
          21,
          28,
          26,
          24,
          36,
          23,
          29,
          21,
          23,
          33,
          31,
          37,
          27,
          35,
          34,
          31,
          28,
          39,
          32,
          34,
          25,
          35,
          26,
          35,
          29,
          27,
          35,
          35,
          30,
          35,
          37,
          33,
          30,
          35,
          31,
          42,
          27,
          41,
          31,
          26,
          25,
          37,
          37,
          32,
          41,
          26,
          28,
          41,
          25,
          34,
          28,
          29,
          28,
          29,
          29,
          36,
          30,
          21,
          27,
          38,
          32,
          31,
          40,
          35,
          32,
          30,
          30,
          31,
          29,
          34,
          36,
          39,
          34,
          31,
          39,
          32,
          35,
          45,
          34,
          35,
          34,
          33,
          44,
          28,
          27,
          37,
          35,
          27,
          40,
          34,
          28,
          36,
          26,
          34,
          28,
          35,
          32,
          36,
          30,
          42,
          20,
          36,
          31,
          30,
          29,
          30,
          39,
          34,
          31,
          21,
          25,
          25,
          31,
          32,
          30,
          31,
          19,
          37,
          29,
          31,
          45,
          27,
          28,
          32,
          18,
          29,
          38,
          29,
          32,
          27,
          37,
          37,
          30,
          34,
          34,
          31,
          25,
          35,
          34,
          24,
          29,
          45,
          25,
          34,
          35,
          29,
          39,
          37,
          29,
          34,
          25,
          41,
          33,
          33,
          38,
          24,
          32,
          29,
          32,
          31,
          30,
          32,
          29,
          43,
          28,
          39,
          33,
          30,
          33,
          33,
          33,
          33,
          30,
          31,
          39,
          33,
          29,
          41,
          33,
          42,
          29,
          33,
          36,
          33,
          37,
          31,
          36,
          40,
          25,
          31,
          33,
          31,
          38,
          35,
          31,
          33,
          37,
          42,
          32,
          27,
          31,
          36,
          34,
          37,
          34,
          34,
          27,
          25,
          33,
          38,
          31,
          33,
          40,
          38,
          32,
          32,
          33,
          36,
          27,
          34,
          30,
          30,
          24,
          32,
          31,
          28,
          27,
          40,
          33,
          39,
          41,
          46,
          37,
          36,
          26,
          42,
          34,
          30,
          29,
          32,
          34,
          30,
          25,
          27,
          43,
          36,
          35,
          34,
          33,
          26,
          37,
          27,
          37,
          33,
          34,
          40,
          46,
          38,
          31,
          33,
          30,
          43,
          32,
          27,
          30,
          32,
          30,
          34,
          26,
          46,
          33,
          37,
          30,
          31,
          30,
          31,
          35,
          33,
          35,
          26,
          28,
          34,
          28,
          27,
          34,
          21,
          30,
          22,
          38,
          30,
          26,
          43,
          27,
          32,
          30,
          40,
          33,
          33,
          37,
          30,
          29
         ],
         "yaxis": "y"
        }
       ],
       "layout": {
        "legend": {
         "tracegroupgap": 0
        },
        "shapes": [
         {
          "line": {
           "color": "rgb(228,26,28)"
          },
          "path": "M6.126198777 25.044749353929937 L 6.245075517819095 25.12615264151409 L 6.363952258638191 25.207555929098245 L 6.482828999457286 25.288959216682397 L 6.6017057402763815 25.370362504266552 L 6.7205824810954775 25.451765791850704 L 6.839459221914573 25.53316907943486 L 6.958335962733669 25.614572367019015 L 7.077212703552764 25.695975654603167 L 7.196089444371859 25.77737894218732 L 7.314966185190954 25.858782229771474 L 7.43384292601005 25.94018551735563 L 7.552719666829145 26.021588804939782 L 7.6715964076482415 26.102992092523937 L 7.790473148467337 26.18439538010809 L 7.909349889286432 26.265798667692245 L 8.028226630105527 26.347201955276397 L 8.147103370924622 26.42860524286055 L 8.265980111743719 26.510008530444708 L 8.384856852562814 26.59141181802886 L 8.50373359338191 26.67281510561301 L 8.622610334201005 26.754218393197167 L 8.7414870750201 26.83562168078132 L 8.860363815839197 26.917024968365475 L 8.979240556658292 26.99842825594963 L 9.098117297477387 27.079831543533782 L 9.216994038296482 27.161234831117937 L 9.335870779115577 27.24263811870209 L 9.454747519934674 27.324041406286245 L 9.57362426075377 27.4054446938704 L 9.692501001572865 27.486847981454552 L 9.81137774239196 27.568251269038704 L 9.930254483211055 27.64965455662286 L 10.049131224030152 27.731057844207015 L 10.168007964849245 27.812461131791167 L 10.286884705668342 27.893864419375323 L 10.405761446487437 27.975267706959475 L 10.524638187306532 28.05667099454363 L 10.64351492812563 28.138074282127782 L 10.762391668944723 28.219477569711934 L 10.88126840976382 28.300880857296093 L 11.000145150582915 28.382284144880245 L 11.11902189140201 28.463687432464397 L 11.237898632221105 28.545090720048552 L 11.3567753730402 28.626494007632704 L 11.475652113859297 28.70789729521686 L 11.594528854678392 28.789300582801012 L 11.713405595497488 28.870703870385167 L 11.832282336316583 28.952107157969323 L 11.951159077135678 29.033510445553475 L 12.070035817954775 29.11491373313763 L 12.188912558773868 29.196317020721782 L 12.307789299592965 29.277720308305938 L 12.42666604041206 29.35912359589009 L 12.545542781231156 29.440526883474245 L 12.664419522050252 29.5219301710584 L 12.783296262869346 29.603333458642553 L 12.902173003688443 29.684736746226704 L 13.021049744507538 29.76614003381086 L 13.139926485326633 29.847543321395015 L 13.25880322614573 29.928946608979167 L 13.377679966964823 30.01034989656332 L 13.49655670778392 30.09175318414748 L 13.615433448603016 30.17315647173163 L 13.73431018942211 30.254559759315782 L 13.853186930241206 30.335963046899938 L 13.972063671060301 30.417366334484093 L 14.090940411879398 30.498769622068245 L 14.209817152698491 30.580172909652397 L 14.328693893517588 30.661576197236553 L 14.447570634336685 30.742979484820708 L 14.566447375155779 30.82438277240486 L 14.685324115974876 30.905786059989016 L 14.804200856793969 30.987189347573167 L 14.923077597613066 31.068592635157323 L 15.04195433843216 31.149995922741475 L 15.160831079251256 31.23139921032563 L 15.279707820070353 31.312802497909786 L 15.398584560889446 31.394205785493938 L 15.517461301708543 31.47560907307809 L 15.636338042527637 31.55701236066224 L 15.755214783346734 31.6384156482464 L 15.87409152416583 31.719818935830553 L 15.992968264984924 31.801222223414705 L 16.11184500580402 31.882625510998864 L 16.230721746623114 31.964028798583016 L 16.34959848744221 32.04543208616717 L 16.46847522826131 32.12683537375132 L 16.5873519690804 32.20823866133547 L 16.7062287098995 32.28964194891963 L 16.825105450718592 32.37104523650378 L 16.94398219153769 32.45244852408794 L 17.062858932356786 32.53385181167209 L 17.18173567317588 32.615255099256245 L 17.300612413994976 32.6966583868404 L 17.41948915481407 32.77806167442455 L 17.538365895633167 32.85946496200871 L 17.65724263645226 32.94086824959286 L 17.776119377271357 33.02227153717701 L 17.894996118090454 33.10367482476117 L 18.013872858909547 33.18507811234532 L 18.132749599728644 33.266481399929475 L 18.251626340547737 33.34788468751363 L 18.370503081366834 33.429287975097786 L 18.48937982218593 33.51069126268194 L 18.608256563005025 33.59209455026609 L 18.72713330382412 33.67349783785025 L 18.846010044643215 33.7549011254344 L 18.964886785462312 33.83630441301855 L 19.08376352628141 33.917707700602705 L 19.202640267100502 33.99911098818686 L 19.3215170079196 34.080514275771016 L 19.440393748738693 34.16191756335517 L 19.55927048955779 34.24332085093933 L 19.678147230376883 34.32472413852348 L 19.79702397119598 34.40612742610763 L 19.915900712015077 34.48753071369178 L 20.03477745283417 34.568934001275935 L 20.153654193653267 34.650337288860094 L 20.27253093447236 34.731740576444246 L 20.391407675291457 34.8131438640284 L 20.510284416110554 34.89454715161256 L 20.629161156929648 34.97595043919671 L 20.748037897748745 35.05735372678086 L 20.866914638567838 35.13875701436501 L 20.985791379386935 35.22016030194917 L 21.104668120206032 35.30156358953332 L 21.223544861025125 35.382966877117475 L 21.342421601844222 35.464370164701634 L 21.461298342663316 35.545773452285786 L 21.580175083482413 35.62717673986994 L 21.69905182430151 35.70858002745409 L 21.817928565120603 35.78998331503824 L 21.9368053059397 35.8713866026224 L 22.055682046758793 35.95278989020655 L 22.17455878757789 36.03419317779071 L 22.293435528396984 36.115596465374864 L 22.41231226921608 36.196999752959016 L 22.531189010035174 36.27840304054317 L 22.65006575085427 36.35980632812732 L 22.768942491673368 36.44120961571148 L 22.88781923249246 36.52261290329563 L 23.006695973311558 36.60401619087978 L 23.12557271413065 36.68541947846394 L 23.24444945494975 36.766822766048094 L 23.363326195768845 36.848226053632246 L 23.48220293658794 36.9296293412164 L 23.601079677407036 37.01103262880055 L 23.71995641822613 37.0924359163847 L 23.838833159045226 37.17383920396886 L 23.95770989986432 37.25524249155301 L 24.076586640683416 37.33664577913717 L 24.195463381502513 37.41804906672132 L 24.314340122321607 37.499452354305475 L 24.433216863140704 37.58085564188963 L 24.552093603959797 37.66225892947378 L 24.670970344778894 37.74366221705794 L 24.78984708559799 37.8250655046421 L 24.908723826417084 37.90646879222625 L 25.02760056723618 37.9878720798104 L 25.146477308055275 38.06927536739455 L 25.26535404887437 38.150678654978705 L 25.38423078969347 38.232081942562864 L 25.503107530512562 38.313485230147016 L 25.62198427133166 38.394888517731175 L 25.740861012150752 38.47629180531533 L 25.85973775296985 38.55769509289948 L 25.978614493788946 38.63909838048363 L 26.09749123460804 38.72050166806778 L 26.216367975427136 38.801904955651935 L 26.33524471624623 38.88330824323609 L 26.454121457065327 38.964711530820246 L 26.57299819788442 39.0461148184044 L 26.691874938703517 39.12751810598856 L 26.810751679522614 39.20892139357271 L 26.929628420341707 39.29032468115686 L 27.048505161160804 39.37172796874101 L 27.167381901979898 39.453131256325165 L 27.286258642798995 39.534534543909324 L 27.40513538361809 39.61593783149348 L 27.524012124437185 39.697341119077635 L 27.642888865256282 39.77874440666179 L 27.761765606075375 39.86014769424594 L 27.880642346894472 39.94155098183009 L 27.99951908771357 40.02295426941425 L 28.118395828532663 40.1043575569984 L 28.23727256935176 40.18576084458256 L 28.356149310170853 40.26716413216671 L 28.47502605098995 40.348567419750864 L 28.593902791809043 40.429970707335016 L 28.71277953262814 40.51137399491917 L 28.831656273447237 40.59277728250332 L 28.95053301426633 40.67418057008747 L 29.069409755085427 40.75558385767163 L 29.18828649590452 40.83698714525578 L 29.307163236723618 40.91839043283994 L 29.426039977542715 40.999793720424094 L 29.544916718361808 41.081197008008246 L 29.663793459180905 41.1626002955924 L 29.7826702 41.24400358317655",
          "type": "path"
         }
        ],
        "template": {
         "data": {
          "bar": [
           {
            "error_x": {
             "color": "#2a3f5f"
            },
            "error_y": {
             "color": "#2a3f5f"
            },
            "marker": {
             "line": {
              "color": "white",
              "width": 0.5
             },
             "pattern": {
              "fillmode": "overlay",
              "size": 10,
              "solidity": 0.2
             }
            },
            "type": "bar"
           }
          ],
          "barpolar": [
           {
            "marker": {
             "line": {
              "color": "white",
              "width": 0.5
             },
             "pattern": {
              "fillmode": "overlay",
              "size": 10,
              "solidity": 0.2
             }
            },
            "type": "barpolar"
           }
          ],
          "box": [
           {
            "boxpoints": "outliers",
            "notched": false,
            "type": "box"
           }
          ],
          "carpet": [
           {
            "aaxis": {
             "endlinecolor": "#2a3f5f",
             "gridcolor": "#C8D4E3",
             "linecolor": "#C8D4E3",
             "minorgridcolor": "#C8D4E3",
             "startlinecolor": "#2a3f5f"
            },
            "baxis": {
             "endlinecolor": "#2a3f5f",
             "gridcolor": "#C8D4E3",
             "linecolor": "#C8D4E3",
             "minorgridcolor": "#C8D4E3",
             "startlinecolor": "#2a3f5f"
            },
            "type": "carpet"
           }
          ],
          "choropleth": [
           {
            "colorbar": {
             "outlinewidth": 0,
             "ticks": ""
            },
            "type": "choropleth"
           }
          ],
          "contour": [
           {
            "colorbar": {
             "outlinewidth": 0,
             "ticks": ""
            },
            "colorscale": [
             [
              0,
              "#0d0887"
             ],
             [
              0.1111111111111111,
              "#46039f"
             ],
             [
              0.2222222222222222,
              "#7201a8"
             ],
             [
              0.3333333333333333,
              "#9c179e"
             ],
             [
              0.4444444444444444,
              "#bd3786"
             ],
             [
              0.5555555555555556,
              "#d8576b"
             ],
             [
              0.6666666666666666,
              "#ed7953"
             ],
             [
              0.7777777777777778,
              "#fb9f3a"
             ],
             [
              0.8888888888888888,
              "#fdca26"
             ],
             [
              1,
              "#f0f921"
             ]
            ],
            "type": "contour"
           }
          ],
          "contourcarpet": [
           {
            "colorbar": {
             "outlinewidth": 0,
             "ticks": ""
            },
            "type": "contourcarpet"
           }
          ],
          "heatmap": [
           {
            "colorbar": {
             "outlinewidth": 0,
             "ticks": ""
            },
            "colorscale": [
             [
              0,
              "#0d0887"
             ],
             [
              0.1111111111111111,
              "#46039f"
             ],
             [
              0.2222222222222222,
              "#7201a8"
             ],
             [
              0.3333333333333333,
              "#9c179e"
             ],
             [
              0.4444444444444444,
              "#bd3786"
             ],
             [
              0.5555555555555556,
              "#d8576b"
             ],
             [
              0.6666666666666666,
              "#ed7953"
             ],
             [
              0.7777777777777778,
              "#fb9f3a"
             ],
             [
              0.8888888888888888,
              "#fdca26"
             ],
             [
              1,
              "#f0f921"
             ]
            ],
            "type": "heatmap"
           }
          ],
          "heatmapgl": [
           {
            "colorbar": {
             "outlinewidth": 0,
             "ticks": ""
            },
            "colorscale": [
             [
              0,
              "#0d0887"
             ],
             [
              0.1111111111111111,
              "#46039f"
             ],
             [
              0.2222222222222222,
              "#7201a8"
             ],
             [
              0.3333333333333333,
              "#9c179e"
             ],
             [
              0.4444444444444444,
              "#bd3786"
             ],
             [
              0.5555555555555556,
              "#d8576b"
             ],
             [
              0.6666666666666666,
              "#ed7953"
             ],
             [
              0.7777777777777778,
              "#fb9f3a"
             ],
             [
              0.8888888888888888,
              "#fdca26"
             ],
             [
              1,
              "#f0f921"
             ]
            ],
            "type": "heatmapgl"
           }
          ],
          "histogram": [
           {
            "marker": {
             "line": {
              "width": 1
             },
             "pattern": {
              "fillmode": "overlay",
              "size": 10,
              "solidity": 0.2
             }
            },
            "type": "histogram"
           }
          ],
          "histogram2d": [
           {
            "colorbar": {
             "outlinewidth": 0,
             "ticks": ""
            },
            "colorscale": [
             [
              0,
              "#0d0887"
             ],
             [
              0.1111111111111111,
              "#46039f"
             ],
             [
              0.2222222222222222,
              "#7201a8"
             ],
             [
              0.3333333333333333,
              "#9c179e"
             ],
             [
              0.4444444444444444,
              "#bd3786"
             ],
             [
              0.5555555555555556,
              "#d8576b"
             ],
             [
              0.6666666666666666,
              "#ed7953"
             ],
             [
              0.7777777777777778,
              "#fb9f3a"
             ],
             [
              0.8888888888888888,
              "#fdca26"
             ],
             [
              1,
              "#f0f921"
             ]
            ],
            "type": "histogram2d"
           }
          ],
          "histogram2dcontour": [
           {
            "colorbar": {
             "outlinewidth": 0,
             "ticks": ""
            },
            "colorscale": [
             [
              0,
              "#0d0887"
             ],
             [
              0.1111111111111111,
              "#46039f"
             ],
             [
              0.2222222222222222,
              "#7201a8"
             ],
             [
              0.3333333333333333,
              "#9c179e"
             ],
             [
              0.4444444444444444,
              "#bd3786"
             ],
             [
              0.5555555555555556,
              "#d8576b"
             ],
             [
              0.6666666666666666,
              "#ed7953"
             ],
             [
              0.7777777777777778,
              "#fb9f3a"
             ],
             [
              0.8888888888888888,
              "#fdca26"
             ],
             [
              1,
              "#f0f921"
             ]
            ],
            "type": "histogram2dcontour"
           }
          ],
          "mesh3d": [
           {
            "colorbar": {
             "outlinewidth": 0,
             "ticks": ""
            },
            "type": "mesh3d"
           }
          ],
          "parcoords": [
           {
            "line": {
             "colorbar": {
              "outlinewidth": 0,
              "ticks": ""
             }
            },
            "type": "parcoords"
           }
          ],
          "pie": [
           {
            "automargin": true,
            "type": "pie"
           }
          ],
          "scatter": [
           {
            "fillpattern": {
             "fillmode": "overlay",
             "size": 10,
             "solidity": 0.2
            },
            "marker": {
             "opacity": 0.8
            },
            "type": "scatter"
           }
          ],
          "scatter3d": [
           {
            "line": {
             "colorbar": {
              "outlinewidth": 0,
              "ticks": ""
             }
            },
            "marker": {
             "colorbar": {
              "outlinewidth": 0,
              "ticks": ""
             },
             "opacity": 0.8
            },
            "type": "scatter3d"
           }
          ],
          "scattercarpet": [
           {
            "marker": {
             "colorbar": {
              "outlinewidth": 0,
              "ticks": ""
             }
            },
            "type": "scattercarpet"
           }
          ],
          "scattergeo": [
           {
            "marker": {
             "colorbar": {
              "outlinewidth": 0,
              "ticks": ""
             }
            },
            "type": "scattergeo"
           }
          ],
          "scattergl": [
           {
            "marker": {
             "colorbar": {
              "outlinewidth": 0,
              "ticks": ""
             }
            },
            "type": "scattergl"
           }
          ],
          "scattermapbox": [
           {
            "marker": {
             "colorbar": {
              "outlinewidth": 0,
              "ticks": ""
             }
            },
            "type": "scattermapbox"
           }
          ],
          "scatterpolar": [
           {
            "marker": {
             "colorbar": {
              "outlinewidth": 0,
              "ticks": ""
             }
            },
            "type": "scatterpolar"
           }
          ],
          "scatterpolargl": [
           {
            "marker": {
             "colorbar": {
              "outlinewidth": 0,
              "ticks": ""
             }
            },
            "type": "scatterpolargl"
           }
          ],
          "scatterternary": [
           {
            "marker": {
             "colorbar": {
              "outlinewidth": 0,
              "ticks": ""
             }
            },
            "type": "scatterternary"
           }
          ],
          "surface": [
           {
            "colorbar": {
             "outlinewidth": 0,
             "ticks": ""
            },
            "colorscale": [
             [
              0,
              "#0d0887"
             ],
             [
              0.1111111111111111,
              "#46039f"
             ],
             [
              0.2222222222222222,
              "#7201a8"
             ],
             [
              0.3333333333333333,
              "#9c179e"
             ],
             [
              0.4444444444444444,
              "#bd3786"
             ],
             [
              0.5555555555555556,
              "#d8576b"
             ],
             [
              0.6666666666666666,
              "#ed7953"
             ],
             [
              0.7777777777777778,
              "#fb9f3a"
             ],
             [
              0.8888888888888888,
              "#fdca26"
             ],
             [
              1,
              "#f0f921"
             ]
            ],
            "type": "surface"
           }
          ],
          "table": [
           {
            "cells": {
             "fill": {
              "color": "#EBF0F8"
             },
             "line": {
              "color": "white"
             }
            },
            "header": {
             "fill": {
              "color": "#C8D4E3"
             },
             "line": {
              "color": "white"
             }
            },
            "type": "table"
           }
          ]
         },
         "layout": {
          "annotationdefaults": {
           "arrowcolor": "#2a3f5f",
           "arrowhead": 0,
           "arrowwidth": 1
          },
          "autotypenumbers": "strict",
          "coloraxis": {
           "colorbar": {
            "outlinewidth": 0,
            "ticks": ""
           }
          },
          "colorscale": {
           "diverging": [
            [
             0,
             "#8e0152"
            ],
            [
             0.1,
             "#c51b7d"
            ],
            [
             0.2,
             "#de77ae"
            ],
            [
             0.3,
             "#f1b6da"
            ],
            [
             0.4,
             "#fde0ef"
            ],
            [
             0.5,
             "#f7f7f7"
            ],
            [
             0.6,
             "#e6f5d0"
            ],
            [
             0.7,
             "#b8e186"
            ],
            [
             0.8,
             "#7fbc41"
            ],
            [
             0.9,
             "#4d9221"
            ],
            [
             1,
             "#276419"
            ]
           ],
           "sequential": [
            [
             0,
             "#0d0887"
            ],
            [
             0.1111111111111111,
             "#46039f"
            ],
            [
             0.2222222222222222,
             "#7201a8"
            ],
            [
             0.3333333333333333,
             "#9c179e"
            ],
            [
             0.4444444444444444,
             "#bd3786"
            ],
            [
             0.5555555555555556,
             "#d8576b"
            ],
            [
             0.6666666666666666,
             "#ed7953"
            ],
            [
             0.7777777777777778,
             "#fb9f3a"
            ],
            [
             0.8888888888888888,
             "#fdca26"
            ],
            [
             1,
             "#f0f921"
            ]
           ],
           "sequentialminus": [
            [
             0,
             "#0d0887"
            ],
            [
             0.1111111111111111,
             "#46039f"
            ],
            [
             0.2222222222222222,
             "#7201a8"
            ],
            [
             0.3333333333333333,
             "#9c179e"
            ],
            [
             0.4444444444444444,
             "#bd3786"
            ],
            [
             0.5555555555555556,
             "#d8576b"
            ],
            [
             0.6666666666666666,
             "#ed7953"
            ],
            [
             0.7777777777777778,
             "#fb9f3a"
            ],
            [
             0.8888888888888888,
             "#fdca26"
            ],
            [
             1,
             "#f0f921"
            ]
           ]
          },
          "colorway": [
           "#636efa",
           "#EF553B",
           "#00cc96",
           "#ab63fa",
           "#FFA15A",
           "#19d3f3",
           "#FF6692",
           "#B6E880",
           "#FF97FF",
           "#FECB52"
          ],
          "font": {
           "color": "#2a3f5f"
          },
          "geo": {
           "bgcolor": "white",
           "lakecolor": "white",
           "landcolor": "white",
           "showlakes": true,
           "showland": true,
           "subunitcolor": "#C8D4E3"
          },
          "height": 400,
          "hoverlabel": {
           "align": "left"
          },
          "hovermode": "closest",
          "mapbox": {
           "style": "light"
          },
          "margin": {
           "b": 2,
           "l": 2,
           "r": 2,
           "t": 30
          },
          "paper_bgcolor": "white",
          "plot_bgcolor": "white",
          "polar": {
           "angularaxis": {
            "gridcolor": "#EBF0F8",
            "linecolor": "#EBF0F8",
            "ticks": ""
           },
           "bgcolor": "white",
           "radialaxis": {
            "gridcolor": "#EBF0F8",
            "linecolor": "#EBF0F8",
            "ticks": ""
           }
          },
          "scene": {
           "camera": {
            "eye": {
             "x": 1.5,
             "y": 1.5,
             "z": 0.1
            }
           },
           "xaxis": {
            "backgroundcolor": "white",
            "gridcolor": "#DFE8F3",
            "gridwidth": 2,
            "linecolor": "#EBF0F8",
            "showbackground": true,
            "ticks": "",
            "zerolinecolor": "#EBF0F8"
           },
           "yaxis": {
            "backgroundcolor": "white",
            "gridcolor": "#DFE8F3",
            "gridwidth": 2,
            "linecolor": "#EBF0F8",
            "showbackground": true,
            "ticks": "",
            "zerolinecolor": "#EBF0F8"
           },
           "zaxis": {
            "backgroundcolor": "white",
            "gridcolor": "#DFE8F3",
            "gridwidth": 2,
            "linecolor": "#EBF0F8",
            "showbackground": true,
            "ticks": "",
            "zerolinecolor": "#EBF0F8"
           }
          },
          "shapedefaults": {
           "line": {
            "color": "#2a3f5f"
           }
          },
          "ternary": {
           "aaxis": {
            "gridcolor": "#DFE8F3",
            "linecolor": "#A2B1C6",
            "ticks": ""
           },
           "baxis": {
            "gridcolor": "#DFE8F3",
            "linecolor": "#A2B1C6",
            "ticks": ""
           },
           "bgcolor": "white",
           "caxis": {
            "gridcolor": "#DFE8F3",
            "linecolor": "#A2B1C6",
            "ticks": ""
           }
          },
          "title": {
           "x": 0.5
          },
          "xaxis": {
           "automargin": true,
           "gridcolor": "#EBF0F8",
           "linecolor": "#EBF0F8",
           "linewidth": 2,
           "showline": true,
           "ticks": "",
           "title": {
            "standoff": 15
           },
           "zerolinecolor": "#EBF0F8",
           "zerolinewidth": 2
          },
          "yaxis": {
           "automargin": true,
           "gridcolor": "#EBF0F8",
           "linecolor": "#EBF0F8",
           "linewidth": 2,
           "showline": true,
           "ticks": "",
           "title": {
            "standoff": 15
           },
           "zerolinecolor": "#EBF0F8",
           "zerolinewidth": 2
          }
         }
        },
        "xaxis": {
         "anchor": "y",
         "domain": [
          0,
          1
         ],
         "title": {
          "text": "weight last year"
         }
        },
        "yaxis": {
         "anchor": "x",
         "domain": [
          0,
          1
         ],
         "title": {
          "text": "rescues last year"
         }
        }
       }
      }
     },
     "metadata": {},
     "output_type": "display_data"
    }
   ],
   "source": [
    "# Plot the fitted model against this new dataset. \n",
    "\n",
    "graphing.scatter_2D(new_data, \"weight_last_year\", \"rescues_last_year\", trendline = lambda x: model.params[1] * x + model.params[0])"
   ]
  },
  {
   "cell_type": "code",
   "execution_count": 19,
   "metadata": {},
   "outputs": [
    {
     "name": "stdout",
     "output_type": "stream",
     "text": [
      "MSE = 20.406905 \n"
     ]
    }
   ],
   "source": [
    "correct_labels = new_data['rescues_last_year']\n",
    "predicted = model.predict(new_data['weight_last_year'])\n",
    "\n",
    "MSE = mse(correct_labels, predicted)\n",
    "print('MSE = %f ' % MSE)\n",
    "\n",
    "#MSE (Mean squared error)"
   ]
  },
  {
   "attachments": {},
   "cell_type": "markdown",
   "metadata": {},
   "source": [
    "As expected, the model performs better on the training dataset as it does on the unseen dataset. This is simply due to overfitting, as we saw previously.\n",
    "\n",
    "Interestingly, the model performs better on this unseen dataset than it does on the test set. This is because our previous test set was quite small, and thus not a very good representation of 'real world' data. By contrast, this unseen dataset is large and a much better representation of data we'll find outside of the lab. In essence, this shows us that part of performance difference we see between training and test is due to model overfitting, and part of the error is due to the test set not being perfect. In the next exercises, we'll explore the trade-off we have to make between training and test dataset sizes. "
   ]
  }
 ],
 "metadata": {
  "kernelspec": {
   "display_name": "myenv",
   "language": "python",
   "name": "python3"
  },
  "language_info": {
   "codemirror_mode": {
    "name": "ipython",
    "version": 3
   },
   "file_extension": ".py",
   "mimetype": "text/x-python",
   "name": "python",
   "nbconvert_exporter": "python",
   "pygments_lexer": "ipython3",
   "version": "3.8.8"
  },
  "orig_nbformat": 4
 },
 "nbformat": 4,
 "nbformat_minor": 2
}
